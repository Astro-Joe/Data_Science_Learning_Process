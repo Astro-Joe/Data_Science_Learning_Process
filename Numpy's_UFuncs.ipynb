{
 "cells": [
  {
   "cell_type": "code",
   "execution_count": 2,
   "id": "1ef1c972-6382-4eca-9064-5208906c03ad",
   "metadata": {},
   "outputs": [],
   "source": [
    "import numpy as np\n",
    "np.random.seed(0)"
   ]
  },
  {
   "cell_type": "code",
   "execution_count": 3,
   "id": "e403b045-d27a-4555-b2fc-7e5ed609c96c",
   "metadata": {},
   "outputs": [],
   "source": [
    "def compute_reciprocal(values):\n",
    "    \"\"\"Function to compute the reciprocal of all elements in a given array\"\"\"\n",
    "    output = np.empty(len(values))\n",
    "    for i in range(len(values)):\n",
    "        output[i] = 1.0/values[i]\n",
    "    return output"
   ]
  },
  {
   "cell_type": "code",
   "execution_count": 4,
   "id": "c55b5832-1906-4f3c-9270-2851bc2d87f2",
   "metadata": {},
   "outputs": [
    {
     "data": {
      "text/plain": [
       "array([0.16666667, 1.        , 0.25      , 0.25      , 0.125     ])"
      ]
     },
     "execution_count": 4,
     "metadata": {},
     "output_type": "execute_result"
    }
   ],
   "source": [
    "values = np.random.randint(1, 10, size = 5) #geneates an array of five elements within range 1 -10.\n",
    "compute_reciprocal(values)"
   ]
  },
  {
   "cell_type": "code",
   "execution_count": 5,
   "id": "4365af77-e98f-418b-9a14-3d1b1ff23298",
   "metadata": {},
   "outputs": [],
   "source": [
    "#But this process is slow...."
   ]
  },
  {
   "cell_type": "code",
   "execution_count": 12,
   "id": "bc3d627e-9b80-4d58-809a-82e60cdb29c0",
   "metadata": {},
   "outputs": [],
   "source": [
    "#big_array = np.random.randint(1, 100, size = 1000000)\n",
    "#%timeit compute_reciprocal(big_array)"
   ]
  },
  {
   "cell_type": "code",
   "execution_count": 7,
   "id": "19fcca7c-d4c0-4d07-a3fd-701549029cb4",
   "metadata": {},
   "outputs": [
    {
     "name": "stdout",
     "output_type": "stream",
     "text": [
      "18.6 ms ± 1.32 ms per loop (mean ± std. dev. of 7 runs, 10 loops each)\n"
     ]
    }
   ],
   "source": [
    "%timeit (1.0 / big_array)"
   ]
  },
  {
   "cell_type": "code",
   "execution_count": 8,
   "id": "8df3eec9-8f96-4de0-a62d-2da05fce21d1",
   "metadata": {},
   "outputs": [],
   "source": [
    "# Numpy's UFuncs allows for the operation of all arithmetics on an array\n",
    "# Instead of writing a function to iterate the process for all elements \n",
    "# in the array which is much slower.\n",
    "# It can be unary UFuncs(for one input) and \n",
    "# binary UFuncs(for two inputs)"
   ]
  },
  {
   "cell_type": "code",
   "execution_count": 9,
   "id": "940a27ca-9205-4635-9216-422d6c03aeb5",
   "metadata": {},
   "outputs": [
    {
     "name": "stdout",
     "output_type": "stream",
     "text": [
      "[ 5  6  7  8  9 10 11]\n",
      "[-5 -4 -3 -2 -1  0  1]\n",
      "[ 0 -1 -2 -3 -4 -5 -6]\n",
      "[ 0  5 10 15 20 25 30]\n",
      "[0.  0.2 0.4 0.6 0.8 1.  1.2]\n",
      "[0 0 0 0 0 1 1]\n",
      "[   0    1   32  243 1024 3125 7776]\n",
      "[0 1 0 1 0 1 0]\n"
     ]
    }
   ],
   "source": [
    "x = np.arange(7)\n",
    "print(np.add(x, 5))\n",
    "print(np.subtract(x, 5))\n",
    "print(np.negative(x))\n",
    "print(np.multiply(x, 5))\n",
    "print(np.divide(x, 5))\n",
    "print(np.floor_divide(x, 5))\n",
    "print(np.power(x, 5))\n",
    "print(np.mod(x, 2))"
   ]
  },
  {
   "cell_type": "code",
   "execution_count": 10,
   "id": "90d58264-4168-4c1f-8f81-8e03a45ae9d3",
   "metadata": {},
   "outputs": [],
   "source": [
    "# The absolute valie of an array can also be found either gy\n",
    "# using numpy's ufuncs or python's native func."
   ]
  },
  {
   "cell_type": "code",
   "execution_count": 11,
   "id": "3a31788f-19e0-4ae4-8606-72c74f607c16",
   "metadata": {},
   "outputs": [
    {
     "name": "stdout",
     "output_type": "stream",
     "text": [
      "[0 1 2 3 4 5 6]\n",
      "[0 1 2 3 4 5 6]\n"
     ]
    }
   ],
   "source": [
    "print(abs(x)) # python's native \n",
    "print(np.absolute(x)) # Numpy's UFunc"
   ]
  },
  {
   "cell_type": "code",
   "execution_count": 13,
   "id": "a4e9194d-3d21-407a-9399-8e662d86fd08",
   "metadata": {},
   "outputs": [
    {
     "data": {
      "text/plain": [
       "\u001b[31mType:\u001b[39m        float\n",
       "\u001b[31mString form:\u001b[39m 3.141592653589793\n",
       "\u001b[31mDocstring:\u001b[39m   Convert a string or number to a floating point number, if possible."
      ]
     },
     "metadata": {},
     "output_type": "display_data"
    }
   ],
   "source": [
    "np.pi?"
   ]
  },
  {
   "cell_type": "code",
   "execution_count": null,
   "id": "d6b4fccb-54f1-4ca9-a60f-d07246828883",
   "metadata": {},
   "outputs": [],
   "source": [
    "# Trigonometric UFuncs"
   ]
  },
  {
   "cell_type": "code",
   "execution_count": 14,
   "id": "eb3e24e7-777a-4ba6-8499-edf2a02c23d5",
   "metadata": {},
   "outputs": [],
   "source": [
    "theta = np.linspace(0, np.pi, 3)\t"
   ]
  },
  {
   "cell_type": "code",
   "execution_count": null,
   "id": "77db7d75-2639-4ddb-ada2-f7cad2d2e334",
   "metadata": {},
   "outputs": [],
   "source": [
    "print(\"theta =\", theta)\n",
    "print(\"sin theta =\", np.sin(theta))\n",
    "print(\"cos theta =\", np.cos(theta))\n",
    "print(\"tan theta =\", np.ta"
   ]
  }
 ],
 "metadata": {
  "kernelspec": {
   "display_name": "Python 3 (ipykernel)",
   "language": "python",
   "name": "python3"
  },
  "language_info": {
   "codemirror_mode": {
    "name": "ipython",
    "version": 3
   },
   "file_extension": ".py",
   "mimetype": "text/x-python",
   "name": "python",
   "nbconvert_exporter": "python",
   "pygments_lexer": "ipython3",
   "version": "3.11.4"
  }
 },
 "nbformat": 4,
 "nbformat_minor": 5
}
