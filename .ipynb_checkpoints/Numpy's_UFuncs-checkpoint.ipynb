{
 "cells": [
  {
   "cell_type": "code",
   "execution_count": 1,
   "id": "1ef1c972-6382-4eca-9064-5208906c03ad",
   "metadata": {},
   "outputs": [],
   "source": [
    "import numpy as np\n",
    "np.random.seed(0)"
   ]
  },
  {
   "cell_type": "code",
   "execution_count": 3,
   "id": "e403b045-d27a-4555-b2fc-7e5ed609c96c",
   "metadata": {},
   "outputs": [],
   "source": [
    "def compute_reciprocal(values):\n",
    "    \"\"\"Function to compute the reciprocal of all elements in a given array\"\"\"\n",
    "    output = np.empty(len(values))\n",
    "    for i in range(len(values)):\n",
    "        output[i] = 1.0/values[i]\n",
    "    return output"
   ]
  },
  {
   "cell_type": "code",
   "execution_count": 4,
   "id": "c55b5832-1906-4f3c-9270-2851bc2d87f2",
   "metadata": {},
   "outputs": [
    {
     "data": {
      "text/plain": [
       "array([0.16666667, 1.        , 0.25      , 0.25      , 0.125     ])"
      ]
     },
     "execution_count": 4,
     "metadata": {},
     "output_type": "execute_result"
    }
   ],
   "source": [
    "values = np.random.randint(1, 10, size = 5) #geneates an array of five elements within range 1 -10.\n",
    "compute_reciprocal(values)"
   ]
  },
  {
   "cell_type": "code",
   "execution_count": 5,
   "id": "4365af77-e98f-418b-9a14-3d1b1ff23298",
   "metadata": {},
   "outputs": [],
   "source": [
    "#But this process is slow...."
   ]
  },
  {
   "cell_type": "code",
   "execution_count": 6,
   "id": "bc3d627e-9b80-4d58-809a-82e60cdb29c0",
   "metadata": {},
   "outputs": [],
   "source": [
    "#big_array = np.random.randint(1, 100, size = 1000000)\n",
    "#%timeit compute_reciprocal(big_array)"
   ]
  },
  {
   "cell_type": "code",
   "execution_count": 7,
   "id": "19fcca7c-d4c0-4d07-a3fd-701549029cb4",
   "metadata": {},
   "outputs": [],
   "source": [
    "#%timeit (1.0 / big_array)"
   ]
  },
  {
   "cell_type": "code",
   "execution_count": 8,
   "id": "8df3eec9-8f96-4de0-a62d-2da05fce21d1",
   "metadata": {},
   "outputs": [],
   "source": [
    "# Numpy's UFuncs allows for the operation of all arithmetics on an array\n",
    "# Instead of writing a function to iterate the process for all elements \n",
    "# in the array which is much slower.\n",
    "# It can be unary UFuncs(for one input) and \n",
    "# binary UFuncs(for two inputs)"
   ]
  },
  {
   "cell_type": "code",
   "execution_count": 9,
   "id": "940a27ca-9205-4635-9216-422d6c03aeb5",
   "metadata": {},
   "outputs": [
    {
     "name": "stdout",
     "output_type": "stream",
     "text": [
      "[ 5  6  7  8  9 10 11]\n",
      "[-5 -4 -3 -2 -1  0  1]\n",
      "[ 0 -1 -2 -3 -4 -5 -6]\n",
      "[ 0  5 10 15 20 25 30]\n",
      "[0.  0.2 0.4 0.6 0.8 1.  1.2]\n",
      "[0 0 0 0 0 1 1]\n",
      "[   0    1   32  243 1024 3125 7776]\n",
      "[0 1 0 1 0 1 0]\n"
     ]
    }
   ],
   "source": [
    "x = np.arange(7)\n",
    "print(np.add(x, 5))\n",
    "print(np.subtract(x, 5))\n",
    "print(np.negative(x))\n",
    "print(np.multiply(x, 5))\n",
    "print(np.divide(x, 5))\n",
    "print(np.floor_divide(x, 5))\n",
    "print(np.power(x, 5))\n",
    "print(np.mod(x, 2))"
   ]
  },
  {
   "cell_type": "code",
   "execution_count": 10,
   "id": "90d58264-4168-4c1f-8f81-8e03a45ae9d3",
   "metadata": {},
   "outputs": [],
   "source": [
    "# The absolute valie of an array can also be found either gy\n",
    "# using numpy's ufuncs or python's native func."
   ]
  },
  {
   "cell_type": "code",
   "execution_count": 11,
   "id": "3a31788f-19e0-4ae4-8606-72c74f607c16",
   "metadata": {},
   "outputs": [
    {
     "name": "stdout",
     "output_type": "stream",
     "text": [
      "[0 1 2 3 4 5 6]\n",
      "[0 1 2 3 4 5 6]\n"
     ]
    }
   ],
   "source": [
    "print(abs(x)) # python's native \n",
    "print(np.absolute(x)) # Numpy's UFunc"
   ]
  },
  {
   "cell_type": "code",
   "execution_count": 12,
   "id": "a4e9194d-3d21-407a-9399-8e662d86fd08",
   "metadata": {},
   "outputs": [
    {
     "data": {
      "text/plain": [
       "\u001b[31mType:\u001b[39m        float\n",
       "\u001b[31mString form:\u001b[39m 3.141592653589793\n",
       "\u001b[31mDocstring:\u001b[39m   Convert a string or number to a floating point number, if possible."
      ]
     },
     "metadata": {},
     "output_type": "display_data"
    }
   ],
   "source": [
    "np.pi?"
   ]
  },
  {
   "cell_type": "code",
   "execution_count": 13,
   "id": "d6b4fccb-54f1-4ca9-a60f-d07246828883",
   "metadata": {},
   "outputs": [],
   "source": [
    "# Trigonometric UFuncs"
   ]
  },
  {
   "cell_type": "code",
   "execution_count": 14,
   "id": "eb3e24e7-777a-4ba6-8499-edf2a02c23d5",
   "metadata": {},
   "outputs": [],
   "source": [
    "theta = np.linspace(0, np.pi, 3)\t"
   ]
  },
  {
   "cell_type": "code",
   "execution_count": 15,
   "id": "77db7d75-2639-4ddb-ada2-f7cad2d2e334",
   "metadata": {},
   "outputs": [
    {
     "name": "stdout",
     "output_type": "stream",
     "text": [
      "theta = [0.         1.57079633 3.14159265]\n",
      "sin theta = [0.0000000e+00 1.0000000e+00 1.2246468e-16]\n",
      "cos theta = [ 1.000000e+00  6.123234e-17 -1.000000e+00]\n",
      "tan theta = [ 0.00000000e+00  1.63312394e+16 -1.22464680e-16]\n"
     ]
    }
   ],
   "source": [
    "print(\"theta =\", theta)\n",
    "print(\"sin theta =\", np.sin(theta))\n",
    "print(\"cos theta =\", np.cos(theta))\n",
    "print(\"tan theta =\", np.tan(theta))\t"
   ]
  },
  {
   "cell_type": "code",
   "execution_count": 16,
   "id": "41900890-2662-46ee-84dc-e1bf92b9ed6c",
   "metadata": {},
   "outputs": [],
   "source": [
    "# Exponential and logarithm UFuncs"
   ]
  },
  {
   "cell_type": "code",
   "execution_count": 17,
   "id": "74e8d56d-7a4e-491b-aab3-2634736e6e3a",
   "metadata": {},
   "outputs": [
    {
     "name": "stdout",
     "output_type": "stream",
     "text": [
      "x = [1, 2, 3]\n",
      "e^x = [ 2.71828183  7.3890561  20.08553692]\n",
      "2^x = [2. 4. 8.]\n",
      "3^x = [ 3  9 27]\n",
      "x^3 = [ 1  8 27]\n"
     ]
    }
   ],
   "source": [
    "x = [1, 2, 3]\n",
    "print(\"x =\", x)\n",
    "print(\"e^x =\", np.exp(x))\n",
    "print(\"2^x =\", np.exp2(x))\n",
    "print(\"3^x =\", np.power(3, x))\n",
    "print(\"x^3 =\", np.power(x, 3))"
   ]
  },
  {
   "cell_type": "code",
   "execution_count": 18,
   "id": "c1421f19-9bd1-46ff-9bcd-a54c5d00dadc",
   "metadata": {},
   "outputs": [
    {
     "name": "stdout",
     "output_type": "stream",
     "text": [
      "x = [1, 2, 4, 10]\n",
      "ln(x) = [0.         0.69314718 1.38629436 2.30258509]\n",
      "log2(x) = [0.         1.         2.         3.32192809]\n",
      "log10(x) = [0.         0.30103    0.60205999 1.        ]\n"
     ]
    }
   ],
   "source": [
    "x = [1, 2, 4, 10]\n",
    "print(\"x =\", x)\n",
    "print(\"ln(x) =\", np.log(x))\n",
    "print(\"log2(x) =\", np.log2(x))\n",
    "print(\"log10(x) =\", np.log10(x))"
   ]
  },
  {
   "cell_type": "code",
   "execution_count": 19,
   "id": "67ea04ed-fedf-454f-9601-feee9d60555a",
   "metadata": {},
   "outputs": [],
   "source": [
    "# Storing the output of a particular UFuncs directly into\n",
    "# a specific memory location\n",
    "# This does not make any difference in small computations\n",
    "# But when handling very large arrays a lot of memory is saved by directin\n",
    "# the output to the specific  memory location"
   ]
  },
  {
   "cell_type": "code",
   "execution_count": 20,
   "id": "5728f32a-3729-401d-aabc-d0abdbec040f",
   "metadata": {},
   "outputs": [
    {
     "name": "stdout",
     "output_type": "stream",
     "text": [
      "[0. 2. 4. 6. 8.]\n"
     ]
    }
   ],
   "source": [
    "x = np.arange(5)\n",
    "y = np.empty(5)\n",
    "np.multiply(2, x, out=y) # The \"out\" parameter is used to dore\n",
    "print(y)"
   ]
  },
  {
   "cell_type": "code",
   "execution_count": 21,
   "id": "18de45ea-8d60-4f92-9e96-02fca4d282b9",
   "metadata": {},
   "outputs": [
    {
     "name": "stdout",
     "output_type": "stream",
     "text": [
      "[ 1.  0.  2.  0.  4.  0.  8.  0. 16.  0.]\n"
     ]
    }
   ],
   "source": [
    "b = np.zeros(10)\n",
    "np.power(2, x, out=b[::2])\n",
    "print(b)"
   ]
  },
  {
   "cell_type": "code",
   "execution_count": 22,
   "id": "f1a603cf-16b1-4c36-90ae-245f5f9e9205",
   "metadata": {},
   "outputs": [],
   "source": [
    "# .reduce() vs .accumulate()"
   ]
  },
  {
   "cell_type": "code",
   "execution_count": 23,
   "id": "f346b59b-8ae6-43a0-8429-6801dc085d31",
   "metadata": {},
   "outputs": [],
   "source": [
    "# .reduce() is used to perform an operation repeatitively on the elements of an\n",
    "# array until one single result remains.\n",
    "\n",
    "# .accumulate() is used to perform an operation repeatitively on the elements\n",
    "# of an array but unlike .reduce() it also shows the intermediate computations\n",
    "# before getting the final result."
   ]
  },
  {
   "cell_type": "code",
   "execution_count": 24,
   "id": "7edbd0f3-23c3-41b4-ab16-5623cae061be",
   "metadata": {},
   "outputs": [
    {
     "data": {
      "text/plain": [
       "15"
      ]
     },
     "execution_count": 24,
     "metadata": {},
     "output_type": "execute_result"
    }
   ],
   "source": [
    "array_1 = np.arange(1, 6)\n",
    "np.add.reduce(array_1)"
   ]
  },
  {
   "cell_type": "code",
   "execution_count": 25,
   "id": "cf512d92-ccae-4ffa-a3df-11d3dbd2eb6d",
   "metadata": {},
   "outputs": [
    {
     "data": {
      "text/plain": [
       "array([ 1,  3,  6, 10, 15])"
      ]
     },
     "execution_count": 25,
     "metadata": {},
     "output_type": "execute_result"
    }
   ],
   "source": [
    "np.add.accumulate(array_1)"
   ]
  },
  {
   "cell_type": "code",
   "execution_count": 26,
   "id": "8a126f0f-26bb-408d-9fcc-1d210c8faf4b",
   "metadata": {},
   "outputs": [],
   "source": [
    "# .accumulate() work for .add and .prod\n",
    "# It also works like .cumsum() and .cumprod()"
   ]
  },
  {
   "cell_type": "code",
   "execution_count": 27,
   "id": "0051244a-ef1b-497a-83d2-30713731c59a",
   "metadata": {},
   "outputs": [],
   "source": [
    "# np.outer()\n",
    "# This UFunc is used to perform product on one array using the elements\n",
    "# of another array. It is similar to Matrix multiplication.\n",
    "\n",
    "# The operation can also be changed i.e np.add.outer() performs addition\n",
    "# instead of multiplication."
   ]
  },
  {
   "cell_type": "code",
   "execution_count": 28,
   "id": "8b27a9a7-f59c-4588-922a-70f8aec45bbe",
   "metadata": {},
   "outputs": [
    {
     "data": {
      "text/plain": [
       "array([[ 4,  5],\n",
       "       [ 8, 10],\n",
       "       [12, 15],\n",
       "       [16, 20],\n",
       "       [20, 25]])"
      ]
     },
     "execution_count": 28,
     "metadata": {},
     "output_type": "execute_result"
    }
   ],
   "source": [
    "z = [1, 2, 3, 4, 5]\n",
    "k = [4, 5]\n",
    "np.outer(z, k)"
   ]
  },
  {
   "cell_type": "code",
   "execution_count": 29,
   "id": "7d20417d-7282-46ca-bd57-d038035235c6",
   "metadata": {},
   "outputs": [
    {
     "data": {
      "text/plain": [
       "array([[ 5,  6],\n",
       "       [ 6,  7],\n",
       "       [ 7,  8],\n",
       "       [ 8,  9],\n",
       "       [ 9, 10]])"
      ]
     },
     "execution_count": 29,
     "metadata": {},
     "output_type": "execute_result"
    }
   ],
   "source": [
    "np.add.outer(z, k)"
   ]
  },
  {
   "cell_type": "code",
   "execution_count": 30,
   "id": "8e0fe97b-503a-49ee-ad19-58b0e7ff09b9",
   "metadata": {},
   "outputs": [],
   "source": [
    "big_array_2 = np.random.random(10000)"
   ]
  },
  {
   "cell_type": "code",
   "execution_count": 31,
   "id": "09bcd851-ebf5-4e9e-8646-59574994d40a",
   "metadata": {},
   "outputs": [
    {
     "name": "stdout",
     "output_type": "stream",
     "text": [
      "2.44 ms ± 15.9 μs per loop (mean ± std. dev. of 7 runs, 100 loops each)\n"
     ]
    }
   ],
   "source": [
    "%timeit sum(big_array_2)"
   ]
  },
  {
   "cell_type": "code",
   "execution_count": 32,
   "id": "7d776166-a1bc-4297-939b-7d2e96166168",
   "metadata": {},
   "outputs": [
    {
     "name": "stdout",
     "output_type": "stream",
     "text": [
      "25.7 μs ± 7.81 μs per loop (mean ± std. dev. of 7 runs, 10,000 loops each)\n"
     ]
    }
   ],
   "source": [
    "%timeit np.sum(big_array_2)  # numpy's sum function runs faster"
   ]
  },
  {
   "cell_type": "code",
   "execution_count": 33,
   "id": "6a2479fc-9fdc-4c46-9132-9ce5d0bee19a",
   "metadata": {},
   "outputs": [
    {
     "data": {
      "text/plain": [
       "(7.2449638492178e-05, 0.9999779517807228)"
      ]
     },
     "execution_count": 33,
     "metadata": {},
     "output_type": "execute_result"
    }
   ],
   "source": [
    "np.min(big_array_2), np.max(big_array_2)  # minimum and maximum of the elements in an array"
   ]
  },
  {
   "cell_type": "code",
   "execution_count": 34,
   "id": "ae41c2d8-6c29-4c1b-947f-d66e0ebf512e",
   "metadata": {},
   "outputs": [
    {
     "name": "stdout",
     "output_type": "stream",
     "text": [
      "[[0.01178774 0.99626787 0.48819666 0.37202476]\n",
      " [0.19617209 0.80719225 0.70575272 0.0015562 ]\n",
      " [0.77122667 0.11148275 0.94863268 0.33273608]]\n"
     ]
    }
   ],
   "source": [
    "# Aggregation of a multidimensional array\n",
    "L = np.random.random((3, 4))\n",
    "print(L)"
   ]
  },
  {
   "cell_type": "code",
   "execution_count": 35,
   "id": "61f801e2-85c0-42b2-a58d-bcf6bf446fd9",
   "metadata": {},
   "outputs": [
    {
     "name": "stdout",
     "output_type": "stream",
     "text": [
      "5.743028472285715\n",
      "[1.86827703 1.71067326 2.16407818]\n",
      "[0.01178774 0.0015562  0.11148275]\n",
      "[0.77122667 0.99626787 0.94863268 0.37202476]\n"
     ]
    }
   ],
   "source": [
    "print(np.sum(L))\n",
    "print(np.sum(L, axis=1))\n",
    "print(np.min(L, axis=1))\n",
    "print(np.max(L, axis=0))"
   ]
  },
  {
   "cell_type": "code",
   "execution_count": null,
   "id": "583ae7f2-ca54-49a0-acd4-8e6462a249e8",
   "metadata": {},
   "outputs": [],
   "source": [
    "# Broadcasting is a method by which numpy performs operations\n",
    "# on arrays of different dimensions."
   ]
  },
  {
   "cell_type": "code",
   "execution_count": 13,
   "id": "84ef8282-c0a5-437a-b179-940531a4d798",
   "metadata": {},
   "outputs": [
    {
     "name": "stdout",
     "output_type": "stream",
     "text": [
      "[0 1 2]\n",
      "[[0]\n",
      " [1]\n",
      " [2]]\n"
     ]
    }
   ],
   "source": [
    "# Example in which both arrays have to be brodcasted.\n",
    "a = np.arange(3)\n",
    "b = np.arange(3)[:, np.newaxis]\n",
    "\n",
    "print(a)\n",
    "print(b)"
   ]
  },
  {
   "cell_type": "code",
   "execution_count": 43,
   "id": "0f9650e5-148f-4550-ab64-02fffe612944",
   "metadata": {},
   "outputs": [
    {
     "data": {
      "text/plain": [
       "array([[0, 1, 2],\n",
       "       [1, 2, 3],\n",
       "       [2, 3, 4]])"
      ]
     },
     "execution_count": 43,
     "metadata": {},
     "output_type": "execute_result"
    }
   ],
   "source": [
    "a + b"
   ]
  },
  {
   "cell_type": "code",
   "execution_count": 1,
   "id": "6cb934f3-80a1-4aef-83bd-fc14744364b0",
   "metadata": {},
   "outputs": [],
   "source": [
    "# Broadcasting a 1-d array over a 3-d array"
   ]
  },
  {
   "cell_type": "code",
   "execution_count": 11,
   "id": "c302e10d-41c3-473d-bec3-6dbafd99bed7",
   "metadata": {},
   "outputs": [
    {
     "name": "stdout",
     "output_type": "stream",
     "text": [
      "[[6 3 5]\n",
      " [8 7 9]\n",
      " [9 2 7]]\n"
     ]
    }
   ],
   "source": [
    "M = np.random.randint(1, 10, size=(3, 3))\n",
    "print(M)"
   ]
  },
  {
   "cell_type": "code",
   "execution_count": 14,
   "id": "8415b032-6ce4-49b1-a63f-a1227daadd42",
   "metadata": {},
   "outputs": [
    {
     "data": {
      "text/plain": [
       "array([[ 6,  4,  7],\n",
       "       [ 8,  8, 11],\n",
       "       [ 9,  3,  9]])"
      ]
     },
     "execution_count": 14,
     "metadata": {},
     "output_type": "execute_result"
    }
   ],
   "source": [
    "M + a"
   ]
  },
  {
   "cell_type": "code",
   "execution_count": null,
   "id": "314f4e18-cf37-4880-a2fd-d110b7e325c5",
   "metadata": {},
   "outputs": [],
   "source": [
    "# Instance when the two arrays to be broadcasted are not compatible"
   ]
  },
  {
   "cell_type": "code",
   "execution_count": 18,
   "id": "ceb25f54-5b3f-40df-b5f6-88505433211f",
   "metadata": {},
   "outputs": [
    {
     "name": "stdout",
     "output_type": "stream",
     "text": [
      "[[ 1 19]\n",
      " [ 4 18]\n",
      " [15  8]]\n"
     ]
    }
   ],
   "source": [
    "N = np.random.randint(1, 20, size=(3,2))\n",
    "print(N)"
   ]
  },
  {
   "cell_type": "code",
   "execution_count": 19,
   "id": "3818da67-02d9-46f8-9d8c-ac3fd4001720",
   "metadata": {},
   "outputs": [
    {
     "ename": "ValueError",
     "evalue": "operands could not be broadcast together with shapes (3,2) (3,) ",
     "output_type": "error",
     "traceback": [
      "\u001b[1;31m---------------------------------------------------------------------------\u001b[0m",
      "\u001b[1;31mValueError\u001b[0m                                Traceback (most recent call last)",
      "Cell \u001b[1;32mIn[19], line 1\u001b[0m\n\u001b[1;32m----> 1\u001b[0m N \u001b[38;5;241m+\u001b[39m a\n",
      "\u001b[1;31mValueError\u001b[0m: operands could not be broadcast together with shapes (3,2) (3,) "
     ]
    }
   ],
   "source": [
    "N + a"
   ]
  },
  {
   "cell_type": "code",
   "execution_count": null,
   "id": "4df0fd9b-64fe-47f1-a37a-27ee960cb2fa",
   "metadata": {},
   "outputs": [],
   "source": [
    "# Centering of an array"
   ]
  },
  {
   "cell_type": "code",
   "execution_count": 2,
   "id": "42bcd17f-7ee9-4e01-a842-a443a7957a81",
   "metadata": {},
   "outputs": [],
   "source": [
    "X = np.random.random((10, 3))"
   ]
  },
  {
   "cell_type": "code",
   "execution_count": 15,
   "id": "9dd471e7-feff-4c15-84ac-7c7b9730e6a1",
   "metadata": {},
   "outputs": [
    {
     "data": {
      "text/plain": [
       "array([0.52101579, 0.62614181, 0.59620338])"
      ]
     },
     "execution_count": 15,
     "metadata": {},
     "output_type": "execute_result"
    }
   ],
   "source": [
    "Xmean = X.mean(0)\n",
    "Xmean"
   ]
  },
  {
   "cell_type": "code",
   "execution_count": 16,
   "id": "067e6dd2-da8c-4cfb-80c2-bc7aa81d8862",
   "metadata": {},
   "outputs": [],
   "source": [
    "X_centred = X - Xmean"
   ]
  },
  {
   "cell_type": "code",
   "execution_count": 17,
   "id": "ef17f8ac-8d86-43ba-8212-16df8b305944",
   "metadata": {},
   "outputs": [
    {
     "data": {
      "text/plain": [
       "array([1.11022302e-17, 1.22124533e-16, 3.33066907e-17])"
      ]
     },
     "execution_count": 17,
     "metadata": {},
     "output_type": "execute_result"
    }
   ],
   "source": [
    "X_centred.mean(0)"
   ]
  },
  {
   "cell_type": "code",
   "execution_count": 2,
   "id": "4ee7d777-3668-4a9c-9727-a51b390c9eff",
   "metadata": {},
   "outputs": [],
   "source": [
    "# Comparison Operators as Ufuncs"
   ]
  },
  {
   "cell_type": "code",
   "execution_count": 13,
   "id": "2a7d94db-39c9-4e64-babe-591c42d050f0",
   "metadata": {},
   "outputs": [],
   "source": [
    "x = np.array([1, 2, 3, 4, 5])"
   ]
  },
  {
   "cell_type": "code",
   "execution_count": 23,
   "id": "6c488da0-b86f-4daa-ac77-feb3fa4d5fe7",
   "metadata": {},
   "outputs": [
    {
     "data": {
      "text/plain": [
       "array([ True,  True, False, False, False])"
      ]
     },
     "execution_count": 23,
     "metadata": {},
     "output_type": "execute_result"
    }
   ],
   "source": [
    "x < 3"
   ]
  },
  {
   "cell_type": "code",
   "execution_count": 15,
   "id": "e7dd8b11-bca1-4e40-9c19-fcee3eb98dd5",
   "metadata": {},
   "outputs": [
    {
     "data": {
      "text/plain": [
       "array([False, False, False,  True,  True])"
      ]
     },
     "execution_count": 15,
     "metadata": {},
     "output_type": "execute_result"
    }
   ],
   "source": [
    "x > 3"
   ]
  },
  {
   "cell_type": "code",
   "execution_count": 16,
   "id": "02f83f9f-6309-4632-93c6-e9387f0c9b6c",
   "metadata": {},
   "outputs": [
    {
     "data": {
      "text/plain": [
       "array([ True,  True,  True, False, False])"
      ]
     },
     "execution_count": 16,
     "metadata": {},
     "output_type": "execute_result"
    }
   ],
   "source": [
    "x <= 3 "
   ]
  },
  {
   "cell_type": "code",
   "execution_count": 24,
   "id": "ff5955b3-0711-4660-940d-bbe84fd1e6ad",
   "metadata": {},
   "outputs": [
    {
     "data": {
      "text/plain": [
       "array([False, False,  True,  True,  True])"
      ]
     },
     "execution_count": 24,
     "metadata": {},
     "output_type": "execute_result"
    }
   ],
   "source": [
    "x >= 3"
   ]
  },
  {
   "cell_type": "code",
   "execution_count": 25,
   "id": "ebc2521d-eae0-47b1-8a09-579b7a1b4916",
   "metadata": {},
   "outputs": [
    {
     "data": {
      "text/plain": [
       "array([ True,  True, False,  True,  True])"
      ]
     },
     "execution_count": 25,
     "metadata": {},
     "output_type": "execute_result"
    }
   ],
   "source": [
    "x != 3"
   ]
  },
  {
   "cell_type": "code",
   "execution_count": 26,
   "id": "a06bae69-d835-4770-aa55-b455994dc9c2",
   "metadata": {},
   "outputs": [
    {
     "data": {
      "text/plain": [
       "array([False, False,  True, False, False])"
      ]
     },
     "execution_count": 26,
     "metadata": {},
     "output_type": "execute_result"
    }
   ],
   "source": [
    "x  == 3"
   ]
  },
  {
   "cell_type": "code",
   "execution_count": 27,
   "id": "981de743-604c-418b-89f6-0a7408bcc2e0",
   "metadata": {},
   "outputs": [
    {
     "data": {
      "text/plain": [
       "array([False,  True, False, False, False])"
      ]
     },
     "execution_count": 27,
     "metadata": {},
     "output_type": "execute_result"
    }
   ],
   "source": [
    "(2*x) == (x**2)"
   ]
  },
  {
   "cell_type": "code",
   "execution_count": 28,
   "id": "61e780c9-437b-4efe-97b2-a4578718762d",
   "metadata": {},
   "outputs": [
    {
     "data": {
      "text/plain": [
       "array([[5, 0, 3, 3],\n",
       "       [7, 9, 3, 5],\n",
       "       [2, 4, 7, 6]])"
      ]
     },
     "execution_count": 28,
     "metadata": {},
     "output_type": "execute_result"
    }
   ],
   "source": [
    "rng = np.random.RandomState(0)\n",
    "x = rng.randint(10, size=(3, 4))\n",
    "x"
   ]
  },
  {
   "cell_type": "code",
   "execution_count": 29,
   "id": "2f3611a2-9b95-4f58-9e9c-f9072a3059c1",
   "metadata": {},
   "outputs": [
    {
     "data": {
      "text/plain": [
       "array([[ True,  True,  True,  True],\n",
       "       [False, False,  True,  True],\n",
       "       [ True,  True, False, False]])"
      ]
     },
     "execution_count": 29,
     "metadata": {},
     "output_type": "execute_result"
    }
   ],
   "source": [
    "x < 6"
   ]
  },
  {
   "cell_type": "code",
   "execution_count": null,
   "id": "147ec603-ccfc-4bff-9800-daac659174f3",
   "metadata": {},
   "outputs": [],
   "source": []
  }
 ],
 "metadata": {
  "kernelspec": {
   "display_name": "Python 3 (ipykernel)",
   "language": "python",
   "name": "python3"
  },
  "language_info": {
   "codemirror_mode": {
    "name": "ipython",
    "version": 3
   },
   "file_extension": ".py",
   "mimetype": "text/x-python",
   "name": "python",
   "nbconvert_exporter": "python",
   "pygments_lexer": "ipython3",
   "version": "3.12.7"
  }
 },
 "nbformat": 4,
 "nbformat_minor": 5
}
