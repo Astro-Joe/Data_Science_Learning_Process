{
 "cells": [
  {
   "cell_type": "code",
   "execution_count": 1,
   "id": "1ef1c972-6382-4eca-9064-5208906c03ad",
   "metadata": {},
   "outputs": [],
   "source": [
    "import numpy as np\n",
    "np.random.seed(0)"
   ]
  },
  {
   "cell_type": "code",
   "execution_count": 2,
   "id": "e403b045-d27a-4555-b2fc-7e5ed609c96c",
   "metadata": {},
   "outputs": [],
   "source": [
    "def compute_reciprocal(values):\n",
    "    \"\"\"Function to compute the reciprocal of all elements in a given array\"\"\"\n",
    "    output = np.empty(len(values))\n",
    "    for i in range(len(values)):\n",
    "        output[i] = 1.0/values[i]\n",
    "    return output"
   ]
  },
  {
   "cell_type": "code",
   "execution_count": 4,
   "id": "c55b5832-1906-4f3c-9270-2851bc2d87f2",
   "metadata": {},
   "outputs": [
    {
     "data": {
      "text/plain": [
       "array([0.25      , 0.16666667, 0.33333333, 0.2       , 0.125     ])"
      ]
     },
     "execution_count": 4,
     "metadata": {},
     "output_type": "execute_result"
    }
   ],
   "source": [
    "values = np.random.randint(1, 10, size = 5) #geneates an array of five elements within range 1 -10.\n",
    "compute_reciprocal(values)"
   ]
  },
  {
   "cell_type": "code",
   "execution_count": null,
   "id": "4365af77-e98f-418b-9a14-3d1b1ff23298",
   "metadata": {},
   "outputs": [],
   "source": [
    "#But this process is slow...."
   ]
  },
  {
   "cell_type": "code",
   "execution_count": 8,
   "id": "bc3d627e-9b80-4d58-809a-82e60cdb29c0",
   "metadata": {},
   "outputs": [
    {
     "name": "stdout",
     "output_type": "stream",
     "text": [
      "4.51 s ± 221 ms per loop (mean ± std. dev. of 7 runs, 1 loop each)\n"
     ]
    }
   ],
   "source": [
    "big_array = np.random.randint(1, 100, size = 1000000)\n",
    "%timeit compute_reciprocal(big_array)"
   ]
  },
  {
   "cell_type": "code",
   "execution_count": null,
   "id": "19fcca7c-d4c0-4d07-a3fd-701549029cb4",
   "metadata": {},
   "outputs": [],
   "source": []
  }
 ],
 "metadata": {
  "kernelspec": {
   "display_name": "Python 3 (ipykernel)",
   "language": "python",
   "name": "python3"
  },
  "language_info": {
   "codemirror_mode": {
    "name": "ipython",
    "version": 3
   },
   "file_extension": ".py",
   "mimetype": "text/x-python",
   "name": "python",
   "nbconvert_exporter": "python",
   "pygments_lexer": "ipython3",
   "version": "3.11.4"
  }
 },
 "nbformat": 4,
 "nbformat_minor": 5
}
