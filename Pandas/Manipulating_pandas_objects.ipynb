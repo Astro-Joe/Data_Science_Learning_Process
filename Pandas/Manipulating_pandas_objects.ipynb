{
 "cells": [
  {
   "cell_type": "code",
   "execution_count": 1,
   "id": "0f349a45-029b-4e30-a120-df7798716e4b",
   "metadata": {},
   "outputs": [],
   "source": [
    "# Data Selection in Series "
   ]
  },
  {
   "cell_type": "code",
   "execution_count": 2,
   "id": "12567494-b4f0-40f6-9b84-69a72794e93d",
   "metadata": {},
   "outputs": [],
   "source": [
    "# Series as a Dictionary "
   ]
  },
  {
   "cell_type": "code",
   "execution_count": 3,
   "id": "353f54eb-8ecf-4268-a4bf-008a030cce26",
   "metadata": {},
   "outputs": [
    {
     "data": {
      "text/plain": [
       "a    0.25\n",
       "b    0.50\n",
       "c    0.75\n",
       "d    1.00\n",
       "dtype: float64"
      ]
     },
     "execution_count": 3,
     "metadata": {},
     "output_type": "execute_result"
    }
   ],
   "source": [
    "import pandas as pd \n",
    "data = pd.Series([0.25, 0.5, 0.75, 1.0], index=['a', 'b', 'c', 'd'])\n",
    "data "
   ]
  },
  {
   "cell_type": "code",
   "execution_count": 4,
   "id": "d87ec41f-1966-43b2-aabd-c3624c0bd423",
   "metadata": {},
   "outputs": [
    {
     "data": {
      "text/plain": [
       "0.5"
      ]
     },
     "execution_count": 4,
     "metadata": {},
     "output_type": "execute_result"
    }
   ],
   "source": [
    "data['b']"
   ]
  },
  {
   "cell_type": "code",
   "execution_count": 5,
   "id": "df403fd4-816b-420b-989a-babf8519c02c",
   "metadata": {},
   "outputs": [
    {
     "data": {
      "text/plain": [
       "True"
      ]
     },
     "execution_count": 5,
     "metadata": {},
     "output_type": "execute_result"
    }
   ],
   "source": [
    "# Normal python expressions for dictionaries work also \n",
    "'a' in data"
   ]
  },
  {
   "cell_type": "code",
   "execution_count": 6,
   "id": "fc251c85-c4e7-42fd-9a0f-3513ea8c6b65",
   "metadata": {},
   "outputs": [
    {
     "data": {
      "text/plain": [
       "Index(['a', 'b', 'c', 'd'], dtype='object')"
      ]
     },
     "execution_count": 6,
     "metadata": {},
     "output_type": "execute_result"
    }
   ],
   "source": [
    "data.keys()"
   ]
  },
  {
   "cell_type": "code",
   "execution_count": 9,
   "id": "7ef1cb68-e4ea-43ec-a1c2-cc6c86c2e9ea",
   "metadata": {},
   "outputs": [
    {
     "data": {
      "text/plain": [
       "[('a', 0.25), ('b', 0.5), ('c', 0.75), ('d', 1.0)]"
      ]
     },
     "execution_count": 9,
     "metadata": {},
     "output_type": "execute_result"
    }
   ],
   "source": [
    "list(data.items())"
   ]
  },
  {
   "cell_type": "code",
   "execution_count": 10,
   "id": "e99a6178-136c-4044-8bf4-66c8be1d5954",
   "metadata": {},
   "outputs": [
    {
     "data": {
      "text/plain": [
       "a    0.25\n",
       "b    0.50\n",
       "c    0.75\n",
       "d    1.00\n",
       "e    1.25\n",
       "dtype: float64"
      ]
     },
     "execution_count": 10,
     "metadata": {},
     "output_type": "execute_result"
    }
   ],
   "source": [
    "data['e'] = 1.25\n",
    "data"
   ]
  },
  {
   "cell_type": "code",
   "execution_count": 11,
   "id": "97855e85-a625-4dcc-b298-26e76e2e07b6",
   "metadata": {},
   "outputs": [],
   "source": [
    "# As a one dimensional array "
   ]
  },
  {
   "cell_type": "code",
   "execution_count": 12,
   "id": "dfb66bd6-255e-4b69-a4d8-99b051d5da16",
   "metadata": {},
   "outputs": [
    {
     "data": {
      "text/plain": [
       "a    0.25\n",
       "b    0.50\n",
       "c    0.75\n",
       "dtype: float64"
      ]
     },
     "execution_count": 12,
     "metadata": {},
     "output_type": "execute_result"
    }
   ],
   "source": [
    "# Slicing by explicit index \n",
    "data['a':'c']"
   ]
  },
  {
   "cell_type": "code",
   "execution_count": 13,
   "id": "be9ac246-533a-4784-8188-1ca3972af869",
   "metadata": {},
   "outputs": [
    {
     "data": {
      "text/plain": [
       "a    0.25\n",
       "b    0.50\n",
       "dtype: float64"
      ]
     },
     "execution_count": 13,
     "metadata": {},
     "output_type": "execute_result"
    }
   ],
   "source": [
    "# Slicing by implicit integer index \n",
    "data[0:2]"
   ]
  },
  {
   "cell_type": "code",
   "execution_count": 17,
   "id": "bf5f7fe4-7c2d-4f4c-b78b-1fea70c1bf8f",
   "metadata": {},
   "outputs": [
    {
     "data": {
      "text/plain": [
       "a    False\n",
       "b     True\n",
       "c     True\n",
       "d    False\n",
       "e    False\n",
       "dtype: bool"
      ]
     },
     "execution_count": 17,
     "metadata": {},
     "output_type": "execute_result"
    }
   ],
   "source": [
    "# Array masking : Filtering array usinh boolean conditions \n",
    "\n",
    "(data > 0.3) & (data < 0.8)"
   ]
  },
  {
   "cell_type": "code",
   "execution_count": 14,
   "id": "f5cde444-f3ef-4b2c-bb4d-9e89db5e56a0",
   "metadata": {},
   "outputs": [
    {
     "data": {
      "text/plain": [
       "b    0.50\n",
       "c    0.75\n",
       "dtype: float64"
      ]
     },
     "execution_count": 14,
     "metadata": {},
     "output_type": "execute_result"
    }
   ],
   "source": [
    "data[(data > 0.3) & (data < 0.8)]"
   ]
  },
  {
   "cell_type": "code",
   "execution_count": 18,
   "id": "34561966-ce40-4b5b-9d1c-b265b46093aa",
   "metadata": {},
   "outputs": [
    {
     "name": "stdout",
     "output_type": "stream",
     "text": [
      "1\n",
      "(5,)\n",
      "float64\n"
     ]
    }
   ],
   "source": [
    "# Generic array properties\n",
    "\n",
    "print(data.ndim)\n",
    "print(data.shape)\n",
    "print(data.dtype)"
   ]
  },
  {
   "cell_type": "code",
   "execution_count": 19,
   "id": "ef4e071a-42e8-4a7b-8cfa-3ca171b71f2d",
   "metadata": {},
   "outputs": [
    {
     "data": {
      "text/plain": [
       "a    0.25\n",
       "e    1.25\n",
       "dtype: float64"
      ]
     },
     "execution_count": 19,
     "metadata": {},
     "output_type": "execute_result"
    }
   ],
   "source": [
    "# Fancy Indexing\n",
    "\n",
    "data[['a', 'e']]"
   ]
  },
  {
   "cell_type": "code",
   "execution_count": 21,
   "id": "508c6b9e-1965-40e5-97d6-6f4a1844c2af",
   "metadata": {},
   "outputs": [
    {
     "data": {
      "text/plain": [
       "1    a\n",
       "3    b\n",
       "5    c\n",
       "dtype: object"
      ]
     },
     "execution_count": 21,
     "metadata": {},
     "output_type": "execute_result"
    }
   ],
   "source": [
    "# Consider this example for the confusion that happens between explicit and \n",
    "# implicit indexesabs \n",
    "\n",
    "data = pd.Series(['a', 'b', 'c'], index=[1, 3, 5])\n",
    "data "
   ]
  },
  {
   "cell_type": "code",
   "execution_count": 22,
   "id": "97456270-86db-4cfd-b987-43403aef1a79",
   "metadata": {},
   "outputs": [
    {
     "data": {
      "text/plain": [
       "'a'"
      ]
     },
     "execution_count": 22,
     "metadata": {},
     "output_type": "execute_result"
    }
   ],
   "source": [
    "data[1] # This uses the explicit indexing"
   ]
  },
  {
   "cell_type": "code",
   "execution_count": 24,
   "id": "ea66018c-1c17-4c78-84b4-819bb6038ec7",
   "metadata": {},
   "outputs": [
    {
     "data": {
      "text/plain": [
       "3    b\n",
       "5    c\n",
       "dtype: object"
      ]
     },
     "execution_count": 24,
     "metadata": {},
     "output_type": "execute_result"
    }
   ],
   "source": [
    "data[1:3] # This uses the implicit indexes even though the explicit indexes \n",
    "          # where intended."
   ]
  },
  {
   "cell_type": "code",
   "execution_count": 25,
   "id": "24dd38cb-6e09-4da8-a997-78eb6ff5cc54",
   "metadata": {},
   "outputs": [
    {
     "data": {
      "text/plain": [
       "'a'"
      ]
     },
     "execution_count": 25,
     "metadata": {},
     "output_type": "execute_result"
    }
   ],
   "source": [
    "# Indexers : These are attributes of the Series object that help in separating \n",
    "# implicit and explicit indexes.\n",
    "\n",
    "# .loc[] is used for referencing explicit indexes. \n",
    "data.loc[1]"
   ]
  },
  {
   "cell_type": "code",
   "execution_count": 26,
   "id": "66975e32-beac-40f5-9a27-015b2d9e75cd",
   "metadata": {},
   "outputs": [
    {
     "data": {
      "text/plain": [
       "1    a\n",
       "3    b\n",
       "dtype: object"
      ]
     },
     "execution_count": 26,
     "metadata": {},
     "output_type": "execute_result"
    }
   ],
   "source": [
    "data.loc[1:3]"
   ]
  },
  {
   "cell_type": "code",
   "execution_count": 28,
   "id": "dfcde014-8785-4ef8-acb3-bbb409317c74",
   "metadata": {},
   "outputs": [
    {
     "data": {
      "text/plain": [
       "'b'"
      ]
     },
     "execution_count": 28,
     "metadata": {},
     "output_type": "execute_result"
    }
   ],
   "source": [
    "# .iloc[] is used for referencing implicit indexesabs. \n",
    "data.iloc[1]"
   ]
  },
  {
   "cell_type": "code",
   "execution_count": 29,
   "id": "b7c71588-96a9-4c6a-accc-507cfc800bcc",
   "metadata": {},
   "outputs": [
    {
     "data": {
      "text/plain": [
       "3    b\n",
       "5    c\n",
       "dtype: object"
      ]
     },
     "execution_count": 29,
     "metadata": {},
     "output_type": "execute_result"
    }
   ],
   "source": [
    "data.iloc[1:3]"
   ]
  }
 ],
 "metadata": {
  "kernelspec": {
   "display_name": "Python 3 (ipykernel)",
   "language": "python",
   "name": "python3"
  },
  "language_info": {
   "codemirror_mode": {
    "name": "ipython",
    "version": 3
   },
   "file_extension": ".py",
   "mimetype": "text/x-python",
   "name": "python",
   "nbconvert_exporter": "python",
   "pygments_lexer": "ipython3",
   "version": "3.12.7"
  }
 },
 "nbformat": 4,
 "nbformat_minor": 5
}
