import numpy as np
np.random.seed(0)


def compute_reciprocal(values):
    """Function to compute the reciprocal of all elements in a given array"""
    output = np.empty(len(values))
    for i in range(len(values)):
        output[i] = 1.0/values[i]
    return output


values = np.random.randint(1, 10, size = 5) #geneates an array of five elements within range 1 -10.
compute_reciprocal(values)


#But this process is slow....


big_array = np.random.randint(1, 100, size = 1000000)
get_ipython().run_line_magic("timeit", " compute_reciprocal(big_array)")


np.ra
