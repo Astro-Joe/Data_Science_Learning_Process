#First off install neede packages.
#!pip install <packagename>

get_ipython().getoutput("pip install pandas")


#You can access documentation of functoins and methods that 
#are'nt familiar by using the built in help functon.
#help(nameoffunction/method) OR nameoffunction/method?

help(len)


#len?
get_ipython().run_line_magic('pinfo2',  'len')


L = [1, 2, 3]
#L.insert?
# to check the list of available attributes available to an object, The following syntax is used
#L.<TAB>   ..<TAB> means press the Tab key
# To check for private methods/functions , the following syntax should be used.
#L._<TAB>


def square(a):
    '''Returns the square of a'''
    return a**2
get_ipython().run_line_magic('pinfo',  'square')
square(2)


get_ipython().run_line_magic('pinfo2',  'square')



# To find a particular package you want to import the following syntax could be used.
#import <TAB> 



# The us of wildcard to find an object that containd a particular word.
# The following syntax is employed
*Warning? # List all objects ending with 'Warning'



str.*find? # Lists all objects contains 'find' somewhere in its name


# To get magic finctions in python
get_ipython().run_line_magic("lsmagic", "")


get_ipython().run_line_magic('pinfo',  '%run') # To check on documentaton of a particular magic function.



import math 


math.sin(2)


math.cos(2)


print(In[27:30])


print(Out[28])


Out[28]**2 + Out[29]**2


Out[28]**2 - Out[29]**2


#Previous outputs in python and also in jupyter notebook can be access using this shotcut syntax
print(_)
print(__) # This is the farthest you can go with underscores.Lol.


Out[28]


_28


#The output of an statement can be supressed(not printed on the screen nor stored in the Out dictionary.)
math.sin(2) + math.cos(2);



112 in Out


history -n 27-70



history -n 27 - 70


rerun 28


save -a Test_file 82


save -a Test_file 129


get_ipython().run_line_magic("env", "")


pwd


ls


echo "Wow it worked"


directory = get_ipython().run_line_magic("pwd", "")



print(directory)


type(directory)


message = 'Hello from Python'


echo {message}


run Error_handling.ipynb


get_ipython().run_line_magic("timeit", " sum(range(100)) # Calaculate the time required to run this code")


get_ipython().run_line_magic("config", " Completer.use_jedi = True")



import numpy as np


np.random.randint(1, 10, size = 10)


while 
