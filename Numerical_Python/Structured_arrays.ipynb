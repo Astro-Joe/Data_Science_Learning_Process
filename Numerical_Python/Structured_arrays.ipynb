{
 "cells": [
  {
   "cell_type": "code",
   "execution_count": 1,
   "id": "fd11289a-a458-4f01-8970-2dfbaef2716e",
   "metadata": {},
   "outputs": [],
   "source": [
    "import numpy as np "
   ]
  },
  {
   "cell_type": "code",
   "execution_count": 2,
   "id": "8b6c9844-a059-4104-85c4-85069f029609",
   "metadata": {},
   "outputs": [
    {
     "name": "stdout",
     "output_type": "stream",
     "text": [
      "[('name', '<U10'), ('age', '<i4'), ('weight', '<f8')]\n",
      "\n",
      "\n",
      "[('', 0, 0.) ('', 0, 0.) ('', 0, 0.) ('', 0, 0.)]\n"
     ]
    }
   ],
   "source": [
    "# Structured Numpy Arrays\n",
    "# Normal NUmpy arrays do not allow for heterogeneous datd, but these numpy \n",
    "# structured arrays can contain heterogeneous data types. \n",
    "\n",
    "# If you want to store certain info about a group of ppl \n",
    "name = ['Alice', 'Bob', 'Cathy', 'Dough']\n",
    "age = [25, 45, 37, 19]\n",
    "weight = [55.0, 85.5, 68.0, 61.5]\n",
    "\n",
    "# These info can be contained in one array using;\n",
    "data = np.zeros(4, dtype={'names':('name', 'age', 'weight'), \n",
    "                          'formats':('U10', 'i4', 'f8')})\n",
    "print(data.dtype)\n",
    "print('\\n')\n",
    "print(data)"
   ]
  },
  {
   "cell_type": "code",
   "execution_count": 3,
   "id": "e7b610bb-b6c0-4c50-a407-8f9a44186719",
   "metadata": {},
   "outputs": [
    {
     "name": "stdout",
     "output_type": "stream",
     "text": [
      "[('Alice', 25, 55. ) ('Bob', 45, 85.5) ('Cathy', 37, 68. )\n",
      " ('Dough', 19, 61.5)]\n"
     ]
    }
   ],
   "source": [
    "data['name'] = name\n",
    "data['age'] = age \n",
    "data['weight'] = weight \n",
    "print(data)"
   ]
  },
  {
   "cell_type": "code",
   "execution_count": 4,
   "id": "19f9f0aa-87df-46e1-93bc-11e8a6a24d78",
   "metadata": {},
   "outputs": [
    {
     "data": {
      "text/plain": [
       "array(['Alice', 'Bob', 'Cathy', 'Dough'], dtype='<U10')"
      ]
     },
     "execution_count": 4,
     "metadata": {},
     "output_type": "execute_result"
    }
   ],
   "source": [
    "data['name']"
   ]
  },
  {
   "cell_type": "code",
   "execution_count": 5,
   "id": "116b1318-ac69-46fe-885d-d77e4f5d55af",
   "metadata": {},
   "outputs": [
    {
     "data": {
      "text/plain": [
       "('Alice', 25, 55.)"
      ]
     },
     "execution_count": 5,
     "metadata": {},
     "output_type": "execute_result"
    }
   ],
   "source": [
    "data[0]"
   ]
  },
  {
   "cell_type": "code",
   "execution_count": 6,
   "id": "7fba1c1c-4f60-4031-8196-d31b6e4898c8",
   "metadata": {},
   "outputs": [
    {
     "data": {
      "text/plain": [
       "'Dough'"
      ]
     },
     "execution_count": 6,
     "metadata": {},
     "output_type": "execute_result"
    }
   ],
   "source": [
    "data[-1]['name']"
   ]
  },
  {
   "cell_type": "code",
   "execution_count": 7,
   "id": "d905d205-83a6-4227-8a4a-fac2da2aff51",
   "metadata": {},
   "outputs": [
    {
     "data": {
      "text/plain": [
       "array(['Alice', 'Dough'], dtype='<U10')"
      ]
     },
     "execution_count": 7,
     "metadata": {},
     "output_type": "execute_result"
    }
   ],
   "source": [
    "# Get names where age is under 30\n",
    "\n",
    "data[data['age'] < 30]['name']"
   ]
  },
  {
   "cell_type": "code",
   "execution_count": 14,
   "id": "7c34e950-861a-4aef-8f35-cde52876bb7b",
   "metadata": {},
   "outputs": [
    {
     "data": {
      "text/plain": [
       "dtype([('name', '<U10'), ('age', '<i4'), ('weight', '<f8')])"
      ]
     },
     "execution_count": 14,
     "metadata": {},
     "output_type": "execute_result"
    }
   ],
   "source": [
    "# Different ways of creating a structured array\n",
    "\n",
    "# The dictionary method, which was used earlier\n",
    "np.dtype({'names':('name', 'age', 'weight'),\n",
    "         'formats':('U10', 'i4', 'f8')})"
   ]
  },
  {
   "cell_type": "code",
   "execution_count": 18,
   "id": "21e09cad-9beb-4108-8b1e-f42a2d001908",
   "metadata": {},
   "outputs": [
    {
     "data": {
      "text/plain": [
       "dtype([('name', '<U10'), ('age', '<i4'), ('weight', '<f8')])"
      ]
     },
     "execution_count": 18,
     "metadata": {},
     "output_type": "execute_result"
    }
   ],
   "source": [
    "# Using Python types or Numpy dtypes\n",
    "np.dtype({'names':('name', 'age', 'weight'), \n",
    "          'formats':((np.str_, 10), int, np.float64)})"
   ]
  },
  {
   "cell_type": "code",
   "execution_count": 20,
   "id": "ea44dd72-f2df-464b-a2a5-1659c4103227",
   "metadata": {},
   "outputs": [
    {
     "data": {
      "text/plain": [
       "dtype([('names', '<U10'), ('age', '<i4'), ('weight', '<f8')])"
      ]
     },
     "execution_count": 20,
     "metadata": {},
     "output_type": "execute_result"
    }
   ],
   "source": [
    "# As a list of tuples \n",
    "np.dtype([('names', 'U10'), ('age', 'i4'), ('weight', 'f8')])"
   ]
  },
  {
   "cell_type": "code",
   "execution_count": 21,
   "id": "4e4fd375-cf85-42f2-9665-deb7954b45ee",
   "metadata": {},
   "outputs": [],
   "source": [
    "# Numpy data types \n",
    "# 'b' Byte np.dtype('b')\n",
    "# 'i' Signed integer np.dtype('i4') == np.int32\n",
    "# 'u' Unsigned integer np.dtype('u1') == np.uint8\n",
    "# 'f' Floating point np.dtype('f8') == np.int64\n",
    "# 'c' Complex floating point np.dtype('c16') == np.complex128\n",
    "# 'S', 'a' string np.dtype('S5')\n",
    "# 'U' Unicode string np.dtype('U') == np.str_\n",
    "# 'V' Raw data (void) np.dtype('V') == np.void"
   ]
  },
  {
   "cell_type": "code",
   "execution_count": 25,
   "id": "a5d79e50-5570-4363-9089-405bc5ec54b2",
   "metadata": {},
   "outputs": [
    {
     "name": "stdout",
     "output_type": "stream",
     "text": [
      "[(0, [[0., 0., 0.], [0., 0., 0.], [0., 0., 0.]])]\n",
      "[[0. 0. 0.]\n",
      " [0. 0. 0.]\n",
      " [0. 0. 0.]]\n"
     ]
    }
   ],
   "source": [
    "# A more complex example\n",
    "\n",
    "tp = np.dtype([('id', 'i8'), ('mat', 'f8', (3,3))])\n",
    "X = np.zeros(1, dtype=tp)\n",
    "print(X)\n",
    "print(X['mat'][0])"
   ]
  },
  {
   "cell_type": "code",
   "execution_count": 30,
   "id": "c1a105b6-d5a5-4f8e-9632-27606a343c6c",
   "metadata": {},
   "outputs": [
    {
     "data": {
      "text/plain": [
       "array([25, 45, 37, 19])"
      ]
     },
     "execution_count": 30,
     "metadata": {},
     "output_type": "execute_result"
    }
   ],
   "source": [
    "# Record Arrays\n",
    "# This allows to access fields as attribute(e.g var.field) rather than as \n",
    "# dictionary(e.g var[field]). This makes code look cleaner.\n",
    "# This is done using the .veiw(np.recarrray)\n",
    "data_rec = data.view(np.recarray)\n",
    "data_rec.age"
   ]
  }
 ],
 "metadata": {
  "kernelspec": {
   "display_name": "Python 3 (ipykernel)",
   "language": "python",
   "name": "python3"
  },
  "language_info": {
   "codemirror_mode": {
    "name": "ipython",
    "version": 3
   },
   "file_extension": ".py",
   "mimetype": "text/x-python",
   "name": "python",
   "nbconvert_exporter": "python",
   "pygments_lexer": "ipython3",
   "version": "3.12.7"
  }
 },
 "nbformat": 4,
 "nbformat_minor": 5
}
