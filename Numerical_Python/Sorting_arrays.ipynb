{
 "cells": [
  {
   "cell_type": "code",
   "execution_count": 3,
   "id": "da3de073-c065-4988-8cc5-8fb91b8db6e4",
   "metadata": {},
   "outputs": [],
   "source": [
    "import numpy as np"
   ]
  },
  {
   "cell_type": "code",
   "execution_count": 4,
   "id": "37f1e91d-1e0a-46ea-bc4c-c3fac2e713d2",
   "metadata": {},
   "outputs": [],
   "source": [
    "def selection_sort(x):\n",
    "    for i in range(len(x)): \n",
    "        swap = i + np.argmin(x[i:]) \n",
    "        (x[i], x[swap]) = (x[swap], x[i])\n",
    "    return x"
   ]
  },
  {
   "cell_type": "code",
   "execution_count": 5,
   "id": "16a6c092-007f-439b-a4d0-47bf165f2f55",
   "metadata": {},
   "outputs": [],
   "source": [
    "x = np.array([2, 1, 3, 5, 4])\n",
    "# selection_sort(x)"
   ]
  },
  {
   "cell_type": "code",
   "execution_count": 6,
   "id": "af538ea3-1000-45ef-9489-7c1953c8645f",
   "metadata": {},
   "outputs": [
    {
     "data": {
      "text/plain": [
       "array([1, 2, 3, 4, 5])"
      ]
     },
     "execution_count": 6,
     "metadata": {},
     "output_type": "execute_result"
    }
   ],
   "source": [
    "np.sort(x) \n"
   ]
  },
  {
   "cell_type": "code",
   "execution_count": 7,
   "id": "185346b9-8a9c-4be9-8bf6-f9d5590898c5",
   "metadata": {},
   "outputs": [
    {
     "data": {
      "text/plain": [
       "array([1, 2, 3, 4, 5])"
      ]
     },
     "execution_count": 7,
     "metadata": {},
     "output_type": "execute_result"
    }
   ],
   "source": [
    "i = np.argsort(x) # Shows the indices of the sorted elements\n",
    "x[i]"
   ]
  },
  {
   "cell_type": "code",
   "execution_count": 24,
   "id": "4a6dbf00-b3c6-4e25-af6a-621123c97dd4",
   "metadata": {},
   "outputs": [
    {
     "name": "stdout",
     "output_type": "stream",
     "text": [
      "[[6 3 7 4 6 9]\n",
      " [2 6 7 4 3 7]\n",
      " [7 2 5 4 1 7]\n",
      " [5 1 4 0 9 5]]\n"
     ]
    }
   ],
   "source": [
    "rand =  np.random.RandomState(42)\n",
    "x = rand.randint(0, 10, (4, 6))\n",
    "print(x)"
   ]
  },
  {
   "cell_type": "code",
   "execution_count": 9,
   "id": "9687c890-0c34-477d-9c3a-bfefa72ad637",
   "metadata": {},
   "outputs": [
    {
     "name": "stdout",
     "output_type": "stream",
     "text": [
      "[[2 1 4 0 1 5]\n",
      " [5 2 5 4 3 7]\n",
      " [6 3 7 4 6 7]\n",
      " [7 6 7 4 9 9]]\n",
      "[[3 4 6 6 7 9]\n",
      " [2 3 4 6 7 7]\n",
      " [1 2 4 5 7 7]\n",
      " [0 1 4 5 5 9]]\n"
     ]
    }
   ],
   "source": [
    " #Using np.sort() axis parameter\n",
    "\n",
    "print(np.sort(x, axis=0)) # Sorting the columns. \n",
    "print(np.sort(x, axis=1)) # Sorting the rows. "
   ]
  },
  {
   "cell_type": "code",
   "execution_count": 10,
   "id": "305d7824-713a-4cca-b8c4-e2b6c5950bf0",
   "metadata": {},
   "outputs": [
    {
     "data": {
      "text/plain": [
       "array([2, 1, 3, 4, 6, 5, 7])"
      ]
     },
     "execution_count": 10,
     "metadata": {},
     "output_type": "execute_result"
    }
   ],
   "source": [
    "# Partioning\n",
    "X = np.array([7, 2, 3, 1, 6, 5, 4])\n",
    "np.partition(X, 3)"
   ]
  },
  {
   "cell_type": "code",
   "execution_count": 11,
   "id": "9d614bfd-6149-427a-b419-dc5b88f69d82",
   "metadata": {},
   "outputs": [
    {
     "data": {
      "text/plain": [
       "array([[3, 4, 6, 6, 7, 9],\n",
       "       [2, 3, 4, 6, 7, 7],\n",
       "       [2, 1, 4, 5, 7, 7],\n",
       "       [0, 4, 1, 5, 9, 5]])"
      ]
     },
     "execution_count": 11,
     "metadata": {},
     "output_type": "execute_result"
    }
   ],
   "source": [
    "np.partition(x, 3, axis=1)"
   ]
  },
  {
   "cell_type": "code",
   "execution_count": 12,
   "id": "cfe15040-6e34-4d39-85a3-9f22e936f650",
   "metadata": {
    "collapsed": true,
    "jupyter": {
     "outputs_hidden": true
    }
   },
   "outputs": [
    {
     "data": {
      "text/plain": [
       "\u001b[1;31mSignature:\u001b[0m       \u001b[0mnp\u001b[0m\u001b[1;33m.\u001b[0m\u001b[0mpartition\u001b[0m\u001b[1;33m(\u001b[0m\u001b[0ma\u001b[0m\u001b[1;33m,\u001b[0m \u001b[0mkth\u001b[0m\u001b[1;33m,\u001b[0m \u001b[0maxis\u001b[0m\u001b[1;33m=\u001b[0m\u001b[1;33m-\u001b[0m\u001b[1;36m1\u001b[0m\u001b[1;33m,\u001b[0m \u001b[0mkind\u001b[0m\u001b[1;33m=\u001b[0m\u001b[1;34m'introselect'\u001b[0m\u001b[1;33m,\u001b[0m \u001b[0morder\u001b[0m\u001b[1;33m=\u001b[0m\u001b[1;32mNone\u001b[0m\u001b[1;33m)\u001b[0m\u001b[1;33m\u001b[0m\u001b[1;33m\u001b[0m\u001b[0m\n",
       "\u001b[1;31mCall signature:\u001b[0m  \u001b[0mnp\u001b[0m\u001b[1;33m.\u001b[0m\u001b[0mpartition\u001b[0m\u001b[1;33m(\u001b[0m\u001b[1;33m*\u001b[0m\u001b[0margs\u001b[0m\u001b[1;33m,\u001b[0m \u001b[1;33m**\u001b[0m\u001b[0mkwargs\u001b[0m\u001b[1;33m)\u001b[0m\u001b[1;33m\u001b[0m\u001b[1;33m\u001b[0m\u001b[0m\n",
       "\u001b[1;31mType:\u001b[0m            _ArrayFunctionDispatcher\n",
       "\u001b[1;31mString form:\u001b[0m     <function partition at 0x0000025B2D8802C0>\n",
       "\u001b[1;31mFile:\u001b[0m            c:\\users\\astrojoe\\anaconda3\\lib\\site-packages\\numpy\\core\\fromnumeric.py\n",
       "\u001b[1;31mSource:\u001b[0m         \n",
       "\u001b[1;33m@\u001b[0m\u001b[0marray_function_dispatch\u001b[0m\u001b[1;33m(\u001b[0m\u001b[0m_partition_dispatcher\u001b[0m\u001b[1;33m)\u001b[0m\u001b[1;33m\n",
       "\u001b[0m\u001b[1;32mdef\u001b[0m \u001b[0mpartition\u001b[0m\u001b[1;33m(\u001b[0m\u001b[0ma\u001b[0m\u001b[1;33m,\u001b[0m \u001b[0mkth\u001b[0m\u001b[1;33m,\u001b[0m \u001b[0maxis\u001b[0m\u001b[1;33m=\u001b[0m\u001b[1;33m-\u001b[0m\u001b[1;36m1\u001b[0m\u001b[1;33m,\u001b[0m \u001b[0mkind\u001b[0m\u001b[1;33m=\u001b[0m\u001b[1;34m'introselect'\u001b[0m\u001b[1;33m,\u001b[0m \u001b[0morder\u001b[0m\u001b[1;33m=\u001b[0m\u001b[1;32mNone\u001b[0m\u001b[1;33m)\u001b[0m\u001b[1;33m:\u001b[0m\u001b[1;33m\n",
       "\u001b[0m    \u001b[1;34m\"\"\"\n",
       "    Return a partitioned copy of an array.\n",
       "\n",
       "    Creates a copy of the array with its elements rearranged in such a\n",
       "    way that the value of the element in k-th position is in the position\n",
       "    the value would be in a sorted array.  In the partitioned array, all\n",
       "    elements before the k-th element are less than or equal to that\n",
       "    element, and all the elements after the k-th element are greater than\n",
       "    or equal to that element.  The ordering of the elements in the two\n",
       "    partitions is undefined.\n",
       "\n",
       "    .. versionadded:: 1.8.0\n",
       "\n",
       "    Parameters\n",
       "    ----------\n",
       "    a : array_like\n",
       "        Array to be sorted.\n",
       "    kth : int or sequence of ints\n",
       "        Element index to partition by. The k-th value of the element\n",
       "        will be in its final sorted position and all smaller elements\n",
       "        will be moved before it and all equal or greater elements behind\n",
       "        it. The order of all elements in the partitions is undefined. If\n",
       "        provided with a sequence of k-th it will partition all elements\n",
       "        indexed by k-th  of them into their sorted position at once.\n",
       "\n",
       "        .. deprecated:: 1.22.0\n",
       "            Passing booleans as index is deprecated.\n",
       "    axis : int or None, optional\n",
       "        Axis along which to sort. If None, the array is flattened before\n",
       "        sorting. The default is -1, which sorts along the last axis.\n",
       "    kind : {'introselect'}, optional\n",
       "        Selection algorithm. Default is 'introselect'.\n",
       "    order : str or list of str, optional\n",
       "        When `a` is an array with fields defined, this argument\n",
       "        specifies which fields to compare first, second, etc.  A single\n",
       "        field can be specified as a string.  Not all fields need be\n",
       "        specified, but unspecified fields will still be used, in the\n",
       "        order in which they come up in the dtype, to break ties.\n",
       "\n",
       "    Returns\n",
       "    -------\n",
       "    partitioned_array : ndarray\n",
       "        Array of the same type and shape as `a`.\n",
       "\n",
       "    See Also\n",
       "    --------\n",
       "    ndarray.partition : Method to sort an array in-place.\n",
       "    argpartition : Indirect partition.\n",
       "    sort : Full sorting\n",
       "\n",
       "    Notes\n",
       "    -----\n",
       "    The various selection algorithms are characterized by their average\n",
       "    speed, worst case performance, work space size, and whether they are\n",
       "    stable. A stable sort keeps items with the same key in the same\n",
       "    relative order. The available algorithms have the following\n",
       "    properties:\n",
       "\n",
       "    ================= ======= ============= ============ =======\n",
       "       kind            speed   worst case    work space  stable\n",
       "    ================= ======= ============= ============ =======\n",
       "    'introselect'        1        O(n)           0         no\n",
       "    ================= ======= ============= ============ =======\n",
       "\n",
       "    All the partition algorithms make temporary copies of the data when\n",
       "    partitioning along any but the last axis.  Consequently,\n",
       "    partitioning along the last axis is faster and uses less space than\n",
       "    partitioning along any other axis.\n",
       "\n",
       "    The sort order for complex numbers is lexicographic. If both the\n",
       "    real and imaginary parts are non-nan then the order is determined by\n",
       "    the real parts except when they are equal, in which case the order\n",
       "    is determined by the imaginary parts.\n",
       "\n",
       "    Examples\n",
       "    --------\n",
       "    >>> a = np.array([7, 1, 7, 7, 1, 5, 7, 2, 3, 2, 6, 2, 3, 0])\n",
       "    >>> p = np.partition(a, 4)\n",
       "    >>> p\n",
       "    array([0, 1, 2, 1, 2, 5, 2, 3, 3, 6, 7, 7, 7, 7])\n",
       "\n",
       "    ``p[4]`` is 2;  all elements in ``p[:4]`` are less than or equal\n",
       "    to ``p[4]``, and all elements in ``p[5:]`` are greater than or\n",
       "    equal to ``p[4]``.  The partition is::\n",
       "\n",
       "        [0, 1, 2, 1], [2], [5, 2, 3, 3, 6, 7, 7, 7, 7]\n",
       "\n",
       "    The next example shows the use of multiple values passed to `kth`.\n",
       "\n",
       "    >>> p2 = np.partition(a, (4, 8))\n",
       "    >>> p2\n",
       "    array([0, 1, 2, 1, 2, 3, 3, 2, 5, 6, 7, 7, 7, 7])\n",
       "\n",
       "    ``p2[4]`` is 2  and ``p2[8]`` is 5.  All elements in ``p2[:4]``\n",
       "    are less than or equal to ``p2[4]``, all elements in ``p2[5:8]``\n",
       "    are greater than or equal to ``p2[4]`` and less than or equal to\n",
       "    ``p2[8]``, and all elements in ``p2[9:]`` are greater than or\n",
       "    equal to ``p2[8]``.  The partition is::\n",
       "\n",
       "        [0, 1, 2, 1], [2], [3, 3, 2], [5], [6, 7, 7, 7, 7]\n",
       "    \"\"\"\u001b[0m\u001b[1;33m\n",
       "\u001b[0m    \u001b[1;32mif\u001b[0m \u001b[0maxis\u001b[0m \u001b[1;32mis\u001b[0m \u001b[1;32mNone\u001b[0m\u001b[1;33m:\u001b[0m\u001b[1;33m\n",
       "\u001b[0m        \u001b[1;31m# flatten returns (1, N) for np.matrix, so always use the last axis\u001b[0m\u001b[1;33m\n",
       "\u001b[0m        \u001b[0ma\u001b[0m \u001b[1;33m=\u001b[0m \u001b[0masanyarray\u001b[0m\u001b[1;33m(\u001b[0m\u001b[0ma\u001b[0m\u001b[1;33m)\u001b[0m\u001b[1;33m.\u001b[0m\u001b[0mflatten\u001b[0m\u001b[1;33m(\u001b[0m\u001b[1;33m)\u001b[0m\u001b[1;33m\n",
       "\u001b[0m        \u001b[0maxis\u001b[0m \u001b[1;33m=\u001b[0m \u001b[1;33m-\u001b[0m\u001b[1;36m1\u001b[0m\u001b[1;33m\n",
       "\u001b[0m    \u001b[1;32melse\u001b[0m\u001b[1;33m:\u001b[0m\u001b[1;33m\n",
       "\u001b[0m        \u001b[0ma\u001b[0m \u001b[1;33m=\u001b[0m \u001b[0masanyarray\u001b[0m\u001b[1;33m(\u001b[0m\u001b[0ma\u001b[0m\u001b[1;33m)\u001b[0m\u001b[1;33m.\u001b[0m\u001b[0mcopy\u001b[0m\u001b[1;33m(\u001b[0m\u001b[0morder\u001b[0m\u001b[1;33m=\u001b[0m\u001b[1;34m\"K\"\u001b[0m\u001b[1;33m)\u001b[0m\u001b[1;33m\n",
       "\u001b[0m    \u001b[0ma\u001b[0m\u001b[1;33m.\u001b[0m\u001b[0mpartition\u001b[0m\u001b[1;33m(\u001b[0m\u001b[0mkth\u001b[0m\u001b[1;33m,\u001b[0m \u001b[0maxis\u001b[0m\u001b[1;33m=\u001b[0m\u001b[0maxis\u001b[0m\u001b[1;33m,\u001b[0m \u001b[0mkind\u001b[0m\u001b[1;33m=\u001b[0m\u001b[0mkind\u001b[0m\u001b[1;33m,\u001b[0m \u001b[0morder\u001b[0m\u001b[1;33m=\u001b[0m\u001b[0morder\u001b[0m\u001b[1;33m)\u001b[0m\u001b[1;33m\n",
       "\u001b[0m    \u001b[1;32mreturn\u001b[0m \u001b[0ma\u001b[0m\u001b[1;33m\u001b[0m\u001b[1;33m\u001b[0m\u001b[0m\n",
       "\u001b[1;31mClass docstring:\u001b[0m\n",
       "Class to wrap functions with checks for __array_function__ overrides.\n",
       "\n",
       "All arguments are required, and can only be passed by position.\n",
       "\n",
       "Parameters\n",
       "----------\n",
       "dispatcher : function or None\n",
       "    The dispatcher function that returns a single sequence-like object\n",
       "    of all arguments relevant.  It must have the same signature (except\n",
       "    the default values) as the actual implementation.\n",
       "    If ``None``, this is a ``like=`` dispatcher and the\n",
       "    ``_ArrayFunctionDispatcher`` must be called with ``like`` as the\n",
       "    first (additional and positional) argument.\n",
       "implementation : function\n",
       "    Function that implements the operation on NumPy arrays without\n",
       "    overrides.  Arguments passed calling the ``_ArrayFunctionDispatcher``\n",
       "    will be forwarded to this (and the ``dispatcher``) as if using\n",
       "    ``*args, **kwargs``.\n",
       "\n",
       "Attributes\n",
       "----------\n",
       "_implementation : function\n",
       "    The original implementation passed in."
      ]
     },
     "metadata": {},
     "output_type": "display_data"
    }
   ],
   "source": [
    "np.partition??"
   ]
  },
  {
   "cell_type": "code",
   "execution_count": 60,
   "id": "647e11bd-2904-4d3d-bd53-e7a8cc7da00f",
   "metadata": {},
   "outputs": [],
   "source": [
    "# k-Nearest Neighbours\n",
    "\n",
    "X = rand.rand(100, 2)"
   ]
  },
  {
   "cell_type": "code",
   "execution_count": 63,
   "id": "9647c5ed-d17b-4198-bc0e-1caefd7216ba",
   "metadata": {},
   "outputs": [
    {
     "data": {
      "image/png": "[encoded data removed]",
      "text/plain": [
       "<Figure size 640x480 with 1 Axes>"
      ]
     },
     "metadata": {},
     "output_type": "display_data"
    }
   ],
   "source": [
    "%matplotlib inline\n",
    "import matplotlib.pyplot as plt \n",
    "import seaborn; seaborn.set() # Plot styling \n",
    "plt.scatter(X[:, 0], X[:, 1], s=10);\n",
    "plt.show()"
   ]
  },
  {
   "cell_type": "code",
   "execution_count": 64,
   "id": "dc9af977-5ae9-459c-88d4-ff8a9d00814f",
   "metadata": {},
   "outputs": [
    {
     "data": {
      "text/plain": [
       "array([[0.        , 1.02775652, 0.06314734, ..., 0.50044188, 0.07755795,\n",
       "        0.01293118],\n",
       "       [1.02775652, 0.        , 1.04003311, ..., 0.63045518, 0.97403888,\n",
       "        1.21262542],\n",
       "       [0.06314734, 1.04003311, 0.        , ..., 0.81727208, 0.0020063 ,\n",
       "        0.11822093],\n",
       "       ...,\n",
       "       [0.50044188, 0.63045518, 0.81727208, ..., 0.        , 0.81954615,\n",
       "        0.50486569],\n",
       "       [0.07755795, 0.97403888, 0.0020063 , ..., 0.81954615, 0.        ,\n",
       "        0.14251285],\n",
       "       [0.01293118, 1.21262542, 0.11822093, ..., 0.50486569, 0.14251285,\n",
       "        0.        ]])"
      ]
     },
     "execution_count": 64,
     "metadata": {},
     "output_type": "execute_result"
    }
   ],
   "source": [
    "dist_sq = np.sum((X[:, np.newaxis, :] - X[np.newaxis, :, :]) ** 2, axis=-1)\n",
    "dist_sq \n"
   ]
  },
  {
   "cell_type": "code",
   "execution_count": 65,
   "id": "94f7072f-4d89-4236-882b-b4d532486f05",
   "metadata": {},
   "outputs": [
    {
     "name": "stdout",
     "output_type": "stream",
     "text": [
      "[[ 0 89 70 ...  1 35 32]\n",
      " [ 1 35 29 ... 18 99 15]\n",
      " [ 2 98 58 ... 29 32 35]\n",
      " ...\n",
      " [97 45 48 ... 84 86 57]\n",
      " [98 58  2 ... 29 32 35]\n",
      " [99 50 15 ...  1 35 32]]\n"
     ]
    }
   ],
   "source": [
    "# dist_sq.shape\n",
    "# dis_sq.diagonal()\n",
    "\n",
    "nearest = np.argsort(dist_sq, axis=1)\n",
    "print(nearest)"
   ]
  },
  {
   "cell_type": "code",
   "execution_count": 81,
   "id": "a9aafb74-0503-4305-a3e3-dafa5f2db22c",
   "metadata": {},
   "outputs": [
    {
     "data": {
      "text/plain": [
       "array([[0, 1, 2, 3, 4, 5, 6, 7, 9, 8],\n",
       "       [0, 1, 9, 3, 4, 5, 6, 7, 8, 2],\n",
       "       [0, 1, 2, 3, 4, 9, 6, 7, 8, 5],\n",
       "       [0, 1, 9, 3, 4, 5, 6, 7, 8, 2],\n",
       "       [0, 1, 9, 3, 4, 5, 6, 7, 8, 2],\n",
       "       [9, 1, 2, 3, 4, 5, 6, 7, 8, 0],\n",
       "       [9, 1, 2, 3, 4, 5, 6, 7, 8, 0],\n",
       "       [0, 1, 9, 3, 4, 5, 6, 7, 8, 2],\n",
       "       [9, 1, 2, 3, 4, 5, 6, 7, 8, 0],\n",
       "       [0, 1, 9, 3, 4, 5, 6, 7, 8, 2]], dtype=int64)"
      ]
     },
     "execution_count": 81,
     "metadata": {},
     "output_type": "execute_result"
    }
   ],
   "source": [
    "K = 8\n",
    "nearest_partition = np.argpartition(dis_sq, K+1, axis=1)\n",
    "nearest_partition"
   ]
  },
  {
   "cell_type": "code",
   "execution_count": 86,
   "id": "6c4c169b-7177-4e45-b6fb-f08cc766ef3d",
   "metadata": {},
   "outputs": [
    {
     "ename": "IndexError",
     "evalue": "index 10 is out of bounds for axis 0 with size 10",
     "output_type": "error",
     "traceback": [
      "\u001b[1;31m---------------------------------------------------------------------------\u001b[0m",
      "\u001b[1;31mIndexError\u001b[0m                                Traceback (most recent call last)",
      "Cell \u001b[1;32mIn[86], line 7\u001b[0m\n\u001b[0;32m      4\u001b[0m K \u001b[38;5;241m=\u001b[39m \u001b[38;5;241m2\u001b[39m\n\u001b[0;32m      6\u001b[0m \u001b[38;5;28;01mfor\u001b[39;00m i \u001b[38;5;129;01min\u001b[39;00m \u001b[38;5;28mrange\u001b[39m(X\u001b[38;5;241m.\u001b[39mshape[\u001b[38;5;241m0\u001b[39m]):\n\u001b[1;32m----> 7\u001b[0m     \u001b[38;5;28;01mfor\u001b[39;00m j \u001b[38;5;129;01min\u001b[39;00m nearest_partition[i, :K\u001b[38;5;241m+\u001b[39m\u001b[38;5;241m1\u001b[39m]:\n\u001b[0;32m      8\u001b[0m         \u001b[38;5;66;03m# plot a line from X[i] to X[j]\u001b[39;00m\n\u001b[0;32m      9\u001b[0m         \u001b[38;5;66;03m# \"use some zip magic to make it happen\"\u001b[39;00m\n\u001b[0;32m     10\u001b[0m         plt\u001b[38;5;241m.\u001b[39mplot(\u001b[38;5;241m*\u001b[39m\u001b[38;5;28mzip\u001b[39m(X[j], X[i]), color\u001b[38;5;241m=\u001b[39m\u001b[38;5;124m'\u001b[39m\u001b[38;5;124mblack\u001b[39m\u001b[38;5;124m'\u001b[39m)\n\u001b[0;32m     11\u001b[0m plt\u001b[38;5;241m.\u001b[39mshow()\n",
      "\u001b[1;31mIndexError\u001b[0m: index 10 is out of bounds for axis 0 with size 10"
     ]
    }
   ],
   "source": [
    "plt.scatter(X[:,0], X[:, 1], s=10)\n",
    "\n",
    "# Draw lines from each point to its nearest neighbours\n",
    "K = 2\n",
    "\n",
    "for i in range(X.shape[0]):\n",
    "    for j in nearest_partition[i, :K+1]:\n",
    "        # plot a line from X[i] to X[j]\n",
    "        # \"use some zip magic to make it happen\"\n",
    "        plt.plot(*zip(X[j], X[i]), color='black')\n",
    "plt.show()"
   ]
  },
  {
   "cell_type": "code",
   "execution_count": 76,
   "id": "10dc3fb9-a911-4122-a43a-dacf20340299",
   "metadata": {},
   "outputs": [
    {
     "data": {
      "text/plain": [
       "10"
      ]
     },
     "execution_count": 76,
     "metadata": {},
     "output_type": "execute_result"
    }
   ],
   "source": [
    "nearest_partition.shape[0]"
   ]
  },
  {
   "cell_type": "code",
   "execution_count": 95,
   "id": "bbda853c-3ead-4e68-a151-189a6410a7d3",
   "metadata": {},
   "outputs": [
    {
     "data": {
      "image/png": "[encoded data removed]",
      "text/plain": [
       "<Figure size 640x480 with 1 Axes>"
      ]
     },
     "metadata": {},
     "output_type": "display_data"
    }
   ],
   "source": [
    "rand = np.random.RandomState(42)\n",
    "X = rand.rand(100, 2)\n",
    "\n",
    "# Compute squared distances\n",
    "dis_sq = np.sum((X[:, np.newaxis, :] - X[np.newaxis, :, :])**2, axis=-1)\n",
    "\n",
    "# K nearest neighbors\n",
    "K = 2\n",
    "\n",
    "# Get indices of smallest distances (include self)\n",
    "nearest_partition = np.argpartition(dis_sq, K+1, axis=1)\n",
    "\n",
    "# Clip indices to valid range (0 to 99)\n",
    "nearest_partition = np.clip(nearest_partition, 0, X.shape[0]-1)\n",
    "\n",
    "# Plot points\n",
    "plt.scatter(X[:, 0], X[:, 1], s=30)\n",
    "\n",
    "# Draw lines to K nearest neighbors\n",
    "for i in range(X.shape[0]):\n",
    "    for j in nearest_partition[i, :K+1]:\n",
    "        plt.plot(*zip(X[i], X[j]), color='black', linewidth=0.5)\n",
    "\n",
    "plt.show()"
   ]
  }
 ],
 "metadata": {
  "kernelspec": {
   "display_name": "Python 3 (ipykernel)",
   "language": "python",
   "name": "python3"
  },
  "language_info": {
   "codemirror_mode": {
    "name": "ipython",
    "version": 3
   },
   "file_extension": ".py",
   "mimetype": "text/x-python",
   "name": "python",
   "nbconvert_exporter": "python",
   "pygments_lexer": "ipython3",
   "version": "3.12.7"
  }
 },
 "nbformat": 4,
 "nbformat_minor": 5
}
