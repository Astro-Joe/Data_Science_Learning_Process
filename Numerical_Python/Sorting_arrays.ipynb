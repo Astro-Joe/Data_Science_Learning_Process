{
 "cells": [
  {
   "cell_type": "code",
   "execution_count": 108,
   "id": "da3de073-c065-4988-8cc5-8fb91b8db6e4",
   "metadata": {},
   "outputs": [],
   "source": [
    "import numpy as np"
   ]
  },
  {
   "cell_type": "code",
   "execution_count": 109,
   "id": "37f1e91d-1e0a-46ea-bc4c-c3fac2e713d2",
   "metadata": {},
   "outputs": [],
   "source": [
    "def selection_sort(x):\n",
    "    for i in range(len(x)): \n",
    "        swap = i + np.argmin(x[i:]) \n",
    "        (x[i], x[swap]) = (x[swap], x[i])\n",
    "    return x"
   ]
  },
  {
   "cell_type": "code",
   "execution_count": 110,
   "id": "16a6c092-007f-439b-a4d0-47bf165f2f55",
   "metadata": {},
   "outputs": [],
   "source": [
    "x = np.array([2, 1, 3, 5, 4])\n",
    "# selection_sort(x)"
   ]
  },
  {
   "cell_type": "code",
   "execution_count": 111,
   "id": "af538ea3-1000-45ef-9489-7c1953c8645f",
   "metadata": {},
   "outputs": [
    {
     "data": {
      "text/plain": [
       "array([1, 2, 3, 4, 5])"
      ]
     },
     "execution_count": 111,
     "metadata": {},
     "output_type": "execute_result"
    }
   ],
   "source": [
    "np.sort(x) \n"
   ]
  },
  {
   "cell_type": "code",
   "execution_count": 112,
   "id": "185346b9-8a9c-4be9-8bf6-f9d5590898c5",
   "metadata": {},
   "outputs": [
    {
     "data": {
      "text/plain": [
       "array([1, 2, 3, 4, 5])"
      ]
     },
     "execution_count": 112,
     "metadata": {},
     "output_type": "execute_result"
    }
   ],
   "source": [
    "i = np.argsort(x) # Shows the indices of the sorted elements\n",
    "x[i]"
   ]
  },
  {
   "cell_type": "code",
   "execution_count": 113,
   "id": "4a6dbf00-b3c6-4e25-af6a-621123c97dd4",
   "metadata": {},
   "outputs": [
    {
     "name": "stdout",
     "output_type": "stream",
     "text": [
      "[[6 3 7 4 6 9]\n",
      " [2 6 7 4 3 7]\n",
      " [7 2 5 4 1 7]\n",
      " [5 1 4 0 9 5]]\n"
     ]
    }
   ],
   "source": [
    "rand =  np.random.RandomState(42)\n",
    "x = rand.randint(0, 10, (4, 6))\n",
    "print(x)"
   ]
  },
  {
   "cell_type": "code",
   "execution_count": 114,
   "id": "9687c890-0c34-477d-9c3a-bfefa72ad637",
   "metadata": {},
   "outputs": [
    {
     "name": "stdout",
     "output_type": "stream",
     "text": [
      "[[2 1 4 0 1 5]\n",
      " [5 2 5 4 3 7]\n",
      " [6 3 7 4 6 7]\n",
      " [7 6 7 4 9 9]]\n",
      "[[3 4 6 6 7 9]\n",
      " [2 3 4 6 7 7]\n",
      " [1 2 4 5 7 7]\n",
      " [0 1 4 5 5 9]]\n"
     ]
    }
   ],
   "source": [
    " #Using np.sort() axis parameter\n",
    "\n",
    "print(np.sort(x, axis=0)) # Sorting the columns. \n",
    "print(np.sort(x, axis=1)) # Sorting the rows. "
   ]
  },
  {
   "cell_type": "code",
   "execution_count": 115,
   "id": "305d7824-713a-4cca-b8c4-e2b6c5950bf0",
   "metadata": {},
   "outputs": [
    {
     "data": {
      "text/plain": [
       "array([2, 1, 3, 4, 6, 5, 7])"
      ]
     },
     "execution_count": 115,
     "metadata": {},
     "output_type": "execute_result"
    }
   ],
   "source": [
    "# Partioning\n",
    "X = np.array([7, 2, 3, 1, 6, 5, 4])\n",
    "np.partition(X, 3)"
   ]
  },
  {
   "cell_type": "code",
   "execution_count": 116,
   "id": "9d614bfd-6149-427a-b419-dc5b88f69d82",
   "metadata": {},
   "outputs": [
    {
     "data": {
      "text/plain": [
       "array([[3, 4, 6, 6, 7, 9],\n",
       "       [2, 3, 4, 6, 7, 7],\n",
       "       [2, 1, 4, 5, 7, 7],\n",
       "       [0, 4, 1, 5, 9, 5]])"
      ]
     },
     "execution_count": 116,
     "metadata": {},
     "output_type": "execute_result"
    }
   ],
   "source": [
    "np.partition(x, 3, axis=1)"
   ]
  },
  {
   "cell_type": "code",
   "execution_count": 117,
   "id": "cfe15040-6e34-4d39-85a3-9f22e936f650",
   "metadata": {},
   "outputs": [
    {
     "data": {
      "text/plain": [
       "\u001b[1;31mSignature:\u001b[0m       \u001b[0mnp\u001b[0m\u001b[1;33m.\u001b[0m\u001b[0mpartition\u001b[0m\u001b[1;33m(\u001b[0m\u001b[0ma\u001b[0m\u001b[1;33m,\u001b[0m \u001b[0mkth\u001b[0m\u001b[1;33m,\u001b[0m \u001b[0maxis\u001b[0m\u001b[1;33m=\u001b[0m\u001b[1;33m-\u001b[0m\u001b[1;36m1\u001b[0m\u001b[1;33m,\u001b[0m \u001b[0mkind\u001b[0m\u001b[1;33m=\u001b[0m\u001b[1;34m'introselect'\u001b[0m\u001b[1;33m,\u001b[0m \u001b[0morder\u001b[0m\u001b[1;33m=\u001b[0m\u001b[1;32mNone\u001b[0m\u001b[1;33m)\u001b[0m\u001b[1;33m\u001b[0m\u001b[1;33m\u001b[0m\u001b[0m\n",
       "\u001b[1;31mCall signature:\u001b[0m  \u001b[0mnp\u001b[0m\u001b[1;33m.\u001b[0m\u001b[0mpartition\u001b[0m\u001b[1;33m(\u001b[0m\u001b[1;33m*\u001b[0m\u001b[0margs\u001b[0m\u001b[1;33m,\u001b[0m \u001b[1;33m**\u001b[0m\u001b[0mkwargs\u001b[0m\u001b[1;33m)\u001b[0m\u001b[1;33m\u001b[0m\u001b[1;33m\u001b[0m\u001b[0m\n",
       "\u001b[1;31mType:\u001b[0m            _ArrayFunctionDispatcher\n",
       "\u001b[1;31mString form:\u001b[0m     <function partition at 0x0000025B2D8802C0>\n",
       "\u001b[1;31mFile:\u001b[0m            c:\\users\\astrojoe\\anaconda3\\lib\\site-packages\\numpy\\core\\fromnumeric.py\n",
       "\u001b[1;31mSource:\u001b[0m         \n",
       "\u001b[1;33m@\u001b[0m\u001b[0marray_function_dispatch\u001b[0m\u001b[1;33m(\u001b[0m\u001b[0m_partition_dispatcher\u001b[0m\u001b[1;33m)\u001b[0m\u001b[1;33m\n",
       "\u001b[0m\u001b[1;32mdef\u001b[0m \u001b[0mpartition\u001b[0m\u001b[1;33m(\u001b[0m\u001b[0ma\u001b[0m\u001b[1;33m,\u001b[0m \u001b[0mkth\u001b[0m\u001b[1;33m,\u001b[0m \u001b[0maxis\u001b[0m\u001b[1;33m=\u001b[0m\u001b[1;33m-\u001b[0m\u001b[1;36m1\u001b[0m\u001b[1;33m,\u001b[0m \u001b[0mkind\u001b[0m\u001b[1;33m=\u001b[0m\u001b[1;34m'introselect'\u001b[0m\u001b[1;33m,\u001b[0m \u001b[0morder\u001b[0m\u001b[1;33m=\u001b[0m\u001b[1;32mNone\u001b[0m\u001b[1;33m)\u001b[0m\u001b[1;33m:\u001b[0m\u001b[1;33m\n",
       "\u001b[0m    \u001b[1;34m\"\"\"\n",
       "    Return a partitioned copy of an array.\n",
       "\n",
       "    Creates a copy of the array with its elements rearranged in such a\n",
       "    way that the value of the element in k-th position is in the position\n",
       "    the value would be in a sorted array.  In the partitioned array, all\n",
       "    elements before the k-th element are less than or equal to that\n",
       "    element, and all the elements after the k-th element are greater than\n",
       "    or equal to that element.  The ordering of the elements in the two\n",
       "    partitions is undefined.\n",
       "\n",
       "    .. versionadded:: 1.8.0\n",
       "\n",
       "    Parameters\n",
       "    ----------\n",
       "    a : array_like\n",
       "        Array to be sorted.\n",
       "    kth : int or sequence of ints\n",
       "        Element index to partition by. The k-th value of the element\n",
       "        will be in its final sorted position and all smaller elements\n",
       "        will be moved before it and all equal or greater elements behind\n",
       "        it. The order of all elements in the partitions is undefined. If\n",
       "        provided with a sequence of k-th it will partition all elements\n",
       "        indexed by k-th  of them into their sorted position at once.\n",
       "\n",
       "        .. deprecated:: 1.22.0\n",
       "            Passing booleans as index is deprecated.\n",
       "    axis : int or None, optional\n",
       "        Axis along which to sort. If None, the array is flattened before\n",
       "        sorting. The default is -1, which sorts along the last axis.\n",
       "    kind : {'introselect'}, optional\n",
       "        Selection algorithm. Default is 'introselect'.\n",
       "    order : str or list of str, optional\n",
       "        When `a` is an array with fields defined, this argument\n",
       "        specifies which fields to compare first, second, etc.  A single\n",
       "        field can be specified as a string.  Not all fields need be\n",
       "        specified, but unspecified fields will still be used, in the\n",
       "        order in which they come up in the dtype, to break ties.\n",
       "\n",
       "    Returns\n",
       "    -------\n",
       "    partitioned_array : ndarray\n",
       "        Array of the same type and shape as `a`.\n",
       "\n",
       "    See Also\n",
       "    --------\n",
       "    ndarray.partition : Method to sort an array in-place.\n",
       "    argpartition : Indirect partition.\n",
       "    sort : Full sorting\n",
       "\n",
       "    Notes\n",
       "    -----\n",
       "    The various selection algorithms are characterized by their average\n",
       "    speed, worst case performance, work space size, and whether they are\n",
       "    stable. A stable sort keeps items with the same key in the same\n",
       "    relative order. The available algorithms have the following\n",
       "    properties:\n",
       "\n",
       "    ================= ======= ============= ============ =======\n",
       "       kind            speed   worst case    work space  stable\n",
       "    ================= ======= ============= ============ =======\n",
       "    'introselect'        1        O(n)           0         no\n",
       "    ================= ======= ============= ============ =======\n",
       "\n",
       "    All the partition algorithms make temporary copies of the data when\n",
       "    partitioning along any but the last axis.  Consequently,\n",
       "    partitioning along the last axis is faster and uses less space than\n",
       "    partitioning along any other axis.\n",
       "\n",
       "    The sort order for complex numbers is lexicographic. If both the\n",
       "    real and imaginary parts are non-nan then the order is determined by\n",
       "    the real parts except when they are equal, in which case the order\n",
       "    is determined by the imaginary parts.\n",
       "\n",
       "    Examples\n",
       "    --------\n",
       "    >>> a = np.array([7, 1, 7, 7, 1, 5, 7, 2, 3, 2, 6, 2, 3, 0])\n",
       "    >>> p = np.partition(a, 4)\n",
       "    >>> p\n",
       "    array([0, 1, 2, 1, 2, 5, 2, 3, 3, 6, 7, 7, 7, 7])\n",
       "\n",
       "    ``p[4]`` is 2;  all elements in ``p[:4]`` are less than or equal\n",
       "    to ``p[4]``, and all elements in ``p[5:]`` are greater than or\n",
       "    equal to ``p[4]``.  The partition is::\n",
       "\n",
       "        [0, 1, 2, 1], [2], [5, 2, 3, 3, 6, 7, 7, 7, 7]\n",
       "\n",
       "    The next example shows the use of multiple values passed to `kth`.\n",
       "\n",
       "    >>> p2 = np.partition(a, (4, 8))\n",
       "    >>> p2\n",
       "    array([0, 1, 2, 1, 2, 3, 3, 2, 5, 6, 7, 7, 7, 7])\n",
       "\n",
       "    ``p2[4]`` is 2  and ``p2[8]`` is 5.  All elements in ``p2[:4]``\n",
       "    are less than or equal to ``p2[4]``, all elements in ``p2[5:8]``\n",
       "    are greater than or equal to ``p2[4]`` and less than or equal to\n",
       "    ``p2[8]``, and all elements in ``p2[9:]`` are greater than or\n",
       "    equal to ``p2[8]``.  The partition is::\n",
       "\n",
       "        [0, 1, 2, 1], [2], [3, 3, 2], [5], [6, 7, 7, 7, 7]\n",
       "    \"\"\"\u001b[0m\u001b[1;33m\n",
       "\u001b[0m    \u001b[1;32mif\u001b[0m \u001b[0maxis\u001b[0m \u001b[1;32mis\u001b[0m \u001b[1;32mNone\u001b[0m\u001b[1;33m:\u001b[0m\u001b[1;33m\n",
       "\u001b[0m        \u001b[1;31m# flatten returns (1, N) for np.matrix, so always use the last axis\u001b[0m\u001b[1;33m\n",
       "\u001b[0m        \u001b[0ma\u001b[0m \u001b[1;33m=\u001b[0m \u001b[0masanyarray\u001b[0m\u001b[1;33m(\u001b[0m\u001b[0ma\u001b[0m\u001b[1;33m)\u001b[0m\u001b[1;33m.\u001b[0m\u001b[0mflatten\u001b[0m\u001b[1;33m(\u001b[0m\u001b[1;33m)\u001b[0m\u001b[1;33m\n",
       "\u001b[0m        \u001b[0maxis\u001b[0m \u001b[1;33m=\u001b[0m \u001b[1;33m-\u001b[0m\u001b[1;36m1\u001b[0m\u001b[1;33m\n",
       "\u001b[0m    \u001b[1;32melse\u001b[0m\u001b[1;33m:\u001b[0m\u001b[1;33m\n",
       "\u001b[0m        \u001b[0ma\u001b[0m \u001b[1;33m=\u001b[0m \u001b[0masanyarray\u001b[0m\u001b[1;33m(\u001b[0m\u001b[0ma\u001b[0m\u001b[1;33m)\u001b[0m\u001b[1;33m.\u001b[0m\u001b[0mcopy\u001b[0m\u001b[1;33m(\u001b[0m\u001b[0morder\u001b[0m\u001b[1;33m=\u001b[0m\u001b[1;34m\"K\"\u001b[0m\u001b[1;33m)\u001b[0m\u001b[1;33m\n",
       "\u001b[0m    \u001b[0ma\u001b[0m\u001b[1;33m.\u001b[0m\u001b[0mpartition\u001b[0m\u001b[1;33m(\u001b[0m\u001b[0mkth\u001b[0m\u001b[1;33m,\u001b[0m \u001b[0maxis\u001b[0m\u001b[1;33m=\u001b[0m\u001b[0maxis\u001b[0m\u001b[1;33m,\u001b[0m \u001b[0mkind\u001b[0m\u001b[1;33m=\u001b[0m\u001b[0mkind\u001b[0m\u001b[1;33m,\u001b[0m \u001b[0morder\u001b[0m\u001b[1;33m=\u001b[0m\u001b[0morder\u001b[0m\u001b[1;33m)\u001b[0m\u001b[1;33m\n",
       "\u001b[0m    \u001b[1;32mreturn\u001b[0m \u001b[0ma\u001b[0m\u001b[1;33m\u001b[0m\u001b[1;33m\u001b[0m\u001b[0m\n",
       "\u001b[1;31mClass docstring:\u001b[0m\n",
       "Class to wrap functions with checks for __array_function__ overrides.\n",
       "\n",
       "All arguments are required, and can only be passed by position.\n",
       "\n",
       "Parameters\n",
       "----------\n",
       "dispatcher : function or None\n",
       "    The dispatcher function that returns a single sequence-like object\n",
       "    of all arguments relevant.  It must have the same signature (except\n",
       "    the default values) as the actual implementation.\n",
       "    If ``None``, this is a ``like=`` dispatcher and the\n",
       "    ``_ArrayFunctionDispatcher`` must be called with ``like`` as the\n",
       "    first (additional and positional) argument.\n",
       "implementation : function\n",
       "    Function that implements the operation on NumPy arrays without\n",
       "    overrides.  Arguments passed calling the ``_ArrayFunctionDispatcher``\n",
       "    will be forwarded to this (and the ``dispatcher``) as if using\n",
       "    ``*args, **kwargs``.\n",
       "\n",
       "Attributes\n",
       "----------\n",
       "_implementation : function\n",
       "    The original implementation passed in."
      ]
     },
     "metadata": {},
     "output_type": "display_data"
    }
   ],
   "source": [
    "np.partition??"
   ]
  },
  {
   "cell_type": "code",
   "execution_count": 118,
   "id": "647e11bd-2904-4d3d-bd53-e7a8cc7da00f",
   "metadata": {},
   "outputs": [],
   "source": [
    "# k-Nearest Neighbours\n",
    "\n",
    "X = rand.rand(10, 2)"
   ]
  },
  {
   "cell_type": "code",
   "execution_count": 125,
   "id": "9647c5ed-d17b-4198-bc0e-1caefd7216ba",
   "metadata": {},
   "outputs": [
    {
     "data": {
      "image/png": "[encoded data removed]",
      "text/plain": [
       "<Figure size 640x480 with 1 Axes>"
      ]
     },
     "metadata": {},
     "output_type": "display_data"
    }
   ],
   "source": [
    "%matplotlib inline\n",
    "import matplotlib.pyplot as plt \n",
    "import seaborn; seaborn.set() # Plot styling \n",
    "plt.scatter(X[:, 0], X[:, 1], s=100);\n",
    "plt.show()"
   ]
  },
  {
   "cell_type": "code",
   "execution_count": 126,
   "id": "dc9af977-5ae9-459c-88d4-ff8a9d00814f",
   "metadata": {},
   "outputs": [
    {
     "data": {
      "text/plain": [
       "array([[0.        , 0.40999909, 0.90538547, 0.05550496, 0.50287983,\n",
       "        1.14976739, 1.15936537, 0.19672877, 1.16632222, 0.14319923],\n",
       "       [0.40999909, 0.        , 0.55794316, 0.18090431, 0.00906581,\n",
       "        0.21465798, 0.19098635, 0.15497331, 0.20095384, 0.16679585],\n",
       "       [0.90538547, 0.55794316, 0.        , 0.81458763, 0.67649219,\n",
       "        1.13419594, 0.74752753, 1.08562368, 0.9704683 , 1.03211241],\n",
       "       [0.05550496, 0.18090431, 0.81458763, 0.        , 0.23387834,\n",
       "        0.70468321, 0.74108843, 0.05338715, 0.72671958, 0.0288717 ],\n",
       "       [0.50287983, 0.00906581, 0.67649219, 0.23387834, 0.        ,\n",
       "        0.14021843, 0.1470605 , 0.16449241, 0.13755476, 0.18859392],\n",
       "       [1.14976739, 0.21465798, 1.13419594, 0.70468321, 0.14021843,\n",
       "        0.        , 0.06080186, 0.48946337, 0.01100053, 0.56059965],\n",
       "       [1.15936537, 0.19098635, 0.74752753, 0.74108843, 0.1470605 ,\n",
       "        0.06080186, 0.        , 0.61258786, 0.02046045, 0.66652228],\n",
       "       [0.19672877, 0.15497331, 1.08562368, 0.05338715, 0.16449241,\n",
       "        0.48946337, 0.61258786, 0.        , 0.54429694, 0.00424306],\n",
       "       [1.16632222, 0.20095384, 0.9704683 , 0.72671958, 0.13755476,\n",
       "        0.01100053, 0.02046045, 0.54429694, 0.        , 0.60957115],\n",
       "       [0.14319923, 0.16679585, 1.03211241, 0.0288717 , 0.18859392,\n",
       "        0.56059965, 0.66652228, 0.00424306, 0.60957115, 0.        ]])"
      ]
     },
     "execution_count": 126,
     "metadata": {},
     "output_type": "execute_result"
    }
   ],
   "source": [
    "dist_sq = np.sum((X[:, np.newaxis, :] - X[np.newaxis, :, :]) ** 2, axis=-1)\n",
    "dist_sq \n"
   ]
  },
  {
   "cell_type": "code",
   "execution_count": 127,
   "id": "94f7072f-4d89-4236-882b-b4d532486f05",
   "metadata": {},
   "outputs": [
    {
     "name": "stdout",
     "output_type": "stream",
     "text": [
      "[[0 3 9 7 1 4 2 5 6 8]\n",
      " [1 4 7 9 3 6 8 5 0 2]\n",
      " [2 1 4 6 3 0 8 9 7 5]\n",
      " [3 9 7 0 1 4 5 8 6 2]\n",
      " [4 1 8 5 6 7 9 3 0 2]\n",
      " [5 8 6 4 1 7 9 3 2 0]\n",
      " [6 8 5 4 1 7 9 3 2 0]\n",
      " [7 9 3 1 4 0 5 8 6 2]\n",
      " [8 5 6 4 1 7 9 3 2 0]\n",
      " [9 7 3 0 1 4 5 8 6 2]]\n"
     ]
    }
   ],
   "source": [
    "# dist_sq.shape\n",
    "# dis_sq.diagonal()\n",
    "\n",
    "nearest = np.argsort(dist_sq, axis=1)\n",
    "print(nearest)"
   ]
  },
  {
   "cell_type": "code",
   "execution_count": 122,
   "id": "a9aafb74-0503-4305-a3e3-dafa5f2db22c",
   "metadata": {},
   "outputs": [],
   "source": [
    "K = 2\n",
    "nearest_partition = np.argpartition(dis_sq, K+1, axis=1)\n"
   ]
  },
  {
   "cell_type": "code",
   "execution_count": 129,
   "id": "6c4c169b-7177-4e45-b6fb-f08cc766ef3d",
   "metadata": {},
   "outputs": [
    {
     "ename": "IndexError",
     "evalue": "index 69 is out of bounds for axis 0 with size 10",
     "output_type": "error",
     "traceback": [
      "\u001b[1;31m---------------------------------------------------------------------------\u001b[0m",
      "\u001b[1;31mIndexError\u001b[0m                                Traceback (most recent call last)",
      "Cell \u001b[1;32mIn[129], line 8\u001b[0m\n\u001b[0;32m      4\u001b[0m \u001b[38;5;28;01mfor\u001b[39;00m i \u001b[38;5;129;01min\u001b[39;00m \u001b[38;5;28mrange\u001b[39m(X\u001b[38;5;241m.\u001b[39mshape[\u001b[38;5;241m0\u001b[39m]):\n\u001b[0;32m      5\u001b[0m     \u001b[38;5;28;01mfor\u001b[39;00m j \u001b[38;5;129;01min\u001b[39;00m nearest_partition[i, :K\u001b[38;5;241m+\u001b[39m\u001b[38;5;241m1\u001b[39m]:\n\u001b[0;32m      6\u001b[0m \u001b[38;5;66;03m# plot a line from X[i] to X[j]\u001b[39;00m\n\u001b[0;32m      7\u001b[0m \u001b[38;5;66;03m# use some zip magic to make it happen:\u001b[39;00m\n\u001b[1;32m----> 8\u001b[0m         plt\u001b[38;5;241m.\u001b[39mplot(\u001b[38;5;241m*\u001b[39m\u001b[38;5;28mzip\u001b[39m(X[j], X[i]), color\u001b[38;5;241m=\u001b[39m\u001b[38;5;124m'\u001b[39m\u001b[38;5;124mblack\u001b[39m\u001b[38;5;124m'\u001b[39m)\n",
      "\u001b[1;31mIndexError\u001b[0m: index 69 is out of bounds for axis 0 with size 10"
     ]
    }
   ],
   "source": [
    "plt.scatter(X[:, 0], X[:, 1], s=100)\n",
    "# draw lines from each point to its two nearest neighbors\n",
    "K = 2\n",
    "for i in range(X.shape[0]):\n",
    "    for j in nearest_partition[i, :K+1]:\n",
    "# plot a line from X[i] to X[j]\n",
    "# use some zip magic to make it happen:\n",
    "        plt.plot(*zip(X[j], X[i]), color='black')"
   ]
  }
 ],
 "metadata": {
  "kernelspec": {
   "display_name": "Python 3 (ipykernel)",
   "language": "python",
   "name": "python3"
  },
  "language_info": {
   "codemirror_mode": {
    "name": "ipython",
    "version": 3
   },
   "file_extension": ".py",
   "mimetype": "text/x-python",
   "name": "python",
   "nbconvert_exporter": "python",
   "pygments_lexer": "ipython3",
   "version": "3.12.7"
  }
 },
 "nbformat": 4,
 "nbformat_minor": 5
}
