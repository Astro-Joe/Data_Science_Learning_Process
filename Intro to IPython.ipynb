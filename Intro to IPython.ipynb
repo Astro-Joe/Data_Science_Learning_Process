{
 "cells": [
  {
   "cell_type": "code",
   "execution_count": 8,
   "id": "6049a21c",
   "metadata": {
    "scrolled": true
   },
   "outputs": [
    {
     "name": "stdout",
     "output_type": "stream",
     "text": [
      "Requirement already satisfied: pandas in c:\\users\\unknown\\anaconda\\lib\\site-packages (1.4.2)\n",
      "Requirement already satisfied: python-dateutil>=2.8.1 in c:\\users\\unknown\\anaconda\\lib\\site-packages (from pandas) (2.8.2)\n",
      "Requirement already satisfied: numpy>=1.18.5 in c:\\users\\unknown\\anaconda\\lib\\site-packages (from pandas) (1.21.5)\n",
      "Requirement already satisfied: pytz>=2020.1 in c:\\users\\unknown\\anaconda\\lib\\site-packages (from pandas) (2021.3)\n",
      "Requirement already satisfied: six>=1.5 in c:\\users\\unknown\\anaconda\\lib\\site-packages (from python-dateutil>=2.8.1->pandas) (1.16.0)\n"
     ]
    }
   ],
   "source": [
    "#First off install neede packages.\n",
    "#!pip install <packagename>\n",
    "\n",
    "!pip install pandas"
   ]
  },
  {
   "cell_type": "code",
   "execution_count": 9,
   "id": "e4c170b3",
   "metadata": {
    "scrolled": true
   },
   "outputs": [
    {
     "name": "stdout",
     "output_type": "stream",
     "text": [
      "Help on built-in function len in module builtins:\n",
      "\n",
      "len(obj, /)\n",
      "    Return the number of items in a container.\n",
      "\n"
     ]
    }
   ],
   "source": [
    "#You can access documentation of functoins and methods that \n",
    "#are'nt familiar by using the built in help functon.\n",
    "#help(nameoffunction/method) OR nameoffunction/method?\n",
    "\n",
    "help(len)"
   ]
  },
  {
   "cell_type": "code",
   "execution_count": 18,
   "id": "39d08b5b",
   "metadata": {},
   "outputs": [],
   "source": [
    "#len?\n",
    "len??"
   ]
  },
  {
   "cell_type": "code",
   "execution_count": 20,
   "id": "59d2cdd2",
   "metadata": {},
   "outputs": [
    {
     "ename": "SyntaxError",
     "evalue": "invalid syntax (988681980.py, line 4)",
     "output_type": "error",
     "traceback": [
      "\u001b[1;36m  Input \u001b[1;32mIn [20]\u001b[1;36m\u001b[0m\n\u001b[1;33m    L.<TAB>\u001b[0m\n\u001b[1;37m      ^\u001b[0m\n\u001b[1;31mSyntaxError\u001b[0m\u001b[1;31m:\u001b[0m invalid syntax\n"
     ]
    }
   ],
   "source": [
    "L = [1, 2, 3]\n",
    "#L.insert?\n",
    "# to check the list of available attributes available to an object, The following syntax is used\n",
    "#L.<TAB>   ..<TAB> means press the Tab key\n",
    "# To check for private methods/functions , the following syntax should be used.\n",
    "#L._<TAB>"
   ]
  },
  {
   "cell_type": "code",
   "execution_count": 14,
   "id": "3e7ed019",
   "metadata": {},
   "outputs": [
    {
     "data": {
      "text/plain": [
       "4"
      ]
     },
     "execution_count": 14,
     "metadata": {},
     "output_type": "execute_result"
    }
   ],
   "source": [
    "def square(a):\n",
    "    '''Returns the square of a'''\n",
    "    return a**2\n",
    "square?\n",
    "square(2)"
   ]
  },
  {
   "cell_type": "code",
   "execution_count": 19,
   "id": "fcbc4bc1",
   "metadata": {},
   "outputs": [],
   "source": [
    "square??\n"
   ]
  },
  {
   "cell_type": "code",
   "execution_count": 21,
   "id": "de947813",
   "metadata": {},
   "outputs": [
    {
     "ename": "SyntaxError",
     "evalue": "invalid syntax (2494350585.py, line 1)",
     "output_type": "error",
     "traceback": [
      "\u001b[1;36m  Input \u001b[1;32mIn [21]\u001b[1;36m\u001b[0m\n\u001b[1;33m    import\u001b[0m\n\u001b[1;37m           ^\u001b[0m\n\u001b[1;31mSyntaxError\u001b[0m\u001b[1;31m:\u001b[0m invalid syntax\n"
     ]
    }
   ],
   "source": [
    "# To find a particular package you want to import the following syntax could be used.\n",
    "#import <TAB> \n"
   ]
  },
  {
   "cell_type": "code",
   "execution_count": 22,
   "id": "490d0e22",
   "metadata": {},
   "outputs": [],
   "source": [
    "# The us of wildcard to find an object that containd a particular word.\n",
    "# The following syntax is employed\n",
    "*Warning? # List all objects ending with 'Warning'\n"
   ]
  },
  {
   "cell_type": "code",
   "execution_count": 23,
   "id": "686e2ecd",
   "metadata": {},
   "outputs": [],
   "source": [
    "str.*find? # Lista "
   ]
  },
  {
   "cell_type": "raw",
   "id": "0b96aaa2",
   "metadata": {},
   "source": []
  }
 ],
 "metadata": {
  "kernelspec": {
   "display_name": "Python 3 (ipykernel)",
   "language": "python",
   "name": "python3"
  },
  "language_info": {
   "codemirror_mode": {
    "name": "ipython",
    "version": 3
   },
   "file_extension": ".py",
   "mimetype": "text/x-python",
   "name": "python",
   "nbconvert_exporter": "python",
   "pygments_lexer": "ipython3",
   "version": "3.9.12"
  }
 },
 "nbformat": 4,
 "nbformat_minor": 5
}
