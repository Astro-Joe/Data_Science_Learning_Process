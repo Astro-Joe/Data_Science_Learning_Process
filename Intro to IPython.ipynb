{
 "cells": [
  {
   "cell_type": "code",
   "execution_count": 8,
   "id": "23256164",
   "metadata": {
    "scrolled": true
   },
   "outputs": [
    {
     "name": "stdout",
     "output_type": "stream",
     "text": [
      "Requirement already satisfied: pandas in c:\\users\\unknown\\anaconda\\lib\\site-packages (1.4.2)\n",
      "Requirement already satisfied: python-dateutil>=2.8.1 in c:\\users\\unknown\\anaconda\\lib\\site-packages (from pandas) (2.8.2)\n",
      "Requirement already satisfied: numpy>=1.18.5 in c:\\users\\unknown\\anaconda\\lib\\site-packages (from pandas) (1.21.5)\n",
      "Requirement already satisfied: pytz>=2020.1 in c:\\users\\unknown\\anaconda\\lib\\site-packages (from pandas) (2021.3)\n",
      "Requirement already satisfied: six>=1.5 in c:\\users\\unknown\\anaconda\\lib\\site-packages (from python-dateutil>=2.8.1->pandas) (1.16.0)\n"
     ]
    }
   ],
   "source": [
    "#First off install neede packages.\n",
    "#!pip install <packagename>\n",
    "\n",
    "!pip install pandas"
   ]
  },
  {
   "cell_type": "code",
   "execution_count": 9,
   "id": "438764df",
   "metadata": {
    "scrolled": true
   },
   "outputs": [
    {
     "name": "stdout",
     "output_type": "stream",
     "text": [
      "Help on built-in function len in module builtins:\n",
      "\n",
      "len(obj, /)\n",
      "    Return the number of items in a container.\n",
      "\n"
     ]
    }
   ],
   "source": [
    "#You can access documentation of functoins and methods that \n",
    "#are'nt familiar by using the built in help functon.\n",
    "#help(nameoffunction/method) OR nameoffunction/method?\n",
    "\n",
    "help(len)"
   ]
  },
  {
   "cell_type": "code",
   "execution_count": 18,
   "id": "bcc00ef0",
   "metadata": {},
   "outputs": [],
   "source": [
    "#len?\n",
    "len??"
   ]
  },
  {
   "cell_type": "code",
   "execution_count": 20,
   "id": "9696fef0",
   "metadata": {},
   "outputs": [
    {
     "ename": "SyntaxError",
     "evalue": "invalid syntax (988681980.py, line 4)",
     "output_type": "error",
     "traceback": [
      "\u001b[1;36m  Input \u001b[1;32mIn [20]\u001b[1;36m\u001b[0m\n\u001b[1;33m    L.<TAB>\u001b[0m\n\u001b[1;37m      ^\u001b[0m\n\u001b[1;31mSyntaxError\u001b[0m\u001b[1;31m:\u001b[0m invalid syntax\n"
     ]
    }
   ],
   "source": [
    "L = [1, 2, 3]\n",
    "#L.insert?\n",
    "# to check the list of available attributes available to an object, The following syntax is used\n",
    "#L.<TAB>   ..<TAB> means press the Tab key\n",
    "# To check for private methods/functions , the following syntax should be used.\n",
    "#L._<TAB>"
   ]
  },
  {
   "cell_type": "code",
   "execution_count": 14,
   "id": "25e7d2a4",
   "metadata": {},
   "outputs": [
    {
     "data": {
      "text/plain": [
       "4"
      ]
     },
     "execution_count": 14,
     "metadata": {},
     "output_type": "execute_result"
    }
   ],
   "source": [
    "def square(a):\n",
    "    '''Returns the square of a'''\n",
    "    return a**2\n",
    "square?\n",
    "square(2)"
   ]
  },
  {
   "cell_type": "code",
   "execution_count": 19,
   "id": "6805afea",
   "metadata": {},
   "outputs": [],
   "source": [
    "square??\n"
   ]
  },
  {
   "cell_type": "code",
   "execution_count": 21,
   "id": "5ce194a3",
   "metadata": {
    "collapsed": true
   },
   "outputs": [
    {
     "ename": "SyntaxError",
     "evalue": "invalid syntax (2494350585.py, line 1)",
     "output_type": "error",
     "traceback": [
      "\u001b[1;36m  Input \u001b[1;32mIn [21]\u001b[1;36m\u001b[0m\n\u001b[1;33m    import\u001b[0m\n\u001b[1;37m           ^\u001b[0m\n\u001b[1;31mSyntaxError\u001b[0m\u001b[1;31m:\u001b[0m invalid syntax\n"
     ]
    }
   ],
   "source": [
    "# To find a particular package you want to import the following syntax could be used.\n",
    "#import <TAB> \n"
   ]
  },
  {
   "cell_type": "code",
   "execution_count": 22,
   "id": "55b96657",
   "metadata": {},
   "outputs": [],
   "source": [
    "# The us of wildcard to find an object that containd a particular word.\n",
    "# The following syntax is employed\n",
    "*Warning? # List all objects ending with 'Warning'\n"
   ]
  },
  {
   "cell_type": "code",
   "execution_count": 23,
   "id": "438f3268",
   "metadata": {},
   "outputs": [],
   "source": [
    "str.*find? # Lists all objects contains 'find' somewhere in its name"
   ]
  },
  {
   "cell_type": "code",
   "execution_count": 24,
   "id": "835c11f7",
   "metadata": {
    "collapsed": true
   },
   "outputs": [
    {
     "data": {
      "application/json": {
       "cell": {
        "!": "OSMagics",
        "HTML": "Other",
        "SVG": "Other",
        "bash": "Other",
        "capture": "ExecutionMagics",
        "cmd": "Other",
        "debug": "ExecutionMagics",
        "file": "Other",
        "html": "DisplayMagics",
        "javascript": "DisplayMagics",
        "js": "DisplayMagics",
        "latex": "DisplayMagics",
        "markdown": "DisplayMagics",
        "perl": "Other",
        "prun": "ExecutionMagics",
        "pypy": "Other",
        "python": "Other",
        "python2": "Other",
        "python3": "Other",
        "ruby": "Other",
        "script": "ScriptMagics",
        "sh": "Other",
        "svg": "DisplayMagics",
        "sx": "OSMagics",
        "system": "OSMagics",
        "time": "ExecutionMagics",
        "timeit": "ExecutionMagics",
        "writefile": "OSMagics"
       },
       "line": {
        "alias": "OSMagics",
        "alias_magic": "BasicMagics",
        "autoawait": "AsyncMagics",
        "autocall": "AutoMagics",
        "automagic": "AutoMagics",
        "autosave": "KernelMagics",
        "bookmark": "OSMagics",
        "cd": "OSMagics",
        "clear": "KernelMagics",
        "cls": "KernelMagics",
        "colors": "BasicMagics",
        "conda": "PackagingMagics",
        "config": "ConfigMagics",
        "connect_info": "KernelMagics",
        "copy": "Other",
        "ddir": "Other",
        "debug": "ExecutionMagics",
        "dhist": "OSMagics",
        "dirs": "OSMagics",
        "doctest_mode": "BasicMagics",
        "echo": "Other",
        "ed": "Other",
        "edit": "KernelMagics",
        "env": "OSMagics",
        "gui": "BasicMagics",
        "hist": "Other",
        "history": "HistoryMagics",
        "killbgscripts": "ScriptMagics",
        "ldir": "Other",
        "less": "KernelMagics",
        "load": "CodeMagics",
        "load_ext": "ExtensionMagics",
        "loadpy": "CodeMagics",
        "logoff": "LoggingMagics",
        "logon": "LoggingMagics",
        "logstart": "LoggingMagics",
        "logstate": "LoggingMagics",
        "logstop": "LoggingMagics",
        "ls": "Other",
        "lsmagic": "BasicMagics",
        "macro": "ExecutionMagics",
        "magic": "BasicMagics",
        "matplotlib": "PylabMagics",
        "mkdir": "Other",
        "more": "KernelMagics",
        "notebook": "BasicMagics",
        "page": "BasicMagics",
        "pastebin": "CodeMagics",
        "pdb": "ExecutionMagics",
        "pdef": "NamespaceMagics",
        "pdoc": "NamespaceMagics",
        "pfile": "NamespaceMagics",
        "pinfo": "NamespaceMagics",
        "pinfo2": "NamespaceMagics",
        "pip": "PackagingMagics",
        "popd": "OSMagics",
        "pprint": "BasicMagics",
        "precision": "BasicMagics",
        "prun": "ExecutionMagics",
        "psearch": "NamespaceMagics",
        "psource": "NamespaceMagics",
        "pushd": "OSMagics",
        "pwd": "OSMagics",
        "pycat": "OSMagics",
        "pylab": "PylabMagics",
        "qtconsole": "KernelMagics",
        "quickref": "BasicMagics",
        "recall": "HistoryMagics",
        "rehashx": "OSMagics",
        "reload_ext": "ExtensionMagics",
        "ren": "Other",
        "rep": "Other",
        "rerun": "HistoryMagics",
        "reset": "NamespaceMagics",
        "reset_selective": "NamespaceMagics",
        "rmdir": "Other",
        "run": "ExecutionMagics",
        "save": "CodeMagics",
        "sc": "OSMagics",
        "set_env": "OSMagics",
        "store": "StoreMagics",
        "sx": "OSMagics",
        "system": "OSMagics",
        "tb": "ExecutionMagics",
        "time": "ExecutionMagics",
        "timeit": "ExecutionMagics",
        "unalias": "OSMagics",
        "unload_ext": "ExtensionMagics",
        "who": "NamespaceMagics",
        "who_ls": "NamespaceMagics",
        "whos": "NamespaceMagics",
        "xdel": "NamespaceMagics",
        "xmode": "BasicMagics"
       }
      },
      "text/plain": [
       "Available line magics:\n",
       "%alias  %alias_magic  %autoawait  %autocall  %automagic  %autosave  %bookmark  %cd  %clear  %cls  %colors  %conda  %config  %connect_info  %copy  %ddir  %debug  %dhist  %dirs  %doctest_mode  %echo  %ed  %edit  %env  %gui  %hist  %history  %killbgscripts  %ldir  %less  %load  %load_ext  %loadpy  %logoff  %logon  %logstart  %logstate  %logstop  %ls  %lsmagic  %macro  %magic  %matplotlib  %mkdir  %more  %notebook  %page  %pastebin  %pdb  %pdef  %pdoc  %pfile  %pinfo  %pinfo2  %pip  %popd  %pprint  %precision  %prun  %psearch  %psource  %pushd  %pwd  %pycat  %pylab  %qtconsole  %quickref  %recall  %rehashx  %reload_ext  %ren  %rep  %rerun  %reset  %reset_selective  %rmdir  %run  %save  %sc  %set_env  %store  %sx  %system  %tb  %time  %timeit  %unalias  %unload_ext  %who  %who_ls  %whos  %xdel  %xmode\n",
       "\n",
       "Available cell magics:\n",
       "%%!  %%HTML  %%SVG  %%bash  %%capture  %%cmd  %%debug  %%file  %%html  %%javascript  %%js  %%latex  %%markdown  %%perl  %%prun  %%pypy  %%python  %%python2  %%python3  %%ruby  %%script  %%sh  %%svg  %%sx  %%system  %%time  %%timeit  %%writefile\n",
       "\n",
       "Automagic is ON, % prefix IS NOT needed for line magics."
      ]
     },
     "execution_count": 24,
     "metadata": {},
     "output_type": "execute_result"
    }
   ],
   "source": [
    "# To get magic finctions in python\n",
    "%lsmagic"
   ]
  },
  {
   "cell_type": "code",
   "execution_count": 25,
   "id": "451b9b8e",
   "metadata": {},
   "outputs": [],
   "source": [
    "%run? # To check on documentaton of a particular magic function.\n"
   ]
  },
  {
   "cell_type": "code",
   "execution_count": 27,
   "id": "7143949d",
   "metadata": {},
   "outputs": [],
   "source": [
    "import math "
   ]
  },
  {
   "cell_type": "code",
   "execution_count": 28,
   "id": "e2683b70",
   "metadata": {},
   "outputs": [
    {
     "data": {
      "text/plain": [
       "0.9092974268256817"
      ]
     },
     "execution_count": 28,
     "metadata": {},
     "output_type": "execute_result"
    }
   ],
   "source": [
    "math.sin(2)"
   ]
  },
  {
   "cell_type": "code",
   "execution_count": 29,
   "id": "a0bc1f1b",
   "metadata": {},
   "outputs": [
    {
     "data": {
      "text/plain": [
       "-0.4161468365471424"
      ]
     },
     "execution_count": 29,
     "metadata": {},
     "output_type": "execute_result"
    }
   ],
   "source": [
    "math.cos(2)"
   ]
  },
  {
   "cell_type": "code",
   "execution_count": 70,
   "id": "32e7e380",
   "metadata": {},
   "outputs": [
    {
     "name": "stdout",
     "output_type": "stream",
     "text": [
      "['import math ', 'math.sin(2)', 'math.cos(2)']\n"
     ]
    }
   ],
   "source": [
    "print(In[27:30])"
   ]
  },
  {
   "cell_type": "code",
   "execution_count": 80,
   "id": "aa1c9e64",
   "metadata": {
    "scrolled": true
   },
   "outputs": [
    {
     "name": "stdout",
     "output_type": "stream",
     "text": [
      "0.9092974268256817\n"
     ]
    }
   ],
   "source": [
    "print(Out[28])"
   ]
  },
  {
   "cell_type": "code",
   "execution_count": 75,
   "id": "6a4eca12",
   "metadata": {},
   "outputs": [
    {
     "data": {
      "text/plain": [
       "1.0"
      ]
     },
     "execution_count": 75,
     "metadata": {},
     "output_type": "execute_result"
    }
   ],
   "source": [
    "Out[28]**2 + Out[29]**2"
   ]
  },
  {
   "cell_type": "code",
   "execution_count": 81,
   "id": "66a8d851",
   "metadata": {},
   "outputs": [
    {
     "data": {
      "text/plain": [
       "0.6536436208636119"
      ]
     },
     "execution_count": 81,
     "metadata": {},
     "output_type": "execute_result"
    }
   ],
   "source": [
    "Out[28]**2 - Out[29]**2"
   ]
  },
  {
   "cell_type": "code",
   "execution_count": 82,
   "id": "711d75c7",
   "metadata": {},
   "outputs": [
    {
     "name": "stdout",
     "output_type": "stream",
     "text": [
      "0.6536436208636119\n",
      "1.0\n"
     ]
    }
   ],
   "source": [
    "#Previous outputs in python and also in jupyter notebook can be access using this shotcut syntax\n",
    "print(_)\n",
    "print(__) # This is the farthest you can go with underscores.Lol."
   ]
  },
  {
   "cell_type": "code",
   "execution_count": 83,
   "id": "578a1bbe",
   "metadata": {
    "scrolled": true
   },
   "outputs": [
    {
     "data": {
      "text/plain": [
       "0.9092974268256817"
      ]
     },
     "execution_count": 83,
     "metadata": {},
     "output_type": "execute_result"
    }
   ],
   "source": [
    "Out[28]"
   ]
  },
  {
   "cell_type": "code",
   "execution_count": 85,
   "id": "1f8e1824",
   "metadata": {},
   "outputs": [
    {
     "data": {
      "text/plain": [
       "0.9092974268256817"
      ]
     },
     "execution_count": 85,
     "metadata": {},
     "output_type": "execute_result"
    }
   ],
   "source": [
    "_28"
   ]
  },
  {
   "cell_type": "code",
   "execution_count": 112,
   "id": "40c5b765",
   "metadata": {},
   "outputs": [],
   "source": [
    "#The output of an statement can be supressed(not printed on the screen nor stored in the Out dictionary.)\n",
    "math.sin(2) + math.cos(2);\n"
   ]
  },
  {
   "cell_type": "code",
   "execution_count": 113,
   "id": "ad6eb87b",
   "metadata": {
    "scrolled": true
   },
   "outputs": [
    {
     "name": "stdout",
     "output_type": "stream",
     "text": [
      "{14: 4, 24: <IPython.core.magics.basic.MagicsDisplay object at 0x0000025528943100>, 28: 0.9092974268256817, 29: -0.4161468365471424, 55: 4, 63: 5, 75: 1.0, 81: 0.6536436208636119, 83: 0.9092974268256817, 85: 0.9092974268256817, 87: 0.4931505902785393, 88: 0.4931505902785393, 89: False, 90: False, 91: 0.4931505902785393, 92: False, 93: 0.4931505902785393, 94: 0.4931505902785393, 95: 0.4931505902785393, 96: 0.4931505902785393, 97: 0.4931505902785393, 98: 0.4931505902785393, 99: 0.4931505902785393, 101: False, 102: True, 104: True}\n"
     ]
    },
    {
     "data": {
      "text/plain": [
       "False"
      ]
     },
     "execution_count": 113,
     "metadata": {},
     "output_type": "execute_result"
    }
   ],
   "source": [
    "112 in Out"
   ]
  },
  {
   "cell_type": "code",
   "execution_count": 129,
   "id": "dc25f579",
   "metadata": {},
   "outputs": [
    {
     "name": "stdout",
     "output_type": "stream",
     "text": [
      "  27: import math\n",
      "  28: math.sin(2)\n",
      "  29: math.cos(2)\n",
      "  30: print(In)\n",
      "  31: print(In 28)\n",
      "  32: print(In28)\n",
      "  33: print(out)\n",
      "  34: print(Out)\n",
      "  35: print(In[27:29])\n",
      "  36: print(In[27:30])\n",
      "  37:\n",
      "for key,value in Out.items():\n",
      "    print([-2:-4])\n",
      "  38:\n",
      "for key,value in Out.items():\n",
      "    print([:-4])\n",
      "  39:\n",
      "for key,value in Out.items():\n",
      "    print([:4])\n",
      "  40:\n",
      "for key,value in Out.items():\n",
      "    print([:4])\n",
      "  41:\n",
      "for key,value in Out.items():\n",
      "    print([4])\n",
      "  42:\n",
      "for key,value in Out.items():\n",
      "    print(key:value)\n",
      "  43:\n",
      "for key,value in Out.items():\n",
      "    print(key,value)\n",
      "  44:\n",
      "for key,value in Out.items():\n",
      "    print(key[-1:-4],value[-1:-4])\n",
      "  45:\n",
      "for key,value in Out.items():\n",
      "    print(key[4],value[4])\n",
      "  46:\n",
      "for key,value in list(Out.items()):\n",
      "    print(key[4],value[4])\n",
      "  47:\n",
      "for key in list(Out.items()):\n",
      "    print(key[4])\n",
      "  48:\n",
      "dict_out = list(Out)\n",
      "print(dict_out)\n",
      "# for key,value in list(Out.items()):\n",
      "#     print(key[4])\n",
      "  49:\n",
      "# dict_out = list(Out)\n",
      "# print(dict_out)\n",
      "# # for key,value in list(Out.items()):\n",
      "# #     print(key[4])\n",
      "print(out[4])\n",
      "  50:\n",
      "# dict_out = list(Out)\n",
      "# print(dict_out)\n",
      "# # for key,value in list(Out.items()):\n",
      "# #     print(key[4])\n",
      "print(Out[4])\n",
      "  51:\n",
      "dict_out = list(Out)\n",
      "print(dict_out)\n",
      "# for key,value in list(Out.items()):\n",
      "#     print(key[4])\n",
      "  52: print(Out)\n",
      "  53: print(list(Out))\n",
      "  54: print(list(Out[24:30]))\n",
      "  55: Out[14]\n",
      "  56: Out[14:30]\n",
      "  57: Out[14:30]\n",
      "  58: Out[:30]\n",
      "  59: list(Out[:30])\n",
      "  60: list(Out[:4])\n",
      "  61:\n",
      "for key,value in Out.items:\n",
      "    print(key[4])\n",
      "  62:\n",
      "for key,value in Out.items():\n",
      "    print(key[4])\n",
      "  63: len(Out)\n",
      "  64:\n",
      "\n",
      "print(In[27:30])\n",
      "  65: print(Out[28])\n",
      "  66: print(In[64])\n",
      "  67: print(Out[28])\n",
      "  68: print(Out[27:30])\n",
      "  69:\n",
      "\n",
      "print(In[27])\n",
      "  70:\n",
      "\n",
      "print(In[27:30])\n"
     ]
    }
   ],
   "source": [
    "history -n 27-70\n"
   ]
  },
  {
   "cell_type": "code",
   "execution_count": 134,
   "id": "a5d02744",
   "metadata": {},
   "outputs": [
    {
     "name": "stdout",
     "output_type": "stream",
     "text": [
      "  27: import math\n",
      "  70:\n",
      "\n",
      "print(In[27:30])\n"
     ]
    }
   ],
   "source": [
    "history -n 27 - 70"
   ]
  },
  {
   "cell_type": "code",
   "execution_count": 137,
   "id": "8ac4681b",
   "metadata": {},
   "outputs": [
    {
     "name": "stdout",
     "output_type": "stream",
     "text": [
      "=== Executing: ===\n",
      "math.sin(2)\n",
      "=== Output: ===\n"
     ]
    },
    {
     "data": {
      "text/plain": [
       "0.9092974268256817"
      ]
     },
     "execution_count": 137,
     "metadata": {},
     "output_type": "execute_result"
    }
   ],
   "source": [
    "rerun 28"
   ]
  },
  {
   "cell_type": "code",
   "execution_count": 140,
   "id": "98fb9341",
   "metadata": {},
   "outputs": [
    {
     "name": "stdout",
     "output_type": "stream",
     "text": [
      "The following commands were written to file `Test_file.py`:\n",
      "#Previous outputs in python and also in jupyter notebook can be access using this shotcut syntax\n",
      "print(_)\n",
      "print(__)\n"
     ]
    }
   ],
   "source": [
    "save -a Test_file 82"
   ]
  },
  {
   "cell_type": "code",
   "execution_count": 141,
   "id": "9ee0a031",
   "metadata": {},
   "outputs": [
    {
     "name": "stdout",
     "output_type": "stream",
     "text": [
      "The following commands were written to file `Test_file.py`:\n",
      "get_ipython().run_line_magic('history', '-n 27-70')\n"
     ]
    }
   ],
   "source": [
    "save -a Test_file 129"
   ]
  },
  {
   "cell_type": "code",
   "execution_count": 5,
   "id": "108d0340",
   "metadata": {},
   "outputs": [
    {
     "data": {
      "text/plain": [
       "{'ALLUSERSPROFILE': 'C:\\\\ProgramData',\n",
       " 'APPDATA': 'C:\\\\Users\\\\unknown\\\\AppData\\\\Roaming',\n",
       " 'COMMONPROGRAMFILES': 'C:\\\\Program Files\\\\Common Files',\n",
       " 'COMMONPROGRAMFILES(X86)': 'C:\\\\Program Files (x86)\\\\Common Files',\n",
       " 'COMMONPROGRAMW6432': 'C:\\\\Program Files\\\\Common Files',\n",
       " 'COMPUTERNAME': 'DESKTOP-9H87LNT',\n",
       " 'COMSPEC': 'C:\\\\WINDOWS\\\\system32\\\\cmd.exe',\n",
       " 'CONDA_DEFAULT_ENV': 'base',\n",
       " 'CONDA_EXE': 'C:\\\\Users\\\\unknown\\\\anaconda\\\\Scripts\\\\conda.exe',\n",
       " 'CONDA_PROMPT_MODIFIER': '(base) ',\n",
       " 'CONDA_PYTHON_EXE': 'C:\\\\Users\\\\unknown\\\\anaconda\\\\python.exe',\n",
       " 'CONDA_SHLVL': '1',\n",
       " 'DRIVERDATA': 'C:\\\\Windows\\\\System32\\\\Drivers\\\\DriverData',\n",
       " 'FPS_BROWSER_APP_PROFILE_STRING': 'Internet Explorer',\n",
       " 'FPS_BROWSER_USER_PROFILE_STRING': 'Default',\n",
       " 'HOMEDRIVE': 'C:',\n",
       " 'HOMEPATH': '\\\\Users\\\\unknown',\n",
       " 'LOCALAPPDATA': 'C:\\\\Users\\\\unknown\\\\AppData\\\\Local',\n",
       " 'LOGONSERVER': '\\\\\\\\DESKTOP-9H87LNT',\n",
       " 'NUMBER_OF_PROCESSORS': '2',\n",
       " 'ONEDRIVE': 'C:\\\\Users\\\\unknown\\\\OneDrive',\n",
       " 'OS': 'Windows_NT',\n",
       " 'PATH': 'C:\\\\Users\\\\unknown\\\\anaconda;C:\\\\Users\\\\unknown\\\\anaconda\\\\Library\\\\mingw-w64\\\\bin;C:\\\\Users\\\\unknown\\\\anaconda\\\\Library\\\\usr\\\\bin;C:\\\\Users\\\\unknown\\\\anaconda\\\\Library\\\\bin;C:\\\\Users\\\\unknown\\\\anaconda\\\\Scripts;C:\\\\Users\\\\unknown\\\\anaconda\\\\bin;C:\\\\Users\\\\unknown\\\\anaconda\\\\condabin;C:\\\\Users\\\\unknown\\\\anaconda;C:\\\\Users\\\\unknown\\\\anaconda\\\\Library\\\\mingw-w64\\\\bin;C:\\\\Users\\\\unknown\\\\anaconda\\\\Library\\\\usr\\\\bin;C:\\\\Users\\\\unknown\\\\anaconda\\\\Library\\\\bin;C:\\\\Users\\\\unknown\\\\anaconda\\\\Scripts;C:\\\\WINDOWS\\\\system32;C:\\\\WINDOWS;C:\\\\WINDOWS\\\\System32\\\\Wbem;C:\\\\WINDOWS\\\\System32\\\\WindowsPowerShell\\\\v1.0;C:\\\\WINDOWS\\\\System32\\\\OpenSSH;C:\\\\MinGW\\\\bin;C:\\\\Program Files\\\\Git\\\\cmd;C:\\\\Users\\\\unknown\\\\AppData\\\\Local\\\\Programs\\\\Python\\\\Python37-32\\\\Scripts;C:\\\\Users\\\\unknown\\\\AppData\\\\Local\\\\Programs\\\\Python\\\\Python37-32;C:\\\\Users\\\\unknown\\\\AppData\\\\Local\\\\Microsoft\\\\WindowsApps;.;C:\\\\Users\\\\unknown\\\\AppData\\\\Local\\\\Programs\\\\Microsoft VS Code\\\\bin',\n",
       " 'PATHEXT': '.COM;.EXE;.BAT;.CMD;.VBS;.VBE;.JS;.JSE;.WSF;.WSH;.MSC',\n",
       " 'PROCESSOR_ARCHITECTURE': 'AMD64',\n",
       " 'PROCESSOR_IDENTIFIER': 'Intel64 Family 6 Model 76 Stepping 4, GenuineIntel',\n",
       " 'PROCESSOR_LEVEL': '6',\n",
       " 'PROCESSOR_REVISION': '4c04',\n",
       " 'PROGRAMDATA': 'C:\\\\ProgramData',\n",
       " 'PROGRAMFILES': 'C:\\\\Program Files',\n",
       " 'PROGRAMFILES(X86)': 'C:\\\\Program Files (x86)',\n",
       " 'PROGRAMW6432': 'C:\\\\Program Files',\n",
       " 'PROMPT': '(base) $P$G',\n",
       " 'PSMODULEPATH': 'C:\\\\Program Files\\\\WindowsPowerShell\\\\Modules;C:\\\\WINDOWS\\\\system32\\\\WindowsPowerShell\\\\v1.0\\\\Modules',\n",
       " 'PUBLIC': 'C:\\\\Users\\\\Public',\n",
       " 'SESSIONNAME': 'Console',\n",
       " 'SYSTEMDRIVE': 'C:',\n",
       " 'SYSTEMROOT': 'C:\\\\WINDOWS',\n",
       " 'TEMP': 'C:\\\\Users\\\\unknown\\\\AppData\\\\Local\\\\Temp',\n",
       " 'TMP': 'C:\\\\Users\\\\unknown\\\\AppData\\\\Local\\\\Temp',\n",
       " 'USERDOMAIN': 'DESKTOP-9H87LNT',\n",
       " 'USERDOMAIN_ROAMINGPROFILE': 'DESKTOP-9H87LNT',\n",
       " 'USERNAME': 'unknown',\n",
       " 'USERPROFILE': 'C:\\\\Users\\\\unknown',\n",
       " 'WINDIR': 'C:\\\\WINDOWS',\n",
       " 'CONDA_PREFIX': 'C:\\\\Users\\\\unknown\\\\anaconda',\n",
       " 'CONDA_ROOT': 'C:\\\\Users\\\\unknown\\\\anaconda',\n",
       " 'PYDEVD_USE_FRAME_EVAL': 'NO',\n",
       " 'JPY_INTERRUPT_EVENT': '2480',\n",
       " 'IPY_INTERRUPT_EVENT': '2480',\n",
       " 'JPY_PARENT_PID': '2472',\n",
       " 'TERM': 'xterm-color',\n",
       " 'CLICOLOR': '1',\n",
       " 'PAGER': 'cat',\n",
       " 'GIT_PAGER': 'cat',\n",
       " 'MPLBACKEND': 'module://matplotlib_inline.backend_inline'}"
      ]
     },
     "execution_count": 5,
     "metadata": {},
     "output_type": "execute_result"
    }
   ],
   "source": [
    "%env"
   ]
  },
  {
   "cell_type": "code",
   "execution_count": 2,
   "id": "c8f866b2",
   "metadata": {},
   "outputs": [
    {
     "data": {
      "text/plain": [
       "'C:\\\\Users\\\\unknown\\\\Desktop\\\\Repo\\\\Data_Science_Learning_Process'"
      ]
     },
     "execution_count": 2,
     "metadata": {},
     "output_type": "execute_result"
    }
   ],
   "source": [
    "pwd"
   ]
  },
  {
   "cell_type": "code",
   "execution_count": 9,
   "id": "ed7400a7",
   "metadata": {},
   "outputs": [
    {
     "name": "stdout",
     "output_type": "stream",
     "text": [
      " Volume in drive C has no label.\n",
      " Volume Serial Number is 52AC-D724\n",
      "\n",
      " Directory of C:\\Users\\unknown\\Desktop\\Repo\\Data_Science_Learning_Process\n",
      "\n",
      "05/15/2024  01:01 PM    <DIR>          .\n",
      "05/15/2024  01:01 PM    <DIR>          ..\n",
      "05/11/2024  08:54 AM    <DIR>          .ipynb_checkpoints\n",
      "05/15/2024  01:01 PM            26,223 Intro to IPython.ipynb\n",
      "05/10/2024  08:21 PM                80 README.md\n",
      "05/11/2024  05:19 PM               189 Test_file.py\n",
      "               3 File(s)         26,492 bytes\n",
      "               3 Dir(s)  218,983,231,488 bytes free\n"
     ]
    }
   ],
   "source": [
    "ls"
   ]
  },
  {
   "cell_type": "code",
   "execution_count": 4,
   "id": "4246953c",
   "metadata": {},
   "outputs": [
    {
     "name": "stdout",
     "output_type": "stream",
     "text": [
      "\"Wow it worked\"\n"
     ]
    }
   ],
   "source": [
    "echo \"Wow it worked\""
   ]
  },
  {
   "cell_type": "code",
   "execution_count": 35,
   "id": "30cc0b82",
   "metadata": {},
   "outputs": [],
   "source": [
    "directory = %pwd\n"
   ]
  },
  {
   "cell_type": "code",
   "execution_count": 36,
   "id": "60270db5",
   "metadata": {},
   "outputs": [
    {
     "name": "stdout",
     "output_type": "stream",
     "text": [
      "C:\\Users\\unknown\\Desktop\\Repo\\Data_Science_Learning_Process\n"
     ]
    }
   ],
   "source": [
    "print(directory)"
   ]
  },
  {
   "cell_type": "code",
   "execution_count": 37,
   "id": "0dc909ea",
   "metadata": {},
   "outputs": [
    {
     "data": {
      "text/plain": [
       "str"
      ]
     },
     "execution_count": 37,
     "metadata": {},
     "output_type": "execute_result"
    }
   ],
   "source": [
    "type(directory)"
   ]
  },
  {
   "cell_type": "code",
   "execution_count": 40,
   "id": "e2e1854c",
   "metadata": {},
   "outputs": [],
   "source": [
    "message = 'Hello from Python'"
   ]
  },
  {
   "cell_type": "code",
   "execution_count": 43,
   "id": "2ffd6ace",
   "metadata": {},
   "outputs": [
    {
     "name": "stdout",
     "output_type": "stream",
     "text": [
      "Hello from Python\n"
     ]
    }
   ],
   "source": [
    "echo {message}"
   ]
  },
  {
   "cell_type": "code",
   "execution_count": 1,
   "id": "38d37e87",
   "metadata": {},
   "outputs": [
    {
     "ename": "ZeroDivisionError",
     "evalue": "division by zero",
     "output_type": "error",
     "traceback": [
      "\u001b[1;31m---------------------------------------------------------------------------\u001b[0m",
      "\u001b[1;31mZeroDivisionError\u001b[0m                         Traceback (most recent call last)",
      "File \u001b[1;32m~\\AppData\\Local\\Temp\\ipykernel_6204\\1683020321.py:1\u001b[0m, in \u001b[0;36m<cell line: 1>\u001b[1;34m()\u001b[0m\n\u001b[1;32m----> 1\u001b[0m \u001b[43mfunc2\u001b[49m\u001b[43m(\u001b[49m\u001b[38;5;241;43m1\u001b[39;49m\u001b[43m)\u001b[49m\n",
      "File \u001b[1;32m~\\AppData\\Local\\Temp\\ipykernel_6204\\3350306774.py:7\u001b[0m, in \u001b[0;36mfunc2\u001b[1;34m(x)\u001b[0m\n\u001b[0;32m      5\u001b[0m a \u001b[38;5;241m=\u001b[39m x\n\u001b[0;32m      6\u001b[0m b \u001b[38;5;241m=\u001b[39m x\u001b[38;5;241m-\u001b[39m\u001b[38;5;241m1\u001b[39m \n\u001b[1;32m----> 7\u001b[0m \u001b[38;5;28;01mreturn\u001b[39;00m \u001b[43mfunc1\u001b[49m\u001b[43m(\u001b[49m\u001b[43ma\u001b[49m\u001b[43m,\u001b[49m\u001b[43mb\u001b[49m\u001b[43m)\u001b[49m\n",
      "File \u001b[1;32m~\\AppData\\Local\\Temp\\ipykernel_6204\\3350306774.py:2\u001b[0m, in \u001b[0;36mfunc1\u001b[1;34m(a, b)\u001b[0m\n\u001b[0;32m      1\u001b[0m \u001b[38;5;28;01mdef\u001b[39;00m \u001b[38;5;21mfunc1\u001b[39m (a, b):\n\u001b[1;32m----> 2\u001b[0m     \u001b[38;5;28;01mreturn\u001b[39;00m \u001b[43ma\u001b[49m\u001b[38;5;241;43m/\u001b[39;49m\u001b[43mb\u001b[49m\n",
      "\u001b[1;31mZeroDivisionError\u001b[0m: division by zero"
     ]
    },
    {
     "ename": "ZeroDivisionError",
     "evalue": "division by zero",
     "output_type": "error",
     "traceback": [
      "\u001b[1;31m---------------------------------------------------------------------------\u001b[0m",
      "\u001b[1;31mZeroDivisionError\u001b[0m                         Traceback (most recent call last)",
      "Input \u001b[1;32mIn [1]\u001b[0m, in \u001b[0;36m<cell line: 1>\u001b[1;34m()\u001b[0m\n\u001b[1;32m----> 1\u001b[0m \u001b[43mget_ipython\u001b[49m\u001b[43m(\u001b[49m\u001b[43m)\u001b[49m\u001b[38;5;241;43m.\u001b[39;49m\u001b[43mrun_line_magic\u001b[49m\u001b[43m(\u001b[49m\u001b[38;5;124;43m'\u001b[39;49m\u001b[38;5;124;43mrun\u001b[39;49m\u001b[38;5;124;43m'\u001b[39;49m\u001b[43m,\u001b[49m\u001b[43m \u001b[49m\u001b[38;5;124;43m'\u001b[39;49m\u001b[38;5;124;43mError_handling.ipynb\u001b[39;49m\u001b[38;5;124;43m'\u001b[39;49m\u001b[43m)\u001b[49m\n",
      "File \u001b[1;32m~\\anaconda\\lib\\site-packages\\IPython\\core\\interactiveshell.py:2294\u001b[0m, in \u001b[0;36mInteractiveShell.run_line_magic\u001b[1;34m(self, magic_name, line, _stack_depth)\u001b[0m\n\u001b[0;32m   2292\u001b[0m     kwargs[\u001b[38;5;124m'\u001b[39m\u001b[38;5;124mlocal_ns\u001b[39m\u001b[38;5;124m'\u001b[39m] \u001b[38;5;241m=\u001b[39m \u001b[38;5;28mself\u001b[39m\u001b[38;5;241m.\u001b[39mget_local_scope(stack_depth)\n\u001b[0;32m   2293\u001b[0m \u001b[38;5;28;01mwith\u001b[39;00m \u001b[38;5;28mself\u001b[39m\u001b[38;5;241m.\u001b[39mbuiltin_trap:\n\u001b[1;32m-> 2294\u001b[0m     result \u001b[38;5;241m=\u001b[39m fn(\u001b[38;5;241m*\u001b[39margs, \u001b[38;5;241m*\u001b[39m\u001b[38;5;241m*\u001b[39mkwargs)\n\u001b[0;32m   2295\u001b[0m \u001b[38;5;28;01mreturn\u001b[39;00m result\n",
      "File \u001b[1;32m~\\anaconda\\lib\\site-packages\\IPython\\core\\magics\\execution.py:717\u001b[0m, in \u001b[0;36mExecutionMagics.run\u001b[1;34m(self, parameter_s, runner, file_finder)\u001b[0m\n\u001b[0;32m    715\u001b[0m     \u001b[38;5;28;01mwith\u001b[39;00m preserve_keys(\u001b[38;5;28mself\u001b[39m\u001b[38;5;241m.\u001b[39mshell\u001b[38;5;241m.\u001b[39muser_ns, \u001b[38;5;124m'\u001b[39m\u001b[38;5;124m__file__\u001b[39m\u001b[38;5;124m'\u001b[39m):\n\u001b[0;32m    716\u001b[0m         \u001b[38;5;28mself\u001b[39m\u001b[38;5;241m.\u001b[39mshell\u001b[38;5;241m.\u001b[39muser_ns[\u001b[38;5;124m'\u001b[39m\u001b[38;5;124m__file__\u001b[39m\u001b[38;5;124m'\u001b[39m] \u001b[38;5;241m=\u001b[39m filename\n\u001b[1;32m--> 717\u001b[0m         \u001b[38;5;28;43mself\u001b[39;49m\u001b[38;5;241;43m.\u001b[39;49m\u001b[43mshell\u001b[49m\u001b[38;5;241;43m.\u001b[39;49m\u001b[43msafe_execfile_ipy\u001b[49m\u001b[43m(\u001b[49m\u001b[43mfilename\u001b[49m\u001b[43m,\u001b[49m\u001b[43m \u001b[49m\u001b[43mraise_exceptions\u001b[49m\u001b[38;5;241;43m=\u001b[39;49m\u001b[38;5;28;43;01mTrue\u001b[39;49;00m\u001b[43m)\u001b[49m\n\u001b[0;32m    718\u001b[0m     \u001b[38;5;28;01mreturn\u001b[39;00m\n\u001b[0;32m    720\u001b[0m \u001b[38;5;66;03m# Control the response to exit() calls made by the script being run\u001b[39;00m\n",
      "File \u001b[1;32m~\\anaconda\\lib\\site-packages\\IPython\\core\\interactiveshell.py:2800\u001b[0m, in \u001b[0;36mInteractiveShell.safe_execfile_ipy\u001b[1;34m(self, fname, shell_futures, raise_exceptions)\u001b[0m\n\u001b[0;32m   2798\u001b[0m result \u001b[38;5;241m=\u001b[39m \u001b[38;5;28mself\u001b[39m\u001b[38;5;241m.\u001b[39mrun_cell(cell, silent\u001b[38;5;241m=\u001b[39m\u001b[38;5;28;01mTrue\u001b[39;00m, shell_futures\u001b[38;5;241m=\u001b[39mshell_futures)\n\u001b[0;32m   2799\u001b[0m \u001b[38;5;28;01mif\u001b[39;00m raise_exceptions:\n\u001b[1;32m-> 2800\u001b[0m     \u001b[43mresult\u001b[49m\u001b[38;5;241;43m.\u001b[39;49m\u001b[43mraise_error\u001b[49m\u001b[43m(\u001b[49m\u001b[43m)\u001b[49m\n\u001b[0;32m   2801\u001b[0m \u001b[38;5;28;01melif\u001b[39;00m \u001b[38;5;129;01mnot\u001b[39;00m result\u001b[38;5;241m.\u001b[39msuccess:\n\u001b[0;32m   2802\u001b[0m     \u001b[38;5;28;01mbreak\u001b[39;00m\n",
      "File \u001b[1;32m~\\anaconda\\lib\\site-packages\\IPython\\core\\interactiveshell.py:240\u001b[0m, in \u001b[0;36mExecutionResult.raise_error\u001b[1;34m(self)\u001b[0m\n\u001b[0;32m    238\u001b[0m     \u001b[38;5;28;01mraise\u001b[39;00m \u001b[38;5;28mself\u001b[39m\u001b[38;5;241m.\u001b[39merror_before_exec\n\u001b[0;32m    239\u001b[0m \u001b[38;5;28;01mif\u001b[39;00m \u001b[38;5;28mself\u001b[39m\u001b[38;5;241m.\u001b[39merror_in_exec \u001b[38;5;129;01mis\u001b[39;00m \u001b[38;5;129;01mnot\u001b[39;00m \u001b[38;5;28;01mNone\u001b[39;00m:\n\u001b[1;32m--> 240\u001b[0m     \u001b[38;5;28;01mraise\u001b[39;00m \u001b[38;5;28mself\u001b[39m\u001b[38;5;241m.\u001b[39merror_in_exec\n",
      "    \u001b[1;31m[... skipping hidden 1 frame]\u001b[0m\n",
      "File \u001b[1;32m~\\AppData\\Local\\Temp\\ipykernel_6204\\1683020321.py:1\u001b[0m, in \u001b[0;36m<cell line: 1>\u001b[1;34m()\u001b[0m\n\u001b[1;32m----> 1\u001b[0m \u001b[43mfunc2\u001b[49m\u001b[43m(\u001b[49m\u001b[38;5;241;43m1\u001b[39;49m\u001b[43m)\u001b[49m\n",
      "File \u001b[1;32m~\\AppData\\Local\\Temp\\ipykernel_6204\\3350306774.py:7\u001b[0m, in \u001b[0;36mfunc2\u001b[1;34m(x)\u001b[0m\n\u001b[0;32m      5\u001b[0m a \u001b[38;5;241m=\u001b[39m x\n\u001b[0;32m      6\u001b[0m b \u001b[38;5;241m=\u001b[39m x\u001b[38;5;241m-\u001b[39m\u001b[38;5;241m1\u001b[39m \n\u001b[1;32m----> 7\u001b[0m \u001b[38;5;28;01mreturn\u001b[39;00m \u001b[43mfunc1\u001b[49m\u001b[43m(\u001b[49m\u001b[43ma\u001b[49m\u001b[43m,\u001b[49m\u001b[43mb\u001b[49m\u001b[43m)\u001b[49m\n",
      "File \u001b[1;32m~\\AppData\\Local\\Temp\\ipykernel_6204\\3350306774.py:2\u001b[0m, in \u001b[0;36mfunc1\u001b[1;34m(a, b)\u001b[0m\n\u001b[0;32m      1\u001b[0m \u001b[38;5;28;01mdef\u001b[39;00m \u001b[38;5;21mfunc1\u001b[39m (a, b):\n\u001b[1;32m----> 2\u001b[0m     \u001b[38;5;28;01mreturn\u001b[39;00m \u001b[43ma\u001b[49m\u001b[38;5;241;43m/\u001b[39;49m\u001b[43mb\u001b[49m\n",
      "\u001b[1;31mZeroDivisionError\u001b[0m: division by zero"
     ]
    }
   ],
   "source": [
    "run Error_handling.ipynb"
   ]
  },
  {
   "cell_type": "code",
   "execution_count": 2,
   "id": "909815ae",
   "metadata": {},
   "outputs": [
    {
     "name": "stdout",
     "output_type": "stream",
     "text": [
      "3.65 µs ± 189 ns per loop (mean ± std. dev. of 7 runs, 100,000 loops each)\n"
     ]
    }
   ],
   "source": [
    "%timeit sum(range(100)) # Calaculate the time required to run this code"
   ]
  }
 ],
 "metadata": {
  "kernelspec": {
   "display_name": "Python 3 (ipykernel)",
   "language": "python",
   "name": "python3"
  },
  "language_info": {
   "codemirror_mode": {
    "name": "ipython",
    "version": 3
   },
   "file_extension": ".py",
   "mimetype": "text/x-python",
   "name": "python",
   "nbconvert_exporter": "python",
   "pygments_lexer": "ipython3",
   "version": "3.9.12"
  }
 },
 "nbformat": 4,
 "nbformat_minor": 5
}
