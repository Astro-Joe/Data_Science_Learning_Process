{
 "cells": [
  {
   "cell_type": "code",
   "execution_count": 2,
   "id": "e2bdef6c",
   "metadata": {},
   "outputs": [],
   "source": [
    "def func1 (a, b):\n",
    "    return a/b\n",
    "\n",
    "def func2 (x):\n",
    "    a = x\n",
    "    b = x-1 \n",
    "    return func1(a,b)"
   ]
  },
  {
   "cell_type": "code",
   "execution_count": 3,
   "id": "ae9dcdb4",
   "metadata": {
    "scrolled": true
   },
   "outputs": [
    {
     "ename": "ZeroDivisionError",
     "evalue": "division by zero",
     "output_type": "error",
     "traceback": [
      "\u001b[1;31m---------------------------------------------------------------------------\u001b[0m",
      "\u001b[1;31mZeroDivisionError\u001b[0m                         Traceback (most recent call last)",
      "Input \u001b[1;32mIn [3]\u001b[0m, in \u001b[0;36m<cell line: 1>\u001b[1;34m()\u001b[0m\n\u001b[1;32m----> 1\u001b[0m \u001b[43mfunc2\u001b[49m\u001b[43m(\u001b[49m\u001b[38;5;241;43m1\u001b[39;49m\u001b[43m)\u001b[49m\n",
      "Input \u001b[1;32mIn [2]\u001b[0m, in \u001b[0;36mfunc2\u001b[1;34m(x)\u001b[0m\n\u001b[0;32m      5\u001b[0m a \u001b[38;5;241m=\u001b[39m x\n\u001b[0;32m      6\u001b[0m b \u001b[38;5;241m=\u001b[39m x\u001b[38;5;241m-\u001b[39m\u001b[38;5;241m1\u001b[39m \n\u001b[1;32m----> 7\u001b[0m \u001b[38;5;28;01mreturn\u001b[39;00m \u001b[43mfunc1\u001b[49m\u001b[43m(\u001b[49m\u001b[43ma\u001b[49m\u001b[43m,\u001b[49m\u001b[43mb\u001b[49m\u001b[43m)\u001b[49m\n",
      "Input \u001b[1;32mIn [2]\u001b[0m, in \u001b[0;36mfunc1\u001b[1;34m(a, b)\u001b[0m\n\u001b[0;32m      1\u001b[0m \u001b[38;5;28;01mdef\u001b[39;00m \u001b[38;5;21mfunc1\u001b[39m (a, b):\n\u001b[1;32m----> 2\u001b[0m     \u001b[38;5;28;01mreturn\u001b[39;00m \u001b[43ma\u001b[49m\u001b[38;5;241;43m/\u001b[39;49m\u001b[43mb\u001b[49m\n",
      "\u001b[1;31mZeroDivisionError\u001b[0m: division by zero"
     ]
    }
   ],
   "source": [
    "func2(1) \n",
    "# This line of code brings up a ZeroDivisionError\n",
    "# The xmode(exceptio mode ) magic command can change the information that is printed out in the traceback\n",
    "#The xmode takes one argument(Plain , Verbose or Context(which is the default mode))"
   ]
  },
  {
   "cell_type": "code",
   "execution_count": 4,
   "id": "03af49f0",
   "metadata": {},
   "outputs": [
    {
     "name": "stdout",
     "output_type": "stream",
     "text": [
      "Exception reporting mode: Plain\n"
     ]
    }
   ],
   "source": [
    "%xmode Plain\n",
    "# Plain mode gives less information about the error"
   ]
  },
  {
   "cell_type": "code",
   "execution_count": 5,
   "id": "4549dcd4",
   "metadata": {},
   "outputs": [
    {
     "ename": "ZeroDivisionError",
     "evalue": "division by zero",
     "output_type": "error",
     "traceback": [
      "Traceback \u001b[1;36m(most recent call last)\u001b[0m:\n",
      "  Input \u001b[0;32mIn [5]\u001b[0m in \u001b[0;35m<cell line: 1>\u001b[0m\n    func2(1)\n",
      "  Input \u001b[0;32mIn [2]\u001b[0m in \u001b[0;35mfunc2\u001b[0m\n    return func1(a,b)\n",
      "\u001b[1;36m  Input \u001b[1;32mIn [2]\u001b[1;36m in \u001b[1;35mfunc1\u001b[1;36m\u001b[0m\n\u001b[1;33m    return a/b\u001b[0m\n",
      "\u001b[1;31mZeroDivisionError\u001b[0m\u001b[1;31m:\u001b[0m division by zero\n"
     ]
    }
   ],
   "source": [
    "func2(1)"
   ]
  },
  {
   "cell_type": "code",
   "execution_count": 6,
   "id": "7a7a0cd7",
   "metadata": {},
   "outputs": [
    {
     "name": "stdout",
     "output_type": "stream",
     "text": [
      "Exception reporting mode: Verbose\n"
     ]
    }
   ],
   "source": [
    "%xmode Verbose\n",
    "# Verbose mode give more information that context mode"
   ]
  },
  {
   "cell_type": "code",
   "execution_count": 7,
   "id": "8905625b",
   "metadata": {
    "scrolled": true
   },
   "outputs": [
    {
     "name": "stdout",
     "output_type": "stream",
     "text": [
      "=== Executing: ===\n",
      "func2(1)\n",
      "=== Output: ===\n"
     ]
    },
    {
     "ename": "ZeroDivisionError",
     "evalue": "division by zero",
     "output_type": "error",
     "traceback": [
      "\u001b[1;31m---------------------------------------------------------------------------\u001b[0m",
      "\u001b[1;31mZeroDivisionError\u001b[0m                         Traceback (most recent call last)",
      "Input \u001b[1;32mIn [7]\u001b[0m, in \u001b[0;36m<cell line: 1>\u001b[1;34m()\u001b[0m\n\u001b[1;32m----> 1\u001b[0m \u001b[43mfunc2\u001b[49m\u001b[43m(\u001b[49m\u001b[38;5;241;43m1\u001b[39;49m\u001b[43m)\u001b[49m\n",
      "Input \u001b[1;32mIn [2]\u001b[0m, in \u001b[0;36mfunc2\u001b[1;34m(x=1)\u001b[0m\n\u001b[0;32m      5\u001b[0m a \u001b[38;5;241m=\u001b[39m x\n\u001b[0;32m      6\u001b[0m b \u001b[38;5;241m=\u001b[39m x\u001b[38;5;241m-\u001b[39m\u001b[38;5;241m1\u001b[39m \n\u001b[1;32m----> 7\u001b[0m \u001b[38;5;28;01mreturn\u001b[39;00m \u001b[43mfunc1\u001b[49m\u001b[43m(\u001b[49m\u001b[43ma\u001b[49m\u001b[43m,\u001b[49m\u001b[43mb\u001b[49m\u001b[43m)\u001b[49m\n        a \u001b[1;34m= 1\u001b[0m\u001b[1;34m\n        \u001b[0mb \u001b[1;34m= 0\u001b[0m\n",
      "Input \u001b[1;32mIn [2]\u001b[0m, in \u001b[0;36mfunc1\u001b[1;34m(a=1, b=0)\u001b[0m\n\u001b[0;32m      1\u001b[0m \u001b[38;5;28;01mdef\u001b[39;00m \u001b[38;5;21mfunc1\u001b[39m (a, b):\n\u001b[1;32m----> 2\u001b[0m     \u001b[38;5;28;01mreturn\u001b[39;00m \u001b[43ma\u001b[49m\u001b[38;5;241;43m/\u001b[39;49m\u001b[43mb\u001b[49m\n        a \u001b[1;34m= 1\u001b[0m\u001b[1;34m\n        \u001b[0mb \u001b[1;34m= 0\u001b[0m\n",
      "\u001b[1;31mZeroDivisionError\u001b[0m: division by zero"
     ]
    }
   ],
   "source": [
    "rerun 5"
   ]
  },
  {
   "cell_type": "code",
   "execution_count": 8,
   "id": "01055420",
   "metadata": {},
   "outputs": [
    {
     "name": "stdout",
     "output_type": "stream",
     "text": [
      "> \u001b[1;32mc:\\users\\unknown\\appdata\\local\\temp\\ipykernel_7808\\3350306774.py\u001b[0m(2)\u001b[0;36mfunc1\u001b[1;34m()\u001b[0m\n",
      "\n",
      "ipdb> print(a)\n",
      "1\n",
      "ipdb> print(b)\n",
      "0\n",
      "ipdb> quit\n"
     ]
    }
   ],
   "source": [
    "# Code can be debugged using ipdb(IPython debugger) after hitting an exception.\n",
    "%debug"
   ]
  },
  {
   "cell_type": "code",
   "execution_count": 10,
   "id": "ebd4d02c",
   "metadata": {
    "scrolled": true
   },
   "outputs": [
    {
     "name": "stdout",
     "output_type": "stream",
     "text": [
      "Exception reporting mode: Plain\n",
      "Automatic pdb calling has been turned ON\n"
     ]
    },
    {
     "ename": "ZeroDivisionError",
     "evalue": "division by zero",
     "output_type": "error",
     "traceback": [
      "Traceback \u001b[1;36m(most recent call last)\u001b[0m:\n",
      "  Input \u001b[0;32mIn [10]\u001b[0m in \u001b[0;35m<cell line: 3>\u001b[0m\n    func2(1)\n",
      "  Input \u001b[0;32mIn [2]\u001b[0m in \u001b[0;35mfunc2\u001b[0m\n    return func1(a,b)\n",
      "\u001b[1;36m  Input \u001b[1;32mIn [2]\u001b[1;36m in \u001b[1;35mfunc1\u001b[1;36m\u001b[0m\n\u001b[1;33m    return a/b\u001b[0m\n",
      "\u001b[1;31mZeroDivisionError\u001b[0m\u001b[1;31m:\u001b[0m division by zero\n"
     ]
    },
    {
     "name": "stdout",
     "output_type": "stream",
     "text": [
      "> \u001b[1;32mc:\\users\\unknown\\appdata\\local\\temp\\ipykernel_7808\\3350306774.py\u001b[0m(2)\u001b[0;36mfunc1\u001b[1;34m()\u001b[0m\n",
      "\n",
      "ipdb> print(b)\n",
      "0\n",
      "ipdb> quit\n"
     ]
    }
   ],
   "source": [
    "%xmode Plain\n",
    "%pdb on\n",
    "func2(1)"
   ]
  },
  {
   "cell_type": "code",
   "execution_count": 4,
   "id": "427cf305",
   "metadata": {},
   "outputs": [
    {
     "name": "stdout",
     "output_type": "stream",
     "text": [
      "CPU times: total: 0 ns\n",
      "Wall time: 0 ns\n"
     ]
    }
   ],
   "source": [
    "%time"
   ]
  },
  {
   "cell_type": "code",
   "execution_count": 1,
   "id": "32f92134",
   "metadata": {},
   "outputs": [
    {
     "name": "stdout",
     "output_type": "stream",
     "text": [
      "147 ms ± 46.3 ms per loop (mean ± std. dev. of 7 runs, 10 loops each)\n"
     ]
    }
   ],
   "source": [
    "%%timeit # For timing multiple line code\n",
    "total = 0 \n",
    "for i in range(1000):\n",
    "    for j in range(100):\n",
    "        total += i * (-1) ** j"
   ]
  },
  {
   "cell_type": "code",
   "execution_count": 2,
   "id": "ad85c2e8",
   "metadata": {},
   "outputs": [
    {
     "name": "stdout",
     "output_type": "stream",
     "text": [
      "Sorting an unsorted list:\n",
      "CPU times: total: 62.5 ms\n",
      "Wall time: 99.4 ms\n",
      "Sorting an already sorted list:\n",
      "22.4 ms ± 3.37 ms per loop (mean ± std. dev. of 7 runs, 10 loops each)\n"
     ]
    }
   ],
   "source": [
    "# Sometimes it is better to just time a specific part of the code rather than the whole block\n",
    "import random \n",
    "L = [random.random() for i in range(100000)]\n",
    "print(\"Sorting an unsorted list:\")\n",
    "%time L.sort()\n",
    "print(\"Sorting an already sorted list:\")\n",
    "%timeit L.sort()"
   ]
  },
  {
   "cell_type": "code",
   "execution_count": null,
   "id": "f9ad58a9",
   "metadata": {},
   "outputs": [],
   "source": [
    "# Profiling a block of code"
   ]
  },
  {
   "cell_type": "code",
   "execution_count": 9,
   "id": "92ca1f9e",
   "metadata": {},
   "outputs": [],
   "source": [
    "def sum_of_lists(N):\n",
    "    total = 0\n",
    "    for i in range(5):\n",
    "#         L = [j ^ (j >> i) for i in range(N)]\n",
    "        total += sum(L)\n",
    "    return total"
   ]
  },
  {
   "cell_type": "code",
   "execution_count": 11,
   "id": "a58d8e8f",
   "metadata": {},
   "outputs": [
    {
     "name": "stdout",
     "output_type": "stream",
     "text": [
      " "
     ]
    }
   ],
   "source": [
    "# %xmode Plain\n",
    "%prun sum_of_lists(1000000)"
   ]
  },
  {
   "cell_type": "code",
   "execution_count": null,
   "id": "dc233b1c",
   "metadata": {},
   "outputs": [],
   "source": []
  }
 ],
 "metadata": {
  "kernelspec": {
   "display_name": "Python 3 (ipykernel)",
   "language": "python",
   "name": "python3"
  },
  "language_info": {
   "codemirror_mode": {
    "name": "ipython",
    "version": 3
   },
   "file_extension": ".py",
   "mimetype": "text/x-python",
   "name": "python",
   "nbconvert_exporter": "python",
   "pygments_lexer": "ipython3",
   "version": "3.12.7"
  }
 },
 "nbformat": 4,
 "nbformat_minor": 5
}
