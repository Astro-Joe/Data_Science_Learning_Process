{
 "cells": [
  {
   "cell_type": "code",
   "execution_count": 4,
   "id": "a2c3e337",
   "metadata": {},
   "outputs": [],
   "source": [
    "import numpy as np"
   ]
  },
  {
   "cell_type": "code",
   "execution_count": 21,
   "id": "320d9b08",
   "metadata": {},
   "outputs": [],
   "source": [
    "# np.random?\n",
    "# np.random.seed?\n",
    "np.random.seed(0) # seed for reproducibility.\n",
    "\n",
    "x1 = np.random.randint(10, size=6) # One-dimensional array (a 1x6 array)\n",
    "x2 = np.random.randint(10, size=(3,4)) # Two-Dimensional array (a 3x4 array)\n",
    "x3 = np.random.randint(10, size=(3, 4, 5)) # Three dimensional array (three of a 4x5 array)\n",
    "\n",
    "# 1x6 array means 1 row 6 columns"
   ]
  },
  {
   "cell_type": "code",
   "execution_count": 29,
   "id": "a612cc09",
   "metadata": {},
   "outputs": [],
   "source": [
    "# ATTRIBUTES OF AN ARRAY BELOW!!!"
   ]
  },
  {
   "cell_type": "code",
   "execution_count": 24,
   "id": "5f8d77ac",
   "metadata": {},
   "outputs": [
    {
     "name": "stdout",
     "output_type": "stream",
     "text": [
      "x3 ndim:  3\n",
      "x3 shape:  (3, 4, 5)\n",
      "x3 size:  60\n"
     ]
    }
   ],
   "source": [
    "print('x3 ndim: ', x3.ndim) # ndim -- Number of dimensions\n",
    "print('x3 shape: ', x3.shape) # shape -- The size of each dimension\n",
    "print('x3 size: ', x3.size) # size -- The total size of the array\n"
   ]
  },
  {
   "cell_type": "code",
   "execution_count": 25,
   "id": "a885eb82",
   "metadata": {},
   "outputs": [
    {
     "name": "stdout",
     "output_type": "stream",
     "text": [
      "dtype: int32\n"
     ]
    }
   ],
   "source": [
    "print(\"dtype:\", x3.dtype) # dtype -- Data type of the array "
   ]
  },
  {
   "cell_type": "code",
   "execution_count": 26,
   "id": "598a1a37",
   "metadata": {},
   "outputs": [
    {
     "name": "stdout",
     "output_type": "stream",
     "text": [
      "itemsize: 4 bytes\n",
      "nbytes: 240 bytes\n"
     ]
    }
   ],
   "source": [
    "print(\"itemsize:\", x3.itemsize, \"bytes\") # itemsize -- The size of each element in the array in bytes.\n",
    "print(\"nbytes:\", x3.nbytes, \"bytes\") # nbytes -- The total size of the whole array in bytes."
   ]
  },
  {
   "cell_type": "code",
   "execution_count": 28,
   "id": "e77c4cf7",
   "metadata": {},
   "outputs": [],
   "source": [
    "# The size of the whole array can be said to be the product of the itemsize and size"
   ]
  },
  {
   "cell_type": "code",
   "execution_count": null,
   "id": "e871e9ac",
   "metadata": {},
   "outputs": [],
   "source": [
    " # ARRAY INDEXING"
   ]
  },
  {
   "cell_type": "code",
   "execution_count": 30,
   "id": "cded3201",
   "metadata": {},
   "outputs": [
    {
     "data": {
      "text/plain": [
       "array([5, 0, 3, 3, 7, 9])"
      ]
     },
     "execution_count": 30,
     "metadata": {},
     "output_type": "execute_result"
    }
   ],
   "source": [
    "x1"
   ]
  },
  {
   "cell_type": "code",
   "execution_count": 32,
   "id": "2a1f1aaa",
   "metadata": {},
   "outputs": [
    {
     "data": {
      "text/plain": [
       "5"
      ]
     },
     "execution_count": 32,
     "metadata": {},
     "output_type": "execute_result"
    }
   ],
   "source": [
    "x1[0]"
   ]
  },
  {
   "cell_type": "code",
   "execution_count": 33,
   "id": "25e39cd9",
   "metadata": {},
   "outputs": [
    {
     "data": {
      "text/plain": [
       "7"
      ]
     },
     "execution_count": 33,
     "metadata": {},
     "output_type": "execute_result"
    }
   ],
   "source": [
    "x1[4]"
   ]
  },
  {
   "cell_type": "code",
   "execution_count": 34,
   "id": "32194917",
   "metadata": {},
   "outputs": [
    {
     "data": {
      "text/plain": [
       "9"
      ]
     },
     "execution_count": 34,
     "metadata": {},
     "output_type": "execute_result"
    }
   ],
   "source": [
    "x1[-1]"
   ]
  }
 ],
 "metadata": {
  "kernelspec": {
   "display_name": "Python 3 (ipykernel)",
   "language": "python",
   "name": "python3"
  },
  "language_info": {
   "codemirror_mode": {
    "name": "ipython",
    "version": 3
   },
   "file_extension": ".py",
   "mimetype": "text/x-python",
   "name": "python",
   "nbconvert_exporter": "python",
   "pygments_lexer": "ipython3",
   "version": "3.9.12"
  }
 },
 "nbformat": 4,
 "nbformat_minor": 5
}
