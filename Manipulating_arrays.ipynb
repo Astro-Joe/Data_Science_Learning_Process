{
 "cells": [
  {
   "cell_type": "code",
   "execution_count": 1,
   "id": "1d84beb8-c3f4-4e90-b968-41fa64a797a0",
   "metadata": {},
   "outputs": [],
   "source": [
    "import numpy as np"
   ]
  },
  {
   "cell_type": "code",
   "execution_count": 7,
   "id": "320d9b08",
   "metadata": {},
   "outputs": [
    {
     "name": "stdout",
     "output_type": "stream",
     "text": [
      "[5 0 3 3 7 9] \n",
      "\n",
      "[[3 5 2 4]\n",
      " [7 6 8 8]\n",
      " [1 6 7 7]] \n",
      "\n",
      "[[[8 1 5 9 8]\n",
      "  [9 4 3 0 3]\n",
      "  [5 0 2 3 8]\n",
      "  [1 3 3 3 7]]\n",
      "\n",
      " [[0 1 9 9 0]\n",
      "  [4 7 3 2 7]\n",
      "  [2 0 0 4 5]\n",
      "  [5 6 8 4 1]]\n",
      "\n",
      " [[4 9 8 1 1]\n",
      "  [7 9 9 3 6]\n",
      "  [7 2 0 3 5]\n",
      "  [9 4 4 6 4]]]\n"
     ]
    }
   ],
   "source": [
    "# np.random?\n",
    "# np.random.seed?\n",
    "np.random.seed(0) # seed for reproducibility.\n",
    "\n",
    "x1 = np.random.randint(10, size=6) # One-dimensional array (a 1x6 array)\n",
    "x2 = np.random.randint(10, size=(3,4)) # Two-Dimensional array (a 3x4 array)\n",
    "x3 = np.random.randint(10, size=(3, 4, 5)) # Three dimensional array (three of a 4x5 array)\n",
    "\n",
    "print(x1,\"\\n\")\n",
    "print(x2,\"\\n\")\n",
    "print(x3)\n",
    "# 1x6 array means 1 row 6 columns"
   ]
  },
  {
   "cell_type": "code",
   "execution_count": 6,
   "id": "c77b7702",
   "metadata": {
    "collapsed": true,
    "jupyter": {
     "outputs_hidden": true
    }
   },
   "outputs": [],
   "source": [
    "# ATTRIBUTES OF AN ARRAY BELOW!!!"
   ]
  },
  {
   "cell_type": "code",
   "execution_count": 5,
   "id": "b088b9ff",
   "metadata": {
    "collapsed": true,
    "jupyter": {
     "outputs_hidden": true
    }
   },
   "outputs": [
    {
     "name": "stdout",
     "output_type": "stream",
     "text": [
      "x3 ndim:  3\n",
      "x3 shape:  (3, 4, 5)\n",
      "x3 size:  60\n"
     ]
    }
   ],
   "source": [
    "print('x3 ndim: ', x3.ndim) # ndim -- Number of dimensions\n",
    "print('x3 shape: ', x3.shape) # shape -- The size of each dimension\n",
    "print('x3 size: ', x3.size) # size -- The total size of the array\n"
   ]
  },
  {
   "cell_type": "code",
   "execution_count": 6,
   "id": "001c4230",
   "metadata": {},
   "outputs": [
    {
     "name": "stdout",
     "output_type": "stream",
     "text": [
      "dtype: int64\n"
     ]
    }
   ],
   "source": [
    "print(\"dtype:\", x3.dtype) # dtype -- Data type of the array "
   ]
  },
  {
   "cell_type": "code",
   "execution_count": 7,
   "id": "057e7e08",
   "metadata": {},
   "outputs": [
    {
     "name": "stdout",
     "output_type": "stream",
     "text": [
      "itemsize: 8 bytes\n",
      "nbytes: 480 bytes\n"
     ]
    }
   ],
   "source": [
    "print(\"itemsize:\", x3.itemsize, \"bytes\") # itemsize -- The size of each element in the array in bytes.\n",
    "print(\"nbytes:\", x3.nbytes, \"bytes\") # nbytes -- The total size of the whole array in bytes."
   ]
  },
  {
   "cell_type": "code",
   "execution_count": 8,
   "id": "3c704a8a",
   "metadata": {
    "collapsed": true,
    "jupyter": {
     "outputs_hidden": true
    }
   },
   "outputs": [],
   "source": [
    "# The size of the whole array can be said to be the product of the itemsize and size"
   ]
  },
  {
   "cell_type": "code",
   "execution_count": 9,
   "id": "c093d91d",
   "metadata": {
    "collapsed": true,
    "jupyter": {
     "outputs_hidden": true
    }
   },
   "outputs": [],
   "source": [
    " # ARRAY INDEXING"
   ]
  },
  {
   "cell_type": "code",
   "execution_count": 10,
   "id": "dac9914a",
   "metadata": {
    "collapsed": true,
    "jupyter": {
     "outputs_hidden": true
    }
   },
   "outputs": [
    {
     "data": {
      "text/plain": [
       "array([5, 0, 3, 3, 7, 9])"
      ]
     },
     "execution_count": 10,
     "metadata": {},
     "output_type": "execute_result"
    }
   ],
   "source": [
    "x1 # Indexing in a one dimensional array"
   ]
  },
  {
   "cell_type": "code",
   "execution_count": 11,
   "id": "7033208f",
   "metadata": {
    "collapsed": true,
    "jupyter": {
     "outputs_hidden": true
    }
   },
   "outputs": [
    {
     "data": {
      "text/plain": [
       "5"
      ]
     },
     "execution_count": 11,
     "metadata": {},
     "output_type": "execute_result"
    }
   ],
   "source": [
    "x1[0]"
   ]
  },
  {
   "cell_type": "code",
   "execution_count": 12,
   "id": "8d19d529",
   "metadata": {
    "collapsed": true,
    "jupyter": {
     "outputs_hidden": true
    }
   },
   "outputs": [
    {
     "data": {
      "text/plain": [
       "7"
      ]
     },
     "execution_count": 12,
     "metadata": {},
     "output_type": "execute_result"
    }
   ],
   "source": [
    "x1[4]"
   ]
  },
  {
   "cell_type": "code",
   "execution_count": 13,
   "id": "89fabbb9",
   "metadata": {
    "collapsed": true,
    "jupyter": {
     "outputs_hidden": true
    }
   },
   "outputs": [
    {
     "data": {
      "text/plain": [
       "7"
      ]
     },
     "execution_count": 13,
     "metadata": {},
     "output_type": "execute_result"
    }
   ],
   "source": [
    "x1[-2]"
   ]
  },
  {
   "cell_type": "code",
   "execution_count": 14,
   "id": "b85a3543",
   "metadata": {
    "collapsed": true,
    "jupyter": {
     "outputs_hidden": true
    }
   },
   "outputs": [
    {
     "data": {
      "text/plain": [
       "array([[3, 5, 2, 4],\n",
       "       [7, 6, 8, 8],\n",
       "       [1, 6, 7, 7]])"
      ]
     },
     "execution_count": 14,
     "metadata": {},
     "output_type": "execute_result"
    }
   ],
   "source": [
    "x2 # Indexing ina two dimensional array"
   ]
  },
  {
   "cell_type": "code",
   "execution_count": 15,
   "id": "6a614e3a",
   "metadata": {
    "collapsed": true,
    "jupyter": {
     "outputs_hidden": true
    }
   },
   "outputs": [
    {
     "data": {
      "text/plain": [
       "array([3, 5, 2, 4])"
      ]
     },
     "execution_count": 15,
     "metadata": {},
     "output_type": "execute_result"
    }
   ],
   "source": [
    "x2[0]"
   ]
  },
  {
   "cell_type": "code",
   "execution_count": 16,
   "id": "02940a5c",
   "metadata": {
    "collapsed": true,
    "jupyter": {
     "outputs_hidden": true
    }
   },
   "outputs": [
    {
     "data": {
      "text/plain": [
       "array([[3, 5],\n",
       "       [7, 6]])"
      ]
     },
     "execution_count": 16,
     "metadata": {},
     "output_type": "execute_result"
    }
   ],
   "source": [
    "x2[0:2,0:2]"
   ]
  },
  {
   "cell_type": "code",
   "execution_count": 17,
   "id": "efc6ba15",
   "metadata": {
    "collapsed": true,
    "jupyter": {
     "outputs_hidden": true
    }
   },
   "outputs": [
    {
     "data": {
      "text/plain": [
       "7"
      ]
     },
     "execution_count": 17,
     "metadata": {},
     "output_type": "execute_result"
    }
   ],
   "source": [
    "x2[2, -1]"
   ]
  },
  {
   "cell_type": "code",
   "execution_count": 18,
   "id": "862dae47",
   "metadata": {
    "collapsed": true,
    "jupyter": {
     "outputs_hidden": true
    }
   },
   "outputs": [],
   "source": [
    "# Setting/Changing a value in an array"
   ]
  },
  {
   "cell_type": "code",
   "execution_count": 19,
   "id": "b434512f",
   "metadata": {
    "collapsed": true,
    "jupyter": {
     "outputs_hidden": true
    }
   },
   "outputs": [
    {
     "name": "stdout",
     "output_type": "stream",
     "text": [
      "[5 0 3 3 7 9]\n",
      "[2 0 3 3 7 9]\n"
     ]
    }
   ],
   "source": [
    "print(x1)\n",
    "x1[0] = 2\n",
    "\n",
    "print(x1)"
   ]
  },
  {
   "cell_type": "code",
   "execution_count": 20,
   "id": "7a85df95",
   "metadata": {
    "collapsed": true,
    "jupyter": {
     "outputs_hidden": true
    }
   },
   "outputs": [
    {
     "name": "stdout",
     "output_type": "stream",
     "text": [
      "[[3 5 2 4]\n",
      " [7 6 8 8]\n",
      " [1 6 7 7]]\n",
      "\n",
      "\n",
      "[[3 5 2 4]\n",
      " [7 6 6 8]\n",
      " [1 6 7 7]]\n"
     ]
    }
   ],
   "source": [
    "print(x2)\n",
    "x2[1,2] = 6\n",
    "\n",
    "print(\"\\n\")\n",
    "\n",
    "print(x2)"
   ]
  },
  {
   "cell_type": "code",
   "execution_count": 21,
   "id": "887c0127",
   "metadata": {
    "collapsed": true,
    "jupyter": {
     "outputs_hidden": true
    }
   },
   "outputs": [],
   "source": [
    "# ARRAY SLICING"
   ]
  },
  {
   "cell_type": "code",
   "execution_count": 22,
   "id": "f3bdbf10",
   "metadata": {
    "collapsed": true,
    "jupyter": {
     "outputs_hidden": true
    }
   },
   "outputs": [
    {
     "data": {
      "text/plain": [
       "array([0, 1, 2, 3, 4, 5, 6, 7, 8, 9])"
      ]
     },
     "execution_count": 22,
     "metadata": {},
     "output_type": "execute_result"
    }
   ],
   "source": [
    "x = np.arange(10)\n",
    "x\n",
    "# SLICING ONE DIMENSIONAL ARRAY"
   ]
  },
  {
   "cell_type": "code",
   "execution_count": 23,
   "id": "49dc3714",
   "metadata": {
    "collapsed": true,
    "jupyter": {
     "outputs_hidden": true
    }
   },
   "outputs": [
    {
     "data": {
      "text/plain": [
       "array([0, 1, 2, 3])"
      ]
     },
     "execution_count": 23,
     "metadata": {},
     "output_type": "execute_result"
    }
   ],
   "source": [
    "x[:4] # for the first 4 elemets"
   ]
  },
  {
   "cell_type": "code",
   "execution_count": 24,
   "id": "7518299d",
   "metadata": {
    "collapsed": true,
    "jupyter": {
     "outputs_hidden": true
    }
   },
   "outputs": [
    {
     "data": {
      "text/plain": [
       "array([4, 5, 6, 7, 8, 9])"
      ]
     },
     "execution_count": 24,
     "metadata": {},
     "output_type": "execute_result"
    }
   ],
   "source": [
    "x[4:] # elements after element 4"
   ]
  },
  {
   "cell_type": "code",
   "execution_count": 25,
   "id": "77eb8afa",
   "metadata": {
    "collapsed": true,
    "jupyter": {
     "outputs_hidden": true
    }
   },
   "outputs": [
    {
     "data": {
      "text/plain": [
       "array([3, 4, 5, 6])"
      ]
     },
     "execution_count": 25,
     "metadata": {},
     "output_type": "execute_result"
    }
   ],
   "source": [
    "x[3:7] # middle subarray"
   ]
  },
  {
   "cell_type": "code",
   "execution_count": 26,
   "id": "c15351dc",
   "metadata": {
    "collapsed": true,
    "jupyter": {
     "outputs_hidden": true
    }
   },
   "outputs": [
    {
     "name": "stdout",
     "output_type": "stream",
     "text": [
      "[0 1 2 3 4 5 6 7 8 9]\n"
     ]
    },
    {
     "data": {
      "text/plain": [
       "array([0, 2, 4, 6, 8])"
      ]
     },
     "execution_count": 26,
     "metadata": {},
     "output_type": "execute_result"
    }
   ],
   "source": [
    "print(x)\n",
    "x[::2] # every other element"
   ]
  },
  {
   "cell_type": "code",
   "execution_count": 27,
   "id": "00c4fd65",
   "metadata": {
    "collapsed": true,
    "jupyter": {
     "outputs_hidden": true
    }
   },
   "outputs": [
    {
     "data": {
      "text/plain": [
       "array([1, 3, 5, 7, 9])"
      ]
     },
     "execution_count": 27,
     "metadata": {},
     "output_type": "execute_result"
    }
   ],
   "source": [
    "x[1::2] # every other element"
   ]
  },
  {
   "cell_type": "code",
   "execution_count": 28,
   "id": "ead736af",
   "metadata": {
    "collapsed": true,
    "jupyter": {
     "outputs_hidden": true
    }
   },
   "outputs": [
    {
     "data": {
      "text/plain": [
       "array([9, 8, 7, 6, 5, 4, 3, 2, 1, 0])"
      ]
     },
     "execution_count": 28,
     "metadata": {},
     "output_type": "execute_result"
    }
   ],
   "source": [
    "x[::-1] # all elements of the array reversed"
   ]
  },
  {
   "cell_type": "code",
   "execution_count": 29,
   "id": "86a5ee8f",
   "metadata": {
    "collapsed": true,
    "jupyter": {
     "outputs_hidden": true
    }
   },
   "outputs": [
    {
     "data": {
      "text/plain": [
       "array([5, 3, 1])"
      ]
     },
     "execution_count": 29,
     "metadata": {},
     "output_type": "execute_result"
    }
   ],
   "source": [
    "x[5::-2] # reversed every other from index 5"
   ]
  },
  {
   "cell_type": "code",
   "execution_count": null,
   "id": "5f00f184",
   "metadata": {
    "collapsed": true,
    "jupyter": {
     "outputs_hidden": true
    }
   },
   "outputs": [],
   "source": []
  },
  {
   "cell_type": "code",
   "execution_count": 30,
   "id": "70e19041",
   "metadata": {
    "collapsed": true,
    "jupyter": {
     "outputs_hidden": true
    }
   },
   "outputs": [
    {
     "data": {
      "text/plain": [
       "array([[15,  3, 12],\n",
       "       [ 4,  8, 14],\n",
       "       [15,  3, 15]])"
      ]
     },
     "execution_count": 30,
     "metadata": {},
     "output_type": "execute_result"
    }
   ],
   "source": [
    "# SLICING 2 DIMENSIONAL ARRAY\n",
    "x2 = np.random.randint(20, size=(3,3))\n",
    "x2"
   ]
  },
  {
   "cell_type": "code",
   "execution_count": 31,
   "id": "3ed21c24",
   "metadata": {
    "collapsed": true,
    "jupyter": {
     "outputs_hidden": true
    }
   },
   "outputs": [
    {
     "data": {
      "text/plain": [
       "array([[15,  3],\n",
       "       [ 4,  8]])"
      ]
     },
     "execution_count": 31,
     "metadata": {},
     "output_type": "execute_result"
    }
   ],
   "source": [
    "x2[:2, :2] # The parameters follow row and colomn respectively.\n",
    "           # Two rows, two columns"
   ]
  },
  {
   "cell_type": "code",
   "execution_count": 32,
   "id": "35ad4eb0",
   "metadata": {
    "collapsed": true,
    "jupyter": {
     "outputs_hidden": true
    }
   },
   "outputs": [
    {
     "data": {
      "text/plain": [
       "array([[15, 12],\n",
       "       [ 4, 14]])"
      ]
     },
     "execution_count": 32,
     "metadata": {},
     "output_type": "execute_result"
    }
   ],
   "source": [
    "x2[:2, ::2]  # for the second row and every other column"
   ]
  },
  {
   "cell_type": "code",
   "execution_count": 33,
   "id": "a90bedcb",
   "metadata": {
    "collapsed": true,
    "jupyter": {
     "outputs_hidden": true
    }
   },
   "outputs": [
    {
     "data": {
      "text/plain": [
       "array([[15,  3, 15],\n",
       "       [14,  8,  4],\n",
       "       [12,  3, 15]])"
      ]
     },
     "execution_count": 33,
     "metadata": {},
     "output_type": "execute_result"
    }
   ],
   "source": [
    "x2[::-1, ::-1] # reversing subarray dimensions"
   ]
  },
  {
   "cell_type": "code",
   "execution_count": 34,
   "id": "d449dcd3",
   "metadata": {
    "collapsed": true,
    "jupyter": {
     "outputs_hidden": true
    }
   },
   "outputs": [
    {
     "name": "stdout",
     "output_type": "stream",
     "text": [
      "[15  4 15]\n"
     ]
    }
   ],
   "source": [
    "print(x2[:, 0]) # first column of the array\n"
   ]
  },
  {
   "cell_type": "code",
   "execution_count": 35,
   "id": "a68d6ed1",
   "metadata": {
    "collapsed": true,
    "jupyter": {
     "outputs_hidden": true
    }
   },
   "outputs": [
    {
     "name": "stdout",
     "output_type": "stream",
     "text": [
      "[15  3 12]\n"
     ]
    }
   ],
   "source": [
    "print(x2[0]) # first row of the array\n"
   ]
  },
  {
   "cell_type": "code",
   "execution_count": 36,
   "id": "d5597f34",
   "metadata": {
    "collapsed": true,
    "jupyter": {
     "outputs_hidden": true
    }
   },
   "outputs": [
    {
     "name": "stdout",
     "output_type": "stream",
     "text": [
      "[[15  3 12]\n",
      " [ 4  8 14]\n",
      " [15  3 15]]\n"
     ]
    }
   ],
   "source": [
    "print(x2)"
   ]
  },
  {
   "cell_type": "code",
   "execution_count": 37,
   "id": "eab9898f",
   "metadata": {
    "collapsed": true,
    "jupyter": {
     "outputs_hidden": true
    }
   },
   "outputs": [
    {
     "name": "stdout",
     "output_type": "stream",
     "text": [
      "[[15  3]\n",
      " [ 4  8]]\n"
     ]
    }
   ],
   "source": [
    "x2_sub = (x2[:2, :2]) # A slice of array x2 was created\n",
    "print(x2_sub)"
   ]
  },
  {
   "cell_type": "code",
   "execution_count": 38,
   "id": "97268f46",
   "metadata": {
    "collapsed": true,
    "jupyter": {
     "outputs_hidden": true
    }
   },
   "outputs": [
    {
     "name": "stdout",
     "output_type": "stream",
     "text": [
      "[[99  3]\n",
      " [ 4  8]]\n"
     ]
    }
   ],
   "source": [
    "x2_sub[0, 0] = 99 # The value of the first element got changed\n",
    "print(x2_sub)"
   ]
  },
  {
   "cell_type": "code",
   "execution_count": 39,
   "id": "6e770442",
   "metadata": {
    "collapsed": true,
    "jupyter": {
     "outputs_hidden": true
    }
   },
   "outputs": [
    {
     "name": "stdout",
     "output_type": "stream",
     "text": [
      "[[99  3 12]\n",
      " [ 4  8 14]\n",
      " [15  3 15]]\n"
     ]
    }
   ],
   "source": [
    "print(x2) # But the original array got changed also "
   ]
  },
  {
   "cell_type": "code",
   "execution_count": 40,
   "id": "3a30ea21",
   "metadata": {
    "collapsed": true,
    "jupyter": {
     "outputs_hidden": true
    }
   },
   "outputs": [],
   "source": [
    "# Slicing an array returns a veiw rather than a copy of the array\n",
    "# This can be advantageous when handling large data. It allows\n",
    "# for the editing of pieces of the the dataset without needing to \n",
    "# copy the piece... But can be disadvantageous in a case when                                                                                                                                              gbgggggggggggggggggggggggggggggggggggggggggggbbbbbbbbbbgggggggggggggggggggggggygy+gyygyggggggggggggggggggggggg++-+gggggggggggggggggggggggggggggggggggggggggggggggggggggggggggggggggggg+++++g+++++g++ggggggggggggggggggggggggggggggg+gggggg+g+++++\n",
    "# copying a piece of the dataset is what was intended and then\n",
    "# end up modifying the whole dataset."
   ]
  },
  {
   "cell_type": "code",
   "execution_count": 41,
   "id": "5456ad18",
   "metadata": {
    "collapsed": true,
    "jupyter": {
     "outputs_hidden": true
    }
   },
   "outputs": [
    {
     "name": "stdout",
     "output_type": "stream",
     "text": [
      "[[99  3]\n",
      " [ 4  8]]\n"
     ]
    }
   ],
   "source": [
    "x2_sub_copy = x2[:2, :2].copy()\n",
    "print(x2_sub_copy)\t"
   ]
  },
  {
   "cell_type": "code",
   "execution_count": 42,
   "id": "81545f7d",
   "metadata": {
    "collapsed": true,
    "jupyter": {
     "outputs_hidden": true
    }
   },
   "outputs": [
    {
     "name": "stdout",
     "output_type": "stream",
     "text": [
      "[[42  3]\n",
      " [ 4  8]]\n"
     ]
    }
   ],
   "source": [
    "x2_sub_copy[0,0] = 42\n",
    "print(x2_sub_copy)"
   ]
  },
  {
   "cell_type": "code",
   "execution_count": 43,
   "id": "768838df",
   "metadata": {
    "collapsed": true,
    "jupyter": {
     "outputs_hidden": true
    }
   },
   "outputs": [
    {
     "name": "stdout",
     "output_type": "stream",
     "text": [
      "[[99  3 12]\n",
      " [ 4  8 14]\n",
      " [15  3 15]]\n"
     ]
    }
   ],
   "source": [
    "print(x2) "
   ]
  },
  {
   "cell_type": "code",
   "execution_count": 44,
   "id": "d843ceaa",
   "metadata": {
    "collapsed": true,
    "jupyter": {
     "outputs_hidden": true
    }
   },
   "outputs": [],
   "source": [
    "# RESHAPING OF ARRAYS"
   ]
  },
  {
   "cell_type": "code",
   "execution_count": 45,
   "id": "e38b483f",
   "metadata": {
    "collapsed": true,
    "jupyter": {
     "outputs_hidden": true
    }
   },
   "outputs": [
    {
     "data": {
      "text/plain": [
       "array([1, 2, 3, 4, 5, 6, 7, 8, 9])"
      ]
     },
     "execution_count": 45,
     "metadata": {},
     "output_type": "execute_result"
    }
   ],
   "source": [
    "np.arange(1,10)"
   ]
  },
  {
   "cell_type": "code",
   "execution_count": 46,
   "id": "dac32881",
   "metadata": {
    "collapsed": true,
    "jupyter": {
     "outputs_hidden": true
    }
   },
   "outputs": [
    {
     "name": "stdout",
     "output_type": "stream",
     "text": [
      "[[1 2 3]\n",
      " [4 5 6]\n",
      " [7 8 9]]\n"
     ]
    }
   ],
   "source": [
    "grid = np.arange(1,10).reshape(3,3) # The reshape() method can be used to reshape the structure of an array.\n",
    "print(grid)"
   ]
  },
  {
   "cell_type": "code",
   "execution_count": 47,
   "id": "378695ef",
   "metadata": {
    "collapsed": true,
    "jupyter": {
     "outputs_hidden": true
    }
   },
   "outputs": [
    {
     "name": "stdout",
     "output_type": "stream",
     "text": [
      "[1 2 3]\n"
     ]
    }
   ],
   "source": [
    "x = np.array([1, 2, 3])\n",
    "print(x)"
   ]
  },
  {
   "cell_type": "code",
   "execution_count": 48,
   "id": "b6b5a7ba",
   "metadata": {
    "collapsed": true,
    "jupyter": {
     "outputs_hidden": true
    }
   },
   "outputs": [
    {
     "data": {
      "text/plain": [
       "array([[1],\n",
       "       [2],\n",
       "       [3]])"
      ]
     },
     "execution_count": 48,
     "metadata": {},
     "output_type": "execute_result"
    }
   ],
   "source": [
    "x.reshape((3, 1)) # Using the reshape method\n"
   ]
  },
  {
   "cell_type": "code",
   "execution_count": 49,
   "id": "d321abfe",
   "metadata": {
    "collapsed": true,
    "jupyter": {
     "outputs_hidden": true
    }
   },
   "outputs": [
    {
     "data": {
      "text/plain": [
       "array([[1],\n",
       "       [2],\n",
       "       [3]])"
      ]
     },
     "execution_count": 49,
     "metadata": {},
     "output_type": "execute_result"
    }
   ],
   "source": [
    "x[:, np.newaxis] # using the newaxis keyword"
   ]
  },
  {
   "cell_type": "code",
   "execution_count": 50,
   "id": "802f4178",
   "metadata": {
    "collapsed": true,
    "jupyter": {
     "outputs_hidden": true
    }
   },
   "outputs": [],
   "source": [
    "# CONCATENATION AND SPLITTING OF ARRAYS"
   ]
  },
  {
   "cell_type": "code",
   "execution_count": 51,
   "id": "eee1fdfe",
   "metadata": {
    "collapsed": true,
    "jupyter": {
     "outputs_hidden": true
    }
   },
   "outputs": [
    {
     "data": {
      "text/plain": [
       "array([1, 2, 3, 3, 2, 1])"
      ]
     },
     "execution_count": 51,
     "metadata": {},
     "output_type": "execute_result"
    }
   ],
   "source": [
    "# Concatenation of one dimensional arrays\n",
    "\n",
    "x = np.array([1, 2, 3])\n",
    "y = np.array([3, 2, 1])\n",
    "\n",
    "np.concatenate([x, y])"
   ]
  },
  {
   "cell_type": "code",
   "execution_count": 52,
   "id": "9e7d72fb",
   "metadata": {
    "collapsed": true,
    "jupyter": {
     "outputs_hidden": true
    }
   },
   "outputs": [
    {
     "data": {
      "text/plain": [
       "array([ 1,  2,  3,  1,  2,  3, 99, 99, 99])"
      ]
     },
     "execution_count": 52,
     "metadata": {},
     "output_type": "execute_result"
    }
   ],
   "source": [
    "z = np.array([99, 99, 99])\n",
    "\n",
    "result = np.concatenate([x, x, z])\n",
    "result"
   ]
  },
  {
   "cell_type": "code",
   "execution_count": 53,
   "id": "cbe98a9f",
   "metadata": {
    "collapsed": true,
    "jupyter": {
     "outputs_hidden": true
    }
   },
   "outputs": [],
   "source": [
    "# Concatenation of two dimensional arrays\n",
    "\n",
    "grid = np.array([[1, 2, 3],\n",
    "                 [4, 5, 6]])"
   ]
  },
  {
   "cell_type": "code",
   "execution_count": 54,
   "id": "ed07cffc",
   "metadata": {
    "collapsed": true,
    "jupyter": {
     "outputs_hidden": true
    }
   },
   "outputs": [
    {
     "data": {
      "text/plain": [
       "array([[1, 2, 3],\n",
       "       [4, 5, 6],\n",
       "       [1, 2, 3],\n",
       "       [4, 5, 6]])"
      ]
     },
     "execution_count": 54,
     "metadata": {},
     "output_type": "execute_result"
    }
   ],
   "source": [
    "# Concatenating along the first axis \n",
    "np.concatenate([grid, grid], axis=0) # Zero-indexed"
   ]
  },
  {
   "cell_type": "code",
   "execution_count": 55,
   "id": "fdfec591",
   "metadata": {
    "collapsed": true,
    "jupyter": {
     "outputs_hidden": true
    }
   },
   "outputs": [
    {
     "data": {
      "text/plain": [
       "array([[1, 2, 3, 1, 2, 3],\n",
       "       [4, 5, 6, 4, 5, 6]])"
      ]
     },
     "execution_count": 55,
     "metadata": {},
     "output_type": "execute_result"
    }
   ],
   "source": [
    "# Concatenating along the second axis \n",
    "np.concatenate([grid, grid], axis=1)"
   ]
  },
  {
   "cell_type": "code",
   "execution_count": 56,
   "id": "d2caaa05",
   "metadata": {
    "collapsed": true,
    "jupyter": {
     "outputs_hidden": true
    }
   },
   "outputs": [
    {
     "data": {
      "text/plain": [
       "array([[1, 2, 3],\n",
       "       [1, 2, 3],\n",
       "       [4, 5, 6]])"
      ]
     },
     "execution_count": 56,
     "metadata": {},
     "output_type": "execute_result"
    }
   ],
   "source": [
    "# Concatenating arrays of different dimensional. \n",
    "\n",
    "y = np.array([1, 2, 3])\n",
    "np.vstack([y, grid]) # row-wise\n",
    "# np.vstack([grid, y])"
   ]
  },
  {
   "cell_type": "code",
   "execution_count": 57,
   "id": "1c9ea7a9",
   "metadata": {
    "collapsed": true,
    "jupyter": {
     "outputs_hidden": true
    }
   },
   "outputs": [
    {
     "data": {
      "text/plain": [
       "array([[9, 1, 2, 3],\n",
       "       [9, 4, 5, 6]])"
      ]
     },
     "execution_count": 57,
     "metadata": {},
     "output_type": "execute_result"
    }
   ],
   "source": [
    "x = np.array([[9], \n",
    "              [9]])\n",
    "np.hstack([x, grid]) # Column-wise\n",
    "# np.hstack?\n",
    "# print(grid)\n",
    "\n"
   ]
  },
  {
   "cell_type": "code",
   "execution_count": 58,
   "id": "7f6ca46a",
   "metadata": {
    "collapsed": true,
    "jupyter": {
     "outputs_hidden": true
    }
   },
   "outputs": [],
   "source": [
    "# SPLITTING OF ARRAYS\n",
    "# .split is mainly used for one dimensional arrays WHILE\n",
    "# .vsplt and .hsplit are used for multidimensional arrays\n",
    "# Using .spilt,  N split pounts leads to N + 1 subarrays"
   ]
  },
  {
   "cell_type": "code",
   "execution_count": 59,
   "id": "91622465",
   "metadata": {
    "collapsed": true,
    "jupyter": {
     "outputs_hidden": true
    }
   },
   "outputs": [
    {
     "name": "stdout",
     "output_type": "stream",
     "text": [
      "[1 2 3] [99 99] [3 2 1]\n"
     ]
    }
   ],
   "source": [
    "x = [1, 2, 3, 99, 99, 3, 2, 1]\n",
    "x1, x2, x3 = np.split(x,[3, 5]) # [3, 5]: [:3, 3:5, 5:]\n",
    "\n",
    "print(x1, x2, x3)"
   ]
  },
  {
   "cell_type": "code",
   "execution_count": 60,
   "id": "ac08d2ae",
   "metadata": {
    "collapsed": true,
    "jupyter": {
     "outputs_hidden": true
    }
   },
   "outputs": [
    {
     "data": {
      "text/plain": [
       "array([[ 0,  1,  2,  3],\n",
       "       [ 4,  5,  6,  7],\n",
       "       [ 8,  9, 10, 11],\n",
       "       [12, 13, 14, 15]])"
      ]
     },
     "execution_count": 60,
     "metadata": {},
     "output_type": "execute_result"
    }
   ],
   "source": [
    "grid1 = np.arange(16).reshape(4, 4)\n",
    "grid1"
   ]
  },
  {
   "cell_type": "code",
   "execution_count": 61,
   "id": "0aacf635",
   "metadata": {
    "collapsed": true,
    "jupyter": {
     "outputs_hidden": true
    }
   },
   "outputs": [
    {
     "name": "stdout",
     "output_type": "stream",
     "text": [
      "[[0 1 2 3]\n",
      " [4 5 6 7]]\n",
      "[[ 8  9 10 11]\n",
      " [12 13 14 15]]\n"
     ]
    }
   ],
   "source": [
    "upper, lower = np.vsplit(grid1, [2])\n",
    "print(upper) \n",
    "print(lower)"
   ]
  },
  {
   "cell_type": "code",
   "execution_count": 62,
   "id": "8e008d56",
   "metadata": {
    "collapsed": true,
    "jupyter": {
     "outputs_hidden": true
    }
   },
   "outputs": [
    {
     "name": "stdout",
     "output_type": "stream",
     "text": [
      "[[ 0  1]\n",
      " [ 4  5]\n",
      " [ 8  9]\n",
      " [12 13]]\n",
      "[[ 2  3]\n",
      " [ 6  7]\n",
      " [10 11]\n",
      " [14 15]]\n"
     ]
    }
   ],
   "source": [
    "left, right = np.hsplit(grid1, [2])\n",
    "print(left)\n",
    "print(right)"
   ]
  },
  {
   "cell_type": "code",
   "execution_count": 63,
   "id": "7adc01eb-3ce5-4c48-93e9-04a7bb246317",
   "metadata": {
    "collapsed": true,
    "jupyter": {
     "outputs_hidden": true
    }
   },
   "outputs": [
    {
     "data": {
      "text/plain": [
       "\u001b[31mSignature:\u001b[39m      \n",
       "np.var(\n",
       "    a,\n",
       "    axis=\u001b[38;5;28;01mNone\u001b[39;00m,\n",
       "    dtype=\u001b[38;5;28;01mNone\u001b[39;00m,\n",
       "    out=\u001b[38;5;28;01mNone\u001b[39;00m,\n",
       "    ddof=\u001b[32m0\u001b[39m,\n",
       "    keepdims=<no value>,\n",
       "    *,\n",
       "    where=<no value>,\n",
       ")\n",
       "\u001b[31mCall signature:\u001b[39m  np.var(*args, **kwargs)\n",
       "\u001b[31mType:\u001b[39m            _ArrayFunctionDispatcher\n",
       "\u001b[31mString form:\u001b[39m     <function var at 0x795249ec00>\n",
       "\u001b[31mFile:\u001b[39m            /data/user/0/ru.iiec.pydroid3/files/aarch64-linux-android/lib/python3.11/site-packages/numpy/core/fromnumeric.py\n",
       "\u001b[31mDocstring:\u001b[39m      \n",
       "Compute the variance along the specified axis.\n",
       "\n",
       "Returns the variance of the array elements, a measure of the spread of a\n",
       "distribution.  The variance is computed for the flattened array by\n",
       "default, otherwise over the specified axis.\n",
       "\n",
       "Parameters\n",
       "----------\n",
       "a : array_like\n",
       "    Array containing numbers whose variance is desired.  If `a` is not an\n",
       "    array, a conversion is attempted.\n",
       "axis : None or int or tuple of ints, optional\n",
       "    Axis or axes along which the variance is computed.  The default is to\n",
       "    compute the variance of the flattened array.\n",
       "\n",
       "    .. versionadded:: 1.7.0\n",
       "\n",
       "    If this is a tuple of ints, a variance is performed over multiple axes,\n",
       "    instead of a single axis or all the axes as before.\n",
       "dtype : data-type, optional\n",
       "    Type to use in computing the variance.  For arrays of integer type\n",
       "    the default is `float64`; for arrays of float types it is the same as\n",
       "    the array type.\n",
       "out : ndarray, optional\n",
       "    Alternate output array in which to place the result.  It must have\n",
       "    the same shape as the expected output, but the type is cast if\n",
       "    necessary.\n",
       "ddof : int, optional\n",
       "    \"Delta Degrees of Freedom\": the divisor used in the calculation is\n",
       "    ``N - ddof``, where ``N`` represents the number of elements. By\n",
       "    default `ddof` is zero.\n",
       "keepdims : bool, optional\n",
       "    If this is set to True, the axes which are reduced are left\n",
       "    in the result as dimensions with size one. With this option,\n",
       "    the result will broadcast correctly against the input array.\n",
       "\n",
       "    If the default value is passed, then `keepdims` will not be\n",
       "    passed through to the `var` method of sub-classes of\n",
       "    `ndarray`, however any non-default value will be.  If the\n",
       "    sub-class' method does not implement `keepdims` any\n",
       "    exceptions will be raised.\n",
       "\n",
       "where : array_like of bool, optional\n",
       "    Elements to include in the variance. See `~numpy.ufunc.reduce` for\n",
       "    details.\n",
       "\n",
       "    .. versionadded:: 1.20.0\n",
       "\n",
       "Returns\n",
       "-------\n",
       "variance : ndarray, see dtype parameter above\n",
       "    If ``out=None``, returns a new array containing the variance;\n",
       "    otherwise, a reference to the output array is returned.\n",
       "\n",
       "See Also\n",
       "--------\n",
       "std, mean, nanmean, nanstd, nanvar\n",
       ":ref:`ufuncs-output-type`\n",
       "\n",
       "Notes\n",
       "-----\n",
       "The variance is the average of the squared deviations from the mean,\n",
       "i.e.,  ``var = mean(x)``, where ``x = abs(a - a.mean())**2``.\n",
       "\n",
       "The mean is typically calculated as ``x.sum() / N``, where ``N = len(x)``.\n",
       "If, however, `ddof` is specified, the divisor ``N - ddof`` is used\n",
       "instead.  In standard statistical practice, ``ddof=1`` provides an\n",
       "unbiased estimator of the variance of a hypothetical infinite population.\n",
       "``ddof=0`` provides a maximum likelihood estimate of the variance for\n",
       "normally distributed variables.\n",
       "\n",
       "Note that for complex numbers, the absolute value is taken before\n",
       "squaring, so that the result is always real and nonnegative.\n",
       "\n",
       "For floating-point input, the variance is computed using the same\n",
       "precision the input has.  Depending on the input data, this can cause\n",
       "the results to be inaccurate, especially for `float32` (see example\n",
       "below).  Specifying a higher-accuracy accumulator using the ``dtype``\n",
       "keyword can alleviate this issue.\n",
       "\n",
       "Examples\n",
       "--------\n",
       ">>> a = np.array([[1, 2], [3, 4]])\n",
       ">>> np.var(a)\n",
       "1.25\n",
       ">>> np.var(a, axis=0)\n",
       "array([1.,  1.])\n",
       ">>> np.var(a, axis=1)\n",
       "array([0.25,  0.25])\n",
       "\n",
       "In single precision, var() can be inaccurate:\n",
       "\n",
       ">>> a = np.zeros((2, 512*512), dtype=np.float32)\n",
       ">>> a[0, :] = 1.0\n",
       ">>> a[1, :] = 0.1\n",
       ">>> np.var(a)\n",
       "0.20250003\n",
       "\n",
       "Computing the variance in float64 is more accurate:\n",
       "\n",
       ">>> np.var(a, dtype=np.float64)\n",
       "0.20249999932944759 # may vary\n",
       ">>> ((1-0.55)**2 + (0.1-0.55)**2)/2\n",
       "0.2025\n",
       "\n",
       "Specifying a where argument:\n",
       "\n",
       ">>> a = np.array([[14, 8, 11, 10], [7, 9, 10, 11], [10, 15, 5, 10]])\n",
       ">>> np.var(a)\n",
       "6.833333333333333 # may vary\n",
       ">>> np.var(a, where=[[True], [True], [False]])\n",
       "4.0\n",
       "\u001b[31mClass docstring:\u001b[39m\n",
       "Class to wrap functions with checks for __array_function__ overrides.\n",
       "\n",
       "All arguments are required, and can only be passed by position.\n",
       "\n",
       "Parameters\n",
       "----------\n",
       "dispatcher : function or None\n",
       "    The dispatcher function that returns a single sequence-like object\n",
       "    of all arguments relevant.  It must have the same signature (except\n",
       "    the default values) as the actual implementation.\n",
       "    If ``None``, this is a ``like=`` dispatcher and the\n",
       "    ``_ArrayFunctionDispatcher`` must be called with ``like`` as the\n",
       "    first (additional and positional) argument.\n",
       "implementation : function\n",
       "    Function that implements the operation on NumPy arrays without\n",
       "    overrides.  Arguments passed calling the ``_ArrayFunctionDispatcher``\n",
       "    will be forwarded to this (and the ``dispatcher``) as if using\n",
       "    ``*args, **kwargs``.\n",
       "\n",
       "Attributes\n",
       "----------\n",
       "_implementation : function\n",
       "    The original implementation passed in."
      ]
     },
     "metadata": {},
     "output_type": "display_data"
    }
   ],
   "source": [
    "import numpy as np\n",
    "np.var?"
   ]
  },
  {
   "cell_type": "code",
   "execution_count": 64,
   "id": "d5a22420-62e8-4377-8dc5-b5441e96b119",
   "metadata": {
    "collapsed": true,
    "jupyter": {
     "outputs_hidden": true
    }
   },
   "outputs": [
    {
     "data": {
      "text/plain": [
       "\u001b[31mDocstring:\u001b[39m\n",
       "array(object, dtype=None, *, copy=True, order='K', subok=False, ndmin=0,\n",
       "      like=None)\n",
       "\n",
       "Create an array.\n",
       "\n",
       "Parameters\n",
       "----------\n",
       "object : array_like\n",
       "    An array, any object exposing the array interface, an object whose\n",
       "    ``__array__`` method returns an array, or any (nested) sequence.\n",
       "    If object is a scalar, a 0-dimensional array containing object is\n",
       "    returned.\n",
       "dtype : data-type, optional\n",
       "    The desired data-type for the array. If not given, NumPy will try to use\n",
       "    a default ``dtype`` that can represent the values (by applying promotion\n",
       "    rules when necessary.)\n",
       "copy : bool, optional\n",
       "    If true (default), then the object is copied.  Otherwise, a copy will\n",
       "    only be made if ``__array__`` returns a copy, if obj is a nested\n",
       "    sequence, or if a copy is needed to satisfy any of the other\n",
       "    requirements (``dtype``, ``order``, etc.).\n",
       "order : {'K', 'A', 'C', 'F'}, optional\n",
       "    Specify the memory layout of the array. If object is not an array, the\n",
       "    newly created array will be in C order (row major) unless 'F' is\n",
       "    specified, in which case it will be in Fortran order (column major).\n",
       "    If object is an array the following holds.\n",
       "\n",
       "    ===== ========= ===================================================\n",
       "    order  no copy                     copy=True\n",
       "    ===== ========= ===================================================\n",
       "    'K'   unchanged F & C order preserved, otherwise most similar order\n",
       "    'A'   unchanged F order if input is F and not C, otherwise C order\n",
       "    'C'   C order   C order\n",
       "    'F'   F order   F order\n",
       "    ===== ========= ===================================================\n",
       "\n",
       "    When ``copy=False`` and a copy is made for other reasons, the result is\n",
       "    the same as if ``copy=True``, with some exceptions for 'A', see the\n",
       "    Notes section. The default order is 'K'.\n",
       "subok : bool, optional\n",
       "    If True, then sub-classes will be passed-through, otherwise\n",
       "    the returned array will be forced to be a base-class array (default).\n",
       "ndmin : int, optional\n",
       "    Specifies the minimum number of dimensions that the resulting\n",
       "    array should have.  Ones will be prepended to the shape as\n",
       "    needed to meet this requirement.\n",
       "like : array_like, optional\n",
       "    Reference object to allow the creation of arrays which are not\n",
       "    NumPy arrays. If an array-like passed in as ``like`` supports\n",
       "    the ``__array_function__`` protocol, the result will be defined\n",
       "    by it. In this case, it ensures the creation of an array object\n",
       "    compatible with that passed in via this argument.\n",
       "\n",
       "    .. versionadded:: 1.20.0\n",
       "\n",
       "Returns\n",
       "-------\n",
       "out : ndarray\n",
       "    An array object satisfying the specified requirements.\n",
       "\n",
       "See Also\n",
       "--------\n",
       "empty_like : Return an empty array with shape and type of input.\n",
       "ones_like : Return an array of ones with shape and type of input.\n",
       "zeros_like : Return an array of zeros with shape and type of input.\n",
       "full_like : Return a new array with shape of input filled with value.\n",
       "empty : Return a new uninitialized array.\n",
       "ones : Return a new array setting values to one.\n",
       "zeros : Return a new array setting values to zero.\n",
       "full : Return a new array of given shape filled with value.\n",
       "\n",
       "\n",
       "Notes\n",
       "-----\n",
       "When order is 'A' and ``object`` is an array in neither 'C' nor 'F' order,\n",
       "and a copy is forced by a change in dtype, then the order of the result is\n",
       "not necessarily 'C' as expected. This is likely a bug.\n",
       "\n",
       "Examples\n",
       "--------\n",
       ">>> np.array([1, 2, 3])\n",
       "array([1, 2, 3])\n",
       "\n",
       "Upcasting:\n",
       "\n",
       ">>> np.array([1, 2, 3.0])\n",
       "array([ 1.,  2.,  3.])\n",
       "\n",
       "More than one dimension:\n",
       "\n",
       ">>> np.array([[1, 2], [3, 4]])\n",
       "array([[1, 2],\n",
       "       [3, 4]])\n",
       "\n",
       "Minimum dimensions 2:\n",
       "\n",
       ">>> np.array([1, 2, 3], ndmin=2)\n",
       "array([[1, 2, 3]])\n",
       "\n",
       "Type provided:\n",
       "\n",
       ">>> np.array([1, 2, 3], dtype=complex)\n",
       "array([ 1.+0.j,  2.+0.j,  3.+0.j])\n",
       "\n",
       "Data-type consisting of more than one element:\n",
       "\n",
       ">>> x = np.array([(1,2),(3,4)],dtype=[('a','<i4'),('b','<i4')])\n",
       ">>> x['a']\n",
       "array([1, 3])\n",
       "\n",
       "Creating an array from sub-classes:\n",
       "\n",
       ">>> np.array(np.mat('1 2; 3 4'))\n",
       "array([[1, 2],\n",
       "       [3, 4]])\n",
       "\n",
       ">>> np.array(np.mat('1 2; 3 4'), subok=True)\n",
       "matrix([[1, 2],\n",
       "        [3, 4]])\n",
       "\u001b[31mType:\u001b[39m      builtin_function_or_method"
      ]
     },
     "metadata": {},
     "output_type": "display_data"
    }
   ],
   "source": [
    "np.array?"
   ]
  },
  {
   "cell_type": "code",
   "execution_count": 65,
   "id": "0bb82ba9-7ac1-42d9-a867-6faffee7c694",
   "metadata": {
    "collapsed": true,
    "jupyter": {
     "outputs_hidden": true
    }
   },
   "outputs": [
    {
     "data": {
      "text/plain": [
       "array([5, 3, 1])"
      ]
     },
     "execution_count": 65,
     "metadata": {},
     "output_type": "execute_result"
    }
   ],
   "source": [
    "x = np.arange(10)\n",
    "x[5::-2]"
   ]
  },
  {
   "cell_type": "code",
   "execution_count": 66,
   "id": "f9dc4d44-9f7f-4074-8e1e-90fef9afb5f9",
   "metadata": {
    "collapsed": true,
    "jupyter": {
     "outputs_hidden": true
    }
   },
   "outputs": [
    {
     "data": {
      "text/plain": [
       "array([[ 3,  4,  5],\n",
       "       [12, 13, 14],\n",
       "       [20, 21, 22]])"
      ]
     },
     "execution_count": 66,
     "metadata": {},
     "output_type": "execute_result"
    }
   ],
   "source": [
    "array = np.array([range (i, i+3) for i in [3 ,12, 20]])\n",
    "array"
   ]
  },
  {
   "cell_type": "code",
   "execution_count": 67,
   "id": "edc82f55-a850-4719-b522-e1b1624e5c4e",
   "metadata": {
    "collapsed": true,
    "jupyter": {
     "outputs_hidden": true
    }
   },
   "outputs": [
    {
     "data": {
      "text/plain": [
       "array([[ 3,  4],\n",
       "       [12, 13],\n",
       "       [20, 21]])"
      ]
     },
     "execution_count": 67,
     "metadata": {},
     "output_type": "execute_result"
    }
   ],
   "source": [
    "array[:4, :2]"
   ]
  },
  {
   "cell_type": "code",
   "execution_count": null,
   "id": "2c08101f-c1cb-4518-9f87-bea481859d7d",
   "metadata": {},
   "outputs": [],
   "source": [
    "# Splitting an array"
   ]
  },
  {
   "cell_type": "code",
   "execution_count": 17,
   "id": "6a79e56c-2b63-444b-817d-20df16c61757",
   "metadata": {},
   "outputs": [
    {
     "data": {
      "text/plain": [
       "[array([[ 3],\n",
       "        [12],\n",
       "        [20]]),\n",
       " array([[ 4],\n",
       "        [13],\n",
       "        [21]]),\n",
       " array([[ 5],\n",
       "        [14],\n",
       "        [22]])]"
      ]
     },
     "execution_count": 17,
     "metadata": {},
     "output_type": "execute_result"
    }
   ],
   "source": [
    "np.hsplit(array, (3))"
   ]
  },
  {
   "cell_type": "code",
   "execution_count": 16,
   "id": "309c390c-183b-47e3-a3d5-7fd24ea5c75a",
   "metadata": {},
   "outputs": [
    {
     "data": {
      "text/plain": [
       "[array([[3, 4, 5]]), array([[12, 13, 14]]), array([[20, 21, 22]])]"
      ]
     },
     "execution_count": 16,
     "metadata": {},
     "output_type": "execute_result"
    }
   ],
   "source": [
    "np.vsplit(array, (3))"
   ]
  },
  {
   "cell_type": "code",
   "execution_count": 18,
   "id": "0bc5e95e-e665-4d83-9bd8-d7a18ebe8ec0",
   "metadata": {},
   "outputs": [
    {
     "data": {
      "text/plain": [
       "\u001b[1;31mSignature:\u001b[0m       \u001b[0mnp\u001b[0m\u001b[1;33m.\u001b[0m\u001b[0mvsplit\u001b[0m\u001b[1;33m(\u001b[0m\u001b[0mary\u001b[0m\u001b[1;33m,\u001b[0m \u001b[0mindices_or_sections\u001b[0m\u001b[1;33m)\u001b[0m\u001b[1;33m\u001b[0m\u001b[1;33m\u001b[0m\u001b[0m\n",
       "\u001b[1;31mCall signature:\u001b[0m  \u001b[0mnp\u001b[0m\u001b[1;33m.\u001b[0m\u001b[0mvsplit\u001b[0m\u001b[1;33m(\u001b[0m\u001b[1;33m*\u001b[0m\u001b[0margs\u001b[0m\u001b[1;33m,\u001b[0m \u001b[1;33m**\u001b[0m\u001b[0mkwargs\u001b[0m\u001b[1;33m)\u001b[0m\u001b[1;33m\u001b[0m\u001b[1;33m\u001b[0m\u001b[0m\n",
       "\u001b[1;31mType:\u001b[0m            _ArrayFunctionDispatcher\n",
       "\u001b[1;31mString form:\u001b[0m     <function vsplit at 0x0000023C465B79C0>\n",
       "\u001b[1;31mFile:\u001b[0m            c:\\users\\mrs. ilemobayo\\anaconda3\\lib\\site-packages\\numpy\\lib\\shape_base.py\n",
       "\u001b[1;31mDocstring:\u001b[0m      \n",
       "Split an array into multiple sub-arrays vertically (row-wise).\n",
       "\n",
       "Please refer to the ``split`` documentation.  ``vsplit`` is equivalent\n",
       "to ``split`` with `axis=0` (default), the array is always split along the\n",
       "first axis regardless of the array dimension.\n",
       "\n",
       "See Also\n",
       "--------\n",
       "split : Split an array into multiple sub-arrays of equal size.\n",
       "\n",
       "Examples\n",
       "--------\n",
       ">>> x = np.arange(16.0).reshape(4, 4)\n",
       ">>> x\n",
       "array([[ 0.,   1.,   2.,   3.],\n",
       "       [ 4.,   5.,   6.,   7.],\n",
       "       [ 8.,   9.,  10.,  11.],\n",
       "       [12.,  13.,  14.,  15.]])\n",
       ">>> np.vsplit(x, 2)\n",
       "[array([[0., 1., 2., 3.],\n",
       "       [4., 5., 6., 7.]]), array([[ 8.,  9., 10., 11.],\n",
       "       [12., 13., 14., 15.]])]\n",
       ">>> np.vsplit(x, np.array([3, 6]))\n",
       "[array([[ 0.,  1.,  2.,  3.],\n",
       "       [ 4.,  5.,  6.,  7.],\n",
       "       [ 8.,  9., 10., 11.]]), array([[12., 13., 14., 15.]]), array([], shape=(0, 4), dtype=float64)]\n",
       "\n",
       "With a higher dimensional array the split is still along the first axis.\n",
       "\n",
       ">>> x = np.arange(8.0).reshape(2, 2, 2)\n",
       ">>> x\n",
       "array([[[0.,  1.],\n",
       "        [2.,  3.]],\n",
       "       [[4.,  5.],\n",
       "        [6.,  7.]]])\n",
       ">>> np.vsplit(x, 2)\n",
       "[array([[[0., 1.],\n",
       "        [2., 3.]]]), array([[[4., 5.],\n",
       "        [6., 7.]]])]\n",
       "\u001b[1;31mClass docstring:\u001b[0m\n",
       "Class to wrap functions with checks for __array_function__ overrides.\n",
       "\n",
       "All arguments are required, and can only be passed by position.\n",
       "\n",
       "Parameters\n",
       "----------\n",
       "dispatcher : function or None\n",
       "    The dispatcher function that returns a single sequence-like object\n",
       "    of all arguments relevant.  It must have the same signature (except\n",
       "    the default values) as the actual implementation.\n",
       "    If ``None``, this is a ``like=`` dispatcher and the\n",
       "    ``_ArrayFunctionDispatcher`` must be called with ``like`` as the\n",
       "    first (additional and positional) argument.\n",
       "implementation : function\n",
       "    Function that implements the operation on NumPy arrays without\n",
       "    overrides.  Arguments passed calling the ``_ArrayFunctionDispatcher``\n",
       "    will be forwarded to this (and the ``dispatcher``) as if using\n",
       "    ``*args, **kwargs``.\n",
       "\n",
       "Attributes\n",
       "----------\n",
       "_implementation : function\n",
       "    The original implementation passed in."
      ]
     },
     "metadata": {},
     "output_type": "display_data"
    }
   ],
   "source": [
    "np.vsplit?"
   ]
  },
  {
   "cell_type": "code",
   "execution_count": 22,
   "id": "bf0aa693-6fcd-45fb-b6b7-54e1a9687e8d",
   "metadata": {},
   "outputs": [
    {
     "data": {
      "text/plain": [
       "\u001b[1;31mSignature:\u001b[0m       \u001b[0mnp\u001b[0m\u001b[1;33m.\u001b[0m\u001b[0msplit\u001b[0m\u001b[1;33m(\u001b[0m\u001b[0mary\u001b[0m\u001b[1;33m,\u001b[0m \u001b[0mindices_or_sections\u001b[0m\u001b[1;33m,\u001b[0m \u001b[0maxis\u001b[0m\u001b[1;33m=\u001b[0m\u001b[1;36m0\u001b[0m\u001b[1;33m)\u001b[0m\u001b[1;33m\u001b[0m\u001b[1;33m\u001b[0m\u001b[0m\n",
       "\u001b[1;31mCall signature:\u001b[0m  \u001b[0mnp\u001b[0m\u001b[1;33m.\u001b[0m\u001b[0msplit\u001b[0m\u001b[1;33m(\u001b[0m\u001b[1;33m*\u001b[0m\u001b[0margs\u001b[0m\u001b[1;33m,\u001b[0m \u001b[1;33m**\u001b[0m\u001b[0mkwargs\u001b[0m\u001b[1;33m)\u001b[0m\u001b[1;33m\u001b[0m\u001b[1;33m\u001b[0m\u001b[0m\n",
       "\u001b[1;31mType:\u001b[0m            _ArrayFunctionDispatcher\n",
       "\u001b[1;31mString form:\u001b[0m     <function split at 0x0000023C465B77E0>\n",
       "\u001b[1;31mFile:\u001b[0m            c:\\users\\mrs. ilemobayo\\anaconda3\\lib\\site-packages\\numpy\\lib\\shape_base.py\n",
       "\u001b[1;31mDocstring:\u001b[0m      \n",
       "Split an array into multiple sub-arrays as views into `ary`.\n",
       "\n",
       "Parameters\n",
       "----------\n",
       "ary : ndarray\n",
       "    Array to be divided into sub-arrays.\n",
       "indices_or_sections : int or 1-D array\n",
       "    If `indices_or_sections` is an integer, N, the array will be divided\n",
       "    into N equal arrays along `axis`.  If such a split is not possible,\n",
       "    an error is raised.\n",
       "\n",
       "    If `indices_or_sections` is a 1-D array of sorted integers, the entries\n",
       "    indicate where along `axis` the array is split.  For example,\n",
       "    ``[2, 3]`` would, for ``axis=0``, result in\n",
       "\n",
       "      - ary[:2]\n",
       "      - ary[2:3]\n",
       "      - ary[3:]\n",
       "\n",
       "    If an index exceeds the dimension of the array along `axis`,\n",
       "    an empty sub-array is returned correspondingly.\n",
       "axis : int, optional\n",
       "    The axis along which to split, default is 0.\n",
       "\n",
       "Returns\n",
       "-------\n",
       "sub-arrays : list of ndarrays\n",
       "    A list of sub-arrays as views into `ary`.\n",
       "\n",
       "Raises\n",
       "------\n",
       "ValueError\n",
       "    If `indices_or_sections` is given as an integer, but\n",
       "    a split does not result in equal division.\n",
       "\n",
       "See Also\n",
       "--------\n",
       "array_split : Split an array into multiple sub-arrays of equal or\n",
       "              near-equal size.  Does not raise an exception if\n",
       "              an equal division cannot be made.\n",
       "hsplit : Split array into multiple sub-arrays horizontally (column-wise).\n",
       "vsplit : Split array into multiple sub-arrays vertically (row wise).\n",
       "dsplit : Split array into multiple sub-arrays along the 3rd axis (depth).\n",
       "concatenate : Join a sequence of arrays along an existing axis.\n",
       "stack : Join a sequence of arrays along a new axis.\n",
       "hstack : Stack arrays in sequence horizontally (column wise).\n",
       "vstack : Stack arrays in sequence vertically (row wise).\n",
       "dstack : Stack arrays in sequence depth wise (along third dimension).\n",
       "\n",
       "Examples\n",
       "--------\n",
       ">>> x = np.arange(9.0)\n",
       ">>> np.split(x, 3)\n",
       "[array([0.,  1.,  2.]), array([3.,  4.,  5.]), array([6.,  7.,  8.])]\n",
       "\n",
       ">>> x = np.arange(8.0)\n",
       ">>> np.split(x, [3, 5, 6, 10])\n",
       "[array([0.,  1.,  2.]),\n",
       " array([3.,  4.]),\n",
       " array([5.]),\n",
       " array([6.,  7.]),\n",
       " array([], dtype=float64)]\n",
       "\u001b[1;31mClass docstring:\u001b[0m\n",
       "Class to wrap functions with checks for __array_function__ overrides.\n",
       "\n",
       "All arguments are required, and can only be passed by position.\n",
       "\n",
       "Parameters\n",
       "----------\n",
       "dispatcher : function or None\n",
       "    The dispatcher function that returns a single sequence-like object\n",
       "    of all arguments relevant.  It must have the same signature (except\n",
       "    the default values) as the actual implementation.\n",
       "    If ``None``, this is a ``like=`` dispatcher and the\n",
       "    ``_ArrayFunctionDispatcher`` must be called with ``like`` as the\n",
       "    first (additional and positional) argument.\n",
       "implementation : function\n",
       "    Function that implements the operation on NumPy arrays without\n",
       "    overrides.  Arguments passed calling the ``_ArrayFunctionDispatcher``\n",
       "    will be forwarded to this (and the ``dispatcher``) as if using\n",
       "    ``*args, **kwargs``.\n",
       "\n",
       "Attributes\n",
       "----------\n",
       "_implementation : function\n",
       "    The original implementation passed in."
      ]
     },
     "metadata": {},
     "output_type": "display_data"
    }
   ],
   "source": [
    "np.split?"
   ]
  },
  {
   "cell_type": "code",
   "execution_count": 3,
   "id": "65654bb9-266e-48f8-b5b0-0362801ef701",
   "metadata": {},
   "outputs": [
    {
     "name": "stdout",
     "output_type": "stream",
     "text": [
      "[51 92 14 71 60 20 82 86 74 74]\n"
     ]
    }
   ],
   "source": [
    "# Fancy Indexing\n",
    "\n",
    "rand = np.random.RandomState(42)\n",
    "x = rand.randint(100, size = 10)\n",
    "print(x)"
   ]
  },
  {
   "cell_type": "code",
   "execution_count": 4,
   "id": "3de20c57-5970-4ac4-a381-b30ec6c11f10",
   "metadata": {},
   "outputs": [
    {
     "data": {
      "text/plain": [
       "[71, 86, 14]"
      ]
     },
     "execution_count": 4,
     "metadata": {},
     "output_type": "execute_result"
    }
   ],
   "source": [
    "# Fancy Indexing can be done by either passing  an array of the indices of the elements.\n",
    "[x[3], x[7], x[2]]"
   ]
  },
  {
   "cell_type": "code",
   "execution_count": 5,
   "id": "e47b7c50-c277-4d89-a9c1-487cfb631129",
   "metadata": {},
   "outputs": [
    {
     "data": {
      "text/plain": [
       "array([71, 86, 14])"
      ]
     },
     "execution_count": 5,
     "metadata": {},
     "output_type": "execute_result"
    }
   ],
   "source": [
    "# Or pass a list containing the indeces of the specific elements needed.\n",
    "ind = [3, 7, 2]\n",
    "x[ind]"
   ]
  },
  {
   "cell_type": "code",
   "execution_count": 4,
   "id": "3531ffe8-74eb-44bc-a05f-46eb79bac2fb",
   "metadata": {},
   "outputs": [
    {
     "data": {
      "text/plain": [
       "array([[71, 60],\n",
       "       [60, 20]])"
      ]
     },
     "execution_count": 4,
     "metadata": {},
     "output_type": "execute_result"
    }
   ],
   "source": [
    "# Using fancy indexing the shape of the final array is based on the shape of the array passed \n",
    "# not on the shape of the original arrayabs\n",
    "\n",
    "ind = np.array([[3, 4],\n",
    "               [4, 5]])\n",
    "x[ind]"
   ]
  },
  {
   "cell_type": "code",
   "execution_count": 6,
   "id": "f1f20e5d-71b4-4f50-960e-5869eac62f13",
   "metadata": {},
   "outputs": [
    {
     "data": {
      "text/plain": [
       "array([[ 0,  1,  2,  3],\n",
       "       [ 4,  5,  6,  7],\n",
       "       [ 8,  9, 10, 11]])"
      ]
     },
     "execution_count": 6,
     "metadata": {},
     "output_type": "execute_result"
    }
   ],
   "source": [
    "# Fancy indexing for a multidimensional array.\n",
    "\n",
    "x = np.arange(12).reshape((3, 4))\n",
    "x"
   ]
  },
  {
   "cell_type": "code",
   "execution_count": 9,
   "id": "3a646e93-92bd-483f-b591-b755367df2bf",
   "metadata": {},
   "outputs": [
    {
     "data": {
      "text/plain": [
       "array([ 2,  5, 11])"
      ]
     },
     "execution_count": 9,
     "metadata": {},
     "output_type": "execute_result"
    }
   ],
   "source": [
    "row = np.array([0, 1, 2])\n",
    "col = np.array([2, 1, 3])\n",
    "x[row, col]"
   ]
  },
  {
   "cell_type": "code",
   "execution_count": 10,
   "id": "93aff833-718b-4e82-9253-491e8d2c5e1a",
   "metadata": {},
   "outputs": [
    {
     "data": {
      "text/plain": [
       "array([[ 2,  1,  3],\n",
       "       [ 6,  5,  7],\n",
       "       [10,  9, 11]])"
      ]
     },
     "execution_count": 10,
     "metadata": {},
     "output_type": "execute_result"
    }
   ],
   "source": [
    "x[row[:, np.newaxis], column]"
   ]
  },
  {
   "cell_type": "code",
   "execution_count": 11,
   "id": "f3113f3d-546c-482b-b298-5e2a5c23d966",
   "metadata": {},
   "outputs": [
    {
     "name": "stdout",
     "output_type": "stream",
     "text": [
      "[[ 0  1  2  3]\n",
      " [ 4  5  6  7]\n",
      " [ 8  9 10 11]]\n"
     ]
    }
   ],
   "source": [
    "print(x)"
   ]
  },
  {
   "cell_type": "code",
   "execution_count": 13,
   "id": "cf42f3e5-ae87-4ed2-9735-057069cfc55e",
   "metadata": {},
   "outputs": [
    {
     "data": {
      "text/plain": [
       "array([10,  8,  9])"
      ]
     },
     "execution_count": 13,
     "metadata": {},
     "output_type": "execute_result"
    }
   ],
   "source": [
    "# Extracting elements from a specific row using combined indexing\n",
    "x[2, [2, 0, 1]]"
   ]
  },
  {
   "cell_type": "code",
   "execution_count": 14,
   "id": "5873d996-01e8-4ec3-a142-9715e561dcdc",
   "metadata": {},
   "outputs": [
    {
     "data": {
      "text/plain": [
       "array([[ 6,  4,  5],\n",
       "       [10,  8,  9]])"
      ]
     },
     "execution_count": 14,
     "metadata": {},
     "output_type": "execute_result"
    }
   ],
   "source": [
    "x[1:, [2, 0, 1]]"
   ]
  },
  {
   "cell_type": "code",
   "execution_count": 15,
   "id": "83c988ad-0ca4-429b-a249-3de76d7787fb",
   "metadata": {},
   "outputs": [],
   "source": [
    "# Selecting Random Points"
   ]
  },
  {
   "cell_type": "code",
   "execution_count": 17,
   "id": "5c7b430f-2256-4df4-ba82-91cba83b4f6f",
   "metadata": {},
   "outputs": [
    {
     "data": {
      "text/plain": [
       "(100, 2)"
      ]
     },
     "execution_count": 17,
     "metadata": {},
     "output_type": "execute_result"
    }
   ],
   "source": [
    "mean = [0, 0]\n",
    "cov = [[1, 2],\n",
    "       [2, 5]]\n",
    "X = rand.multivariate_normal(mean, cov, 100)\n",
    "X.shape"
   ]
  },
  {
   "cell_type": "code",
   "execution_count": 26,
   "id": "6f3d0a58-9fb3-4814-b35a-8abcfc7f0c56",
   "metadata": {},
   "outputs": [
    {
     "data": {
      "image/png": "[encoded data removed]",
      "text/plain": [
       "<Figure size 640x480 with 1 Axes>"
      ]
     },
     "metadata": {},
     "output_type": "display_data"
    }
   ],
   "source": [
    "%matplotlib inline\n",
    "import matplotlib.pyplot as plt\n",
    "import seaborn; seaborn.set() # for plot styling\n",
    "plt.scatter(X[:, 0], X[:, 1])\n",
    "plt.show()"
   ]
  }
 ],
 "metadata": {
  "kernelspec": {
   "display_name": "Python 3 (ipykernel)",
   "language": "python",
   "name": "python3"
  },
  "language_info": {
   "codemirror_mode": {
    "name": "ipython",
    "version": 3
   },
   "file_extension": ".py",
   "mimetype": "text/x-python",
   "name": "python",
   "nbconvert_exporter": "python",
   "pygments_lexer": "ipython3",
   "version": "3.12.7"
  }
 },
 "nbformat": 4,
 "nbformat_minor": 5
}
