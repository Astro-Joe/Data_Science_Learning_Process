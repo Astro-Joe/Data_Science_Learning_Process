{
 "cells": [
  {
   "cell_type": "code",
   "execution_count": 4,
   "id": "a2c3e337",
   "metadata": {},
   "outputs": [],
   "source": [
    "import numpy as np"
   ]
  },
  {
   "cell_type": "code",
   "execution_count": 21,
   "id": "320d9b08",
   "metadata": {},
   "outputs": [],
   "source": [
    "# np.random?\n",
    "# np.random.seed?\n",
    "np.random.seed(0) # seed for reproducibility.\n",
    "\n",
    "x1 = np.random.randint(10, size=6) # One-dimensional array (a 1x6 array)\n",
    "x2 = np.random.randint(10, size=(3,4)) # Two-Dimensional array (a 3x4 array)\n",
    "x3 = np.random.randint(10, size=(3, 4, 5)) # Three dimensional array (three of a 4x5 array)\n",
    "\n",
    "# 1x6 array means 1 row 6 columns"
   ]
  }
 ],
 "metadata": {
  "kernelspec": {
   "display_name": "Python 3 (ipykernel)",
   "language": "python",
   "name": "python3"
  },
  "language_info": {
   "codemirror_mode": {
    "name": "ipython",
    "version": 3
   },
   "file_extension": ".py",
   "mimetype": "text/x-python",
   "name": "python",
   "nbconvert_exporter": "python",
   "pygments_lexer": "ipython3",
   "version": "3.9.12"
  }
 },
 "nbformat": 4,
 "nbformat_minor": 5
}
