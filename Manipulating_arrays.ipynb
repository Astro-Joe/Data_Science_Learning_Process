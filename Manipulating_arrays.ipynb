{
 "cells": [
  {
   "cell_type": "code",
   "execution_count": 4,
   "id": "a2c3e337",
   "metadata": {},
   "outputs": [],
   "source": [
    "import numpy as np"
   ]
  },
  {
   "cell_type": "code",
   "execution_count": 21,
   "id": "320d9b08",
   "metadata": {},
   "outputs": [],
   "source": [
    "# np.random?\n",
    "# np.random.seed?\n",
    "np.random.seed(0) # seed for reproducibility.\n",
    "\n",
    "x1 = np.random.randint(10, size=6) # One-dimensional array (a 1x6 array)\n",
    "x2 = np.random.randint(10, size=(3,4)) # Two-Dimensional array (a 3x4 array)\n",
    "x3 = np.random.randint(10, size=(3, 4, 5)) # Three dimensional array (three of a 4x5 array)\n",
    "\n",
    "# 1x6 array means 1 row 6 columns"
   ]
  },
  {
   "cell_type": "code",
   "execution_count": 29,
   "id": "96464601",
   "metadata": {},
   "outputs": [],
   "source": [
    "# ATTRIBUTES OF AN ARRAY BELOW!!!"
   ]
  },
  {
   "cell_type": "code",
   "execution_count": 24,
   "id": "ec58e518",
   "metadata": {},
   "outputs": [
    {
     "name": "stdout",
     "output_type": "stream",
     "text": [
      "x3 ndim:  3\n",
      "x3 shape:  (3, 4, 5)\n",
      "x3 size:  60\n"
     ]
    }
   ],
   "source": [
    "print('x3 ndim: ', x3.ndim) # ndim -- Number of dimensions\n",
    "print('x3 shape: ', x3.shape) # shape -- The size of each dimension\n",
    "print('x3 size: ', x3.size) # size -- The total size of the array\n"
   ]
  },
  {
   "cell_type": "code",
   "execution_count": 25,
   "id": "6a9426d2",
   "metadata": {},
   "outputs": [
    {
     "name": "stdout",
     "output_type": "stream",
     "text": [
      "dtype: int32\n"
     ]
    }
   ],
   "source": [
    "print(\"dtype:\", x3.dtype) # dtype -- Data type of the array "
   ]
  },
  {
   "cell_type": "code",
   "execution_count": 26,
   "id": "dd2997f5",
   "metadata": {},
   "outputs": [
    {
     "name": "stdout",
     "output_type": "stream",
     "text": [
      "itemsize: 4 bytes\n",
      "nbytes: 240 bytes\n"
     ]
    }
   ],
   "source": [
    "print(\"itemsize:\", x3.itemsize, \"bytes\") # itemsize -- The size of each element in the array in bytes.\n",
    "print(\"nbytes:\", x3.nbytes, \"bytes\") # nbytes -- The total size of the whole array in bytes."
   ]
  },
  {
   "cell_type": "code",
   "execution_count": 28,
   "id": "94c97321",
   "metadata": {},
   "outputs": [],
   "source": [
    "# The size of the whole array can be said to be the product of the itemsize and size"
   ]
  },
  {
   "cell_type": "code",
   "execution_count": null,
   "id": "ca63dd8f",
   "metadata": {},
   "outputs": [],
   "source": [
    " # ARRAY INDEXING"
   ]
  },
  {
   "cell_type": "code",
   "execution_count": 30,
   "id": "9cb4747f",
   "metadata": {},
   "outputs": [
    {
     "data": {
      "text/plain": [
       "array([5, 0, 3, 3, 7, 9])"
      ]
     },
     "execution_count": 30,
     "metadata": {},
     "output_type": "execute_result"
    }
   ],
   "source": [
    "x1 # Indexing in a one dimensional array"
   ]
  },
  {
   "cell_type": "code",
   "execution_count": 32,
   "id": "99200fec",
   "metadata": {},
   "outputs": [
    {
     "data": {
      "text/plain": [
       "5"
      ]
     },
     "execution_count": 32,
     "metadata": {},
     "output_type": "execute_result"
    }
   ],
   "source": [
    "x1[0]"
   ]
  },
  {
   "cell_type": "code",
   "execution_count": 38,
   "id": "f57e45bb",
   "metadata": {},
   "outputs": [
    {
     "data": {
      "text/plain": [
       "7"
      ]
     },
     "execution_count": 38,
     "metadata": {},
     "output_type": "execute_result"
    }
   ],
   "source": [
    "x1[4]"
   ]
  },
  {
   "cell_type": "code",
   "execution_count": 39,
   "id": "eae86c89",
   "metadata": {},
   "outputs": [
    {
     "data": {
      "text/plain": [
       "9"
      ]
     },
     "execution_count": 39,
     "metadata": {},
     "output_type": "execute_result"
    }
   ],
   "source": [
    "x1[-1]"
   ]
  },
  {
   "cell_type": "code",
   "execution_count": 40,
   "id": "56b9260c",
   "metadata": {},
   "outputs": [
    {
     "data": {
      "text/plain": [
       "array([[3, 5, 2, 4],\n",
       "       [7, 6, 8, 8],\n",
       "       [1, 6, 7, 7]])"
      ]
     },
     "execution_count": 40,
     "metadata": {},
     "output_type": "execute_result"
    }
   ],
   "source": [
    "x2 # Indexing ina two dimensional array"
   ]
  },
  {
   "cell_type": "code",
   "execution_count": 41,
   "id": "1f3faa98",
   "metadata": {},
   "outputs": [
    {
     "data": {
      "text/plain": [
       "3"
      ]
     },
     "execution_count": 41,
     "metadata": {},
     "output_type": "execute_result"
    }
   ],
   "source": [
    "x2[0,0]"
   ]
  },
  {
   "cell_type": "code",
   "execution_count": null,
   "id": "dec6de19",
   "metadata": {},
   "outputs": [],
   "source": []
  }
 ],
 "metadata": {
  "kernelspec": {
   "display_name": "Python 3 (ipykernel)",
   "language": "python",
   "name": "python3"
  },
  "language_info": {
   "codemirror_mode": {
    "name": "ipython",
    "version": 3
   },
   "file_extension": ".py",
   "mimetype": "text/x-python",
   "name": "python",
   "nbconvert_exporter": "python",
   "pygments_lexer": "ipython3",
   "version": "3.9.12"
  }
 },
 "nbformat": 4,
 "nbformat_minor": 5
}
