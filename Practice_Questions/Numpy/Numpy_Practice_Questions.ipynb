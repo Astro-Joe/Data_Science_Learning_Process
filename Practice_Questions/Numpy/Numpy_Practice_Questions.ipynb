{
 "cells": [
  {
   "cell_type": "code",
   "execution_count": 3,
   "id": "ed533307-d0a1-47ac-89ef-e0a3c127dd8b",
   "metadata": {},
   "outputs": [
    {
     "name": "stdout",
     "output_type": "stream",
     "text": [
      "2.3.2\n"
     ]
    }
   ],
   "source": [
    "import numpy as np\n",
    "\n",
    "print(np.__version__)"
   ]
  },
  {
   "cell_type": "code",
   "execution_count": 43,
   "id": "69394c8b-3d57-46e2-b001-81c6b5fdbda3",
   "metadata": {},
   "outputs": [
    {
     "data": {
      "text/plain": [
       "array([0, 1, 2, 3, 4, 5, 6, 7, 8, 9])"
      ]
     },
     "execution_count": 43,
     "metadata": {},
     "output_type": "execute_result"
    }
   ],
   "source": [
    "arr = np.arange(10)\n",
    "arr"
   ]
  },
  {
   "cell_type": "code",
   "execution_count": 37,
   "id": "618a334a-fba4-4481-8e5c-4428d9bcfe59",
   "metadata": {},
   "outputs": [
    {
     "data": {
      "text/plain": [
       "array([[ True,  True,  True],\n",
       "       [ True,  True,  True],\n",
       "       [ True,  True,  True]])"
      ]
     },
     "execution_count": 37,
     "metadata": {},
     "output_type": "execute_result"
    }
   ],
   "source": [
    "array_1 = np.full((3,3), True, dtype=bool)\n",
    "array_1\n"
   ]
  },
  {
   "cell_type": "code",
   "execution_count": 36,
   "id": "33eb3d6e-d20e-431b-a104-f175f6e5c3c2",
   "metadata": {},
   "outputs": [
    {
     "data": {
      "text/plain": [
       "array([1, 3, 5, 7, 9])"
      ]
     },
     "execution_count": 36,
     "metadata": {},
     "output_type": "execute_result"
    }
   ],
   "source": [
    "arr_odd = arr[1::2]\n",
    "arr_odd"
   ]
  },
  {
   "cell_type": "code",
   "execution_count": 41,
   "id": "ae56091e-3761-4552-a5de-d21e6860bfee",
   "metadata": {},
   "outputs": [
    {
     "data": {
      "text/plain": [
       "array([ 0, -1,  2, -1,  4, -1,  6, -1,  8, -1])"
      ]
     },
     "execution_count": 41,
     "metadata": {},
     "output_type": "execute_result"
    }
   ],
   "source": [
    "# arr[arr%2 == 1] = -1\n",
    "arr[1::2] = -1\n",
    "arr"
   ]
  },
  {
   "cell_type": "code",
   "execution_count": 47,
   "id": "43c982eb-67b5-4965-9eee-b22b71720824",
   "metadata": {},
   "outputs": [
    {
     "name": "stdout",
     "output_type": "stream",
     "text": [
      "[ 0 -1  2 -1  4 -1  6 -1  8 -1]\n"
     ]
    },
    {
     "data": {
      "text/plain": [
       "array([0, 1, 2, 3, 4, 5, 6, 7, 8, 9])"
      ]
     },
     "execution_count": 47,
     "metadata": {},
     "output_type": "execute_result"
    }
   ],
   "source": [
    "arr_copy = arr.copy()\n",
    "arr_copy[1::2] = -1\n",
    "print(arr_copy)\n",
    "arr"
   ]
  },
  {
   "cell_type": "code",
   "execution_count": 50,
   "id": "abfde5b8-e3ec-4acb-b8d8-351a83a30e69",
   "metadata": {},
   "outputs": [
    {
     "data": {
      "text/plain": [
       "array([[0, 1, 2, 3, 4],\n",
       "       [5, 6, 7, 8, 9]])"
      ]
     },
     "execution_count": 50,
     "metadata": {},
     "output_type": "execute_result"
    }
   ],
   "source": [
    "# arr.reshape(2,5)\n",
    "arr.reshape(2, -1) # -1 automatically decides the number of columns "
   ]
  },
  {
   "cell_type": "code",
   "execution_count": 60,
   "id": "5188c972-da43-4c62-8a38-7b9a8fb2f063",
   "metadata": {},
   "outputs": [
    {
     "data": {
      "text/plain": [
       "array([[0, 1, 2, 3, 4],\n",
       "       [5, 6, 7, 8, 9],\n",
       "       [1, 1, 1, 1, 1],\n",
       "       [1, 1, 1, 1, 1]])"
      ]
     },
     "execution_count": 60,
     "metadata": {},
     "output_type": "execute_result"
    }
   ],
   "source": [
    "a = np.arange(10).reshape(2,-1)\n",
    "b = np.repeat(1, 10).reshape(2,-1)\n",
    "np.concatenate([a,b])\n"
   ]
  },
  {
   "cell_type": "code",
   "execution_count": 61,
   "id": "8ee85497-8f83-4a55-b48b-640584a165f9",
   "metadata": {},
   "outputs": [
    {
     "data": {
      "text/plain": [
       "array([[0, 1, 2, 3, 4, 1, 1, 1, 1, 1],\n",
       "       [5, 6, 7, 8, 9, 1, 1, 1, 1, 1]])"
      ]
     },
     "execution_count": 61,
     "metadata": {},
     "output_type": "execute_result"
    }
   ],
   "source": [
    "np.hstack([a,b])"
   ]
  },
  {
   "cell_type": "code",
   "execution_count": 84,
   "id": "a50a3c72-798a-40db-ace5-e443718cd70a",
   "metadata": {},
   "outputs": [
    {
     "data": {
      "text/plain": [
       "array([1, 1, 1, 2, 2, 2, 3, 3, 3, 1, 2, 3, 1, 2, 3, 1, 2, 3])"
      ]
     },
     "execution_count": 84,
     "metadata": {},
     "output_type": "execute_result"
    }
   ],
   "source": [
    "a = np.array([1,2,3])\n",
    "np.r_[np.repeat(a,3), np.tile(a,3)]"
   ]
  },
  {
   "cell_type": "code",
   "execution_count": 97,
   "id": "7ec107b3-f2e5-4c41-9b7f-29d3569a3902",
   "metadata": {},
   "outputs": [
    {
     "data": {
      "text/plain": [
       "array([1, 2, 3, 4])"
      ]
     },
     "execution_count": 97,
     "metadata": {},
     "output_type": "execute_result"
    }
   ],
   "source": [
    "a = np.array([1,2,3,4,5])\n",
    "b = np.array([5,6,7,8,9])\n",
    "\n",
    "# From 'a' remove all of 'b'\n",
    "np.setdiff1d(a, b)"
   ]
  },
  {
   "cell_type": "code",
   "execution_count": 99,
   "id": "ac8d7f5c-4cba-4d41-ad09-18a71d7ceef9",
   "metadata": {},
   "outputs": [
    {
     "data": {
      "text/plain": [
       "(array([1, 3, 5, 7]),)"
      ]
     },
     "execution_count": 99,
     "metadata": {},
     "output_type": "execute_result"
    }
   ],
   "source": [
    "a = np.array([1,2,3,2,3,4,3,4,5,6])\n",
    "b = np.array([7,2,10,2,7,4,9,4,9,8])\n",
    "\n",
    "# Returns elements by comparing a to b\n",
    "np.where(a == b) "
   ]
  },
  {
   "cell_type": "code",
   "execution_count": 115,
   "id": "53765abf-3b93-4068-9657-6db08c3498dd",
   "metadata": {},
   "outputs": [
    {
     "data": {
      "text/plain": [
       "array([ 6,  9, 10])"
      ]
     },
     "execution_count": 115,
     "metadata": {},
     "output_type": "execute_result"
    }
   ],
   "source": [
    "# Printin out elements in the array between 5 and 10\n",
    "\n",
    "a = np.array([2, 6, 1, 9, 10, 3, 27]) \n",
    "index = np.where((a >= 5) & (a <= 10))\n",
    "a[index]"
   ]
  },
  {
   "cell_type": "code",
   "execution_count": 116,
   "id": "083efbc6-4121-4392-99d6-598870bb81bd",
   "metadata": {},
   "outputs": [
    {
     "data": {
      "text/plain": [
       "array([[6, 7, 8],\n",
       "       [3, 4, 5],\n",
       "       [0, 1, 2]])"
      ]
     },
     "execution_count": 116,
     "metadata": {},
     "output_type": "execute_result"
    }
   ],
   "source": [
    "# Reversing the rows of a 2d array\n",
    "\n",
    "arr = np.arange(9).reshape(3,3)\n",
    "arr[::-1]"
   ]
  },
  {
   "cell_type": "code",
   "execution_count": 117,
   "id": "a10f2bf9-370b-44e1-8596-6aef3016c548",
   "metadata": {},
   "outputs": [
    {
     "data": {
      "text/plain": [
       "array([[2, 1, 0],\n",
       "       [5, 4, 3],\n",
       "       [8, 7, 6]])"
      ]
     },
     "execution_count": 117,
     "metadata": {},
     "output_type": "execute_result"
    }
   ],
   "source": [
    "# Reversing the columns of a 2d array \n",
    "\n",
    "arr[:, ::-1]"
   ]
  },
  {
   "cell_type": "code",
   "execution_count": 123,
   "id": "c881c879-3961-4698-8927-895658f28de4",
   "metadata": {},
   "outputs": [
    {
     "data": {
      "text/plain": [
       "array([[5.47009746, 7.57871893, 6.93354436],\n",
       "       [7.2901424 , 6.32804078, 8.18423904],\n",
       "       [7.04879823, 5.22588155, 8.85460759],\n",
       "       [7.76887908, 6.3744401 , 7.20918978],\n",
       "       [5.97756339, 7.01879372, 8.51483174]])"
      ]
     },
     "execution_count": 123,
     "metadata": {},
     "output_type": "execute_result"
    }
   ],
   "source": [
    "# Produces an array of floats betweena particular range and array size\n",
    "\n",
    "np.random.uniform(5, 10, size=(5,3))"
   ]
  },
  {
   "cell_type": "code",
   "execution_count": 137,
   "id": "92cfc701-c2d6-4172-91ba-6ee726c289b1",
   "metadata": {},
   "outputs": [
    {
     "data": {
      "text/plain": [
       "array([[0.796, 0.792, 0.136],\n",
       "       [0.73 , 0.297, 0.019],\n",
       "       [0.442, 0.024, 0.513],\n",
       "       [0.075, 0.685, 0.936],\n",
       "       [0.659, 0.647, 0.015]])"
      ]
     },
     "execution_count": 137,
     "metadata": {},
     "output_type": "execute_result"
    }
   ],
   "source": [
    "# Round elements of an array to 3 decimal places \n",
    "# rand_arr = np.random.random((5,3)).round(3)\n",
    "\n",
    "rand_arr = np.random.random((5,3))\n",
    "np.set_printoptions(precision= 3)\n",
    "rand_arr"
   ]
  },
  {
   "cell_type": "code",
   "execution_count": 133,
   "id": "b748bd1a-15f8-4a41-ad38-c902df3af989",
   "metadata": {
    "collapsed": true,
    "jupyter": {
     "outputs_hidden": true
    }
   },
   "outputs": [
    {
     "data": {
      "text/plain": [
       "\u001b[31mSignature:\u001b[39m\n",
       "np.set_printoptions(\n",
       "    precision=\u001b[38;5;28;01mNone\u001b[39;00m,\n",
       "    threshold=\u001b[38;5;28;01mNone\u001b[39;00m,\n",
       "    edgeitems=\u001b[38;5;28;01mNone\u001b[39;00m,\n",
       "    linewidth=\u001b[38;5;28;01mNone\u001b[39;00m,\n",
       "    suppress=\u001b[38;5;28;01mNone\u001b[39;00m,\n",
       "    nanstr=\u001b[38;5;28;01mNone\u001b[39;00m,\n",
       "    infstr=\u001b[38;5;28;01mNone\u001b[39;00m,\n",
       "    formatter=\u001b[38;5;28;01mNone\u001b[39;00m,\n",
       "    sign=\u001b[38;5;28;01mNone\u001b[39;00m,\n",
       "    floatmode=\u001b[38;5;28;01mNone\u001b[39;00m,\n",
       "    *,\n",
       "    legacy=\u001b[38;5;28;01mNone\u001b[39;00m,\n",
       "    override_repr=\u001b[38;5;28;01mNone\u001b[39;00m,\n",
       ")\n",
       "\u001b[31mDocstring:\u001b[39m\n",
       "Set printing options.\n",
       "\n",
       "These options determine the way floating point numbers, arrays and\n",
       "other NumPy objects are displayed.\n",
       "\n",
       "Parameters\n",
       "----------\n",
       "precision : int or None, optional\n",
       "    Number of digits of precision for floating point output (default 8).\n",
       "    May be None if `floatmode` is not `fixed`, to print as many digits as\n",
       "    necessary to uniquely specify the value.\n",
       "threshold : int, optional\n",
       "    Total number of array elements which trigger summarization\n",
       "    rather than full repr (default 1000).\n",
       "    To always use the full repr without summarization, pass `sys.maxsize`.\n",
       "edgeitems : int, optional\n",
       "    Number of array items in summary at beginning and end of\n",
       "    each dimension (default 3).\n",
       "linewidth : int, optional\n",
       "    The number of characters per line for the purpose of inserting\n",
       "    line breaks (default 75).\n",
       "suppress : bool, optional\n",
       "    If True, always print floating point numbers using fixed point\n",
       "    notation, in which case numbers equal to zero in the current precision\n",
       "    will print as zero.  If False, then scientific notation is used when\n",
       "    absolute value of the smallest number is < 1e-4 or the ratio of the\n",
       "    maximum absolute value to the minimum is > 1e3. The default is False.\n",
       "nanstr : str, optional\n",
       "    String representation of floating point not-a-number (default nan).\n",
       "infstr : str, optional\n",
       "    String representation of floating point infinity (default inf).\n",
       "sign : string, either '-', '+', or ' ', optional\n",
       "    Controls printing of the sign of floating-point types. If '+', always\n",
       "    print the sign of positive values. If ' ', always prints a space\n",
       "    (whitespace character) in the sign position of positive values.  If\n",
       "    '-', omit the sign character of positive values. (default '-')\n",
       "\n",
       "    .. versionchanged:: 2.0\n",
       "         The sign parameter can now be an integer type, previously\n",
       "         types were floating-point types.\n",
       "\n",
       "formatter : dict of callables, optional\n",
       "    If not None, the keys should indicate the type(s) that the respective\n",
       "    formatting function applies to.  Callables should return a string.\n",
       "    Types that are not specified (by their corresponding keys) are handled\n",
       "    by the default formatters.  Individual types for which a formatter\n",
       "    can be set are:\n",
       "\n",
       "    - 'bool'\n",
       "    - 'int'\n",
       "    - 'timedelta' : a `numpy.timedelta64`\n",
       "    - 'datetime' : a `numpy.datetime64`\n",
       "    - 'float'\n",
       "    - 'longfloat' : 128-bit floats\n",
       "    - 'complexfloat'\n",
       "    - 'longcomplexfloat' : composed of two 128-bit floats\n",
       "    - 'numpystr' : types `numpy.bytes_` and `numpy.str_`\n",
       "    - 'object' : `np.object_` arrays\n",
       "\n",
       "    Other keys that can be used to set a group of types at once are:\n",
       "\n",
       "    - 'all' : sets all types\n",
       "    - 'int_kind' : sets 'int'\n",
       "    - 'float_kind' : sets 'float' and 'longfloat'\n",
       "    - 'complex_kind' : sets 'complexfloat' and 'longcomplexfloat'\n",
       "    - 'str_kind' : sets 'numpystr'\n",
       "floatmode : str, optional\n",
       "    Controls the interpretation of the `precision` option for\n",
       "    floating-point types. Can take the following values\n",
       "    (default maxprec_equal):\n",
       "\n",
       "    * 'fixed': Always print exactly `precision` fractional digits,\n",
       "            even if this would print more or fewer digits than\n",
       "            necessary to specify the value uniquely.\n",
       "    * 'unique': Print the minimum number of fractional digits necessary\n",
       "            to represent each value uniquely. Different elements may\n",
       "            have a different number of digits. The value of the\n",
       "            `precision` option is ignored.\n",
       "    * 'maxprec': Print at most `precision` fractional digits, but if\n",
       "            an element can be uniquely represented with fewer digits\n",
       "            only print it with that many.\n",
       "    * 'maxprec_equal': Print at most `precision` fractional digits,\n",
       "            but if every element in the array can be uniquely\n",
       "            represented with an equal number of fewer digits, use that\n",
       "            many digits for all elements.\n",
       "legacy : string or `False`, optional\n",
       "    If set to the string ``'1.13'`` enables 1.13 legacy printing mode. This\n",
       "    approximates numpy 1.13 print output by including a space in the sign\n",
       "    position of floats and different behavior for 0d arrays. This also\n",
       "    enables 1.21 legacy printing mode (described below).\n",
       "\n",
       "    If set to the string ``'1.21'`` enables 1.21 legacy printing mode. This\n",
       "    approximates numpy 1.21 print output of complex structured dtypes\n",
       "    by not inserting spaces after commas that separate fields and after\n",
       "    colons.\n",
       "\n",
       "    If set to ``'1.25'`` approximates printing of 1.25 which mainly means\n",
       "    that numeric scalars are printed without their type information, e.g.\n",
       "    as ``3.0`` rather than ``np.float64(3.0)``.\n",
       "\n",
       "    If set to ``'2.1'``, shape information is not given when arrays are\n",
       "    summarized (i.e., multiple elements replaced with ``...``).\n",
       "\n",
       "    If set to ``'2.2'``, the transition to use scientific notation for\n",
       "    printing ``np.float16`` and ``np.float32`` types may happen later or\n",
       "    not at all for larger values.\n",
       "\n",
       "    If set to `False`, disables legacy mode.\n",
       "\n",
       "    Unrecognized strings will be ignored with a warning for forward\n",
       "    compatibility.\n",
       "\n",
       "    .. versionchanged:: 1.22.0\n",
       "    .. versionchanged:: 2.2\n",
       "\n",
       "override_repr: callable, optional\n",
       "    If set a passed function will be used for generating arrays' repr.\n",
       "    Other options will be ignored.\n",
       "\n",
       "See Also\n",
       "--------\n",
       "get_printoptions, printoptions, array2string\n",
       "\n",
       "Notes\n",
       "-----\n",
       "`formatter` is always reset with a call to `set_printoptions`.\n",
       "\n",
       "Use `printoptions` as a context manager to set the values temporarily.\n",
       "\n",
       "Examples\n",
       "--------\n",
       "Floating point precision can be set:\n",
       "\n",
       ">>> import numpy as np\n",
       ">>> np.set_printoptions(precision=4)\n",
       ">>> np.array([1.123456789])\n",
       "[1.1235]\n",
       "\n",
       "Long arrays can be summarised:\n",
       "\n",
       ">>> np.set_printoptions(threshold=5)\n",
       ">>> np.arange(10)\n",
       "array([0, 1, 2, ..., 7, 8, 9], shape=(10,))\n",
       "\n",
       "Small results can be suppressed:\n",
       "\n",
       ">>> eps = np.finfo(float).eps\n",
       ">>> x = np.arange(4.)\n",
       ">>> x**2 - (x + eps)**2\n",
       "array([-4.9304e-32, -4.4409e-16,  0.0000e+00,  0.0000e+00])\n",
       ">>> np.set_printoptions(suppress=True)\n",
       ">>> x**2 - (x + eps)**2\n",
       "array([-0., -0.,  0.,  0.])\n",
       "\n",
       "A custom formatter can be used to display array elements as desired:\n",
       "\n",
       ">>> np.set_printoptions(formatter={'all':lambda x: 'int: '+str(-x)})\n",
       ">>> x = np.arange(3)\n",
       ">>> x\n",
       "array([int: 0, int: -1, int: -2])\n",
       ">>> np.set_printoptions()  # formatter gets reset\n",
       ">>> x\n",
       "array([0, 1, 2])\n",
       "\n",
       "To put back the default options, you can use:\n",
       "\n",
       ">>> np.set_printoptions(edgeitems=3, infstr='inf',\n",
       "... linewidth=75, nanstr='nan', precision=8,\n",
       "... suppress=False, threshold=1000, formatter=None)\n",
       "\n",
       "Also to temporarily override options, use `printoptions`\n",
       "as a context manager:\n",
       "\n",
       ">>> with np.printoptions(precision=2, suppress=True, threshold=5):\n",
       "...     np.linspace(0, 10, 10)\n",
       "array([ 0.  ,  1.11,  2.22, ...,  7.78,  8.89, 10.  ], shape=(10,))\n",
       "\u001b[31mFile:\u001b[39m      c:\\users\\temp. user\\appdata\\local\\programs\\python\\python313\\lib\\site-packages\\numpy\\_core\\arrayprint.py\n",
       "\u001b[31mType:\u001b[39m      function"
      ]
     },
     "metadata": {},
     "output_type": "display_data"
    }
   ],
   "source": [
    "# Determines the way floating point numberes, arrays, and other Numpy objects \n",
    "# are displayed\n",
    "\n",
    "np.set_printoptions?"
   ]
  },
  {
   "cell_type": "code",
   "execution_count": 29,
   "id": "04e8208a-8de6-4a5e-8c46-4ef1a666bd2c",
   "metadata": {},
   "outputs": [
    {
     "data": {
      "text/plain": [
       "array([[0.0005434049, 0.0002783694, 0.0004245176],\n",
       "       [0.0008447761, 0.0000047189, 0.0001215691],\n",
       "       [0.0006707491, 0.0008258528, 0.0001367066]])"
      ]
     },
     "execution_count": 29,
     "metadata": {},
     "output_type": "execute_result"
    }
   ],
   "source": [
    "np.random.seed(100)\n",
    "rand_arr = np.random.random([3,3])/1e3\n",
    "np.set_printoptions(suppress=True, precision=10)\n",
    "rand_arr"
   ]
  },
  {
   "cell_type": "code",
   "execution_count": 38,
   "id": "ffd1f2a5-a036-49d7-a75e-119fec2757fb",
   "metadata": {},
   "outputs": [
    {
     "data": {
      "text/plain": [
       "array([ 6,  9, 10])"
      ]
     },
     "execution_count": 38,
     "metadata": {},
     "output_type": "execute_result"
    }
   ],
   "source": [
    "a = np.array([2, 6, 1, 9, 10, 3, 27])\n",
    "index = np.where(np.logical_and(a >= 5, a <= 10))\n",
    "# np.where() - returns the index of elements that satisfies a condition.a\n",
    "# np.logical_and - &\n",
    "a[index]\n",
    "        \n",
    "        "
   ]
  },
  {
   "cell_type": "code",
   "execution_count": 50,
   "id": "23412c9e-a2e7-446a-878f-ad934cfbf3c9",
   "metadata": {},
   "outputs": [
    {
     "data": {
      "text/plain": [
       "array([6., 7., 9., 8., 9., 7., 5.])"
      ]
     },
     "execution_count": 50,
     "metadata": {},
     "output_type": "execute_result"
    }
   ],
   "source": [
    "def maxx(x, y):\n",
    "    \"\"\"Get the max of two items\"\"\"\n",
    "    if x >= y:\n",
    "        return x\n",
    "    else: \n",
    "        return y\n",
    "\n",
    "a = np.array([5,7,9,8,6,4,5])\n",
    "b = np.array([6,3,4,8,9,7,1])\n",
    "\n",
    "# np.vectorize() vectorizes a functon which takes arrays and returns one array \n",
    "# based on the workings of the 'vectorized' function \n",
    "pair_maxx = np.vectorize(maxx, otypes=[float])\n",
    "pair_maxx(a,b)"
   ]
  },
  {
   "cell_type": "code",
   "execution_count": null,
   "id": "543db71a-3811-4b56-91e5-0369a0f89b1b",
   "metadata": {},
   "outputs": [],
   "source": [
    "np.vect"
   ]
  }
 ],
 "metadata": {
  "kernelspec": {
   "display_name": "Python 3 (ipykernel)",
   "language": "python",
   "name": "python3"
  },
  "language_info": {
   "codemirror_mode": {
    "name": "ipython",
    "version": 3
   },
   "file_extension": ".py",
   "mimetype": "text/x-python",
   "name": "python",
   "nbconvert_exporter": "python",
   "pygments_lexer": "ipython3",
   "version": "3.12.7"
  }
 },
 "nbformat": 4,
 "nbformat_minor": 5
}
